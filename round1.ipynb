{
 "cells": [
  {
   "cell_type": "markdown",
   "id": "21009763",
   "metadata": {},
   "source": [
    "Check if my-sql-connector is installed! && Installing the seaborn and matplotlib"
   ]
  },
  {
   "cell_type": "code",
   "execution_count": 152,
   "id": "02cd29c6",
   "metadata": {},
   "outputs": [
    {
     "name": "stdout",
     "output_type": "stream",
     "text": [
      "Requirement already satisfied: mysql-connector-python in /home/meta-sapien/anaconda3/lib/python3.10/site-packages (8.2.0)\n",
      "Requirement already satisfied: pandas in /home/meta-sapien/anaconda3/lib/python3.10/site-packages (1.5.3)\n",
      "Requirement already satisfied: protobuf<=4.21.12,>=4.21.1 in /home/meta-sapien/anaconda3/lib/python3.10/site-packages (from mysql-connector-python) (4.21.12)\n",
      "Requirement already satisfied: python-dateutil>=2.8.1 in /home/meta-sapien/anaconda3/lib/python3.10/site-packages (from pandas) (2.8.2)\n",
      "Requirement already satisfied: pytz>=2020.1 in /home/meta-sapien/anaconda3/lib/python3.10/site-packages (from pandas) (2022.7)\n",
      "Requirement already satisfied: numpy>=1.21.0 in /home/meta-sapien/anaconda3/lib/python3.10/site-packages (from pandas) (1.23.5)\n",
      "Requirement already satisfied: six>=1.5 in /home/meta-sapien/anaconda3/lib/python3.10/site-packages (from python-dateutil>=2.8.1->pandas) (1.16.0)\n",
      "Requirement already satisfied: seaborn in /home/meta-sapien/anaconda3/lib/python3.10/site-packages (0.12.2)\n",
      "Requirement already satisfied: matplotlib in /home/meta-sapien/anaconda3/lib/python3.10/site-packages (3.7.0)\n",
      "Requirement already satisfied: numpy!=1.24.0,>=1.17 in /home/meta-sapien/anaconda3/lib/python3.10/site-packages (from seaborn) (1.23.5)\n",
      "Requirement already satisfied: pandas>=0.25 in /home/meta-sapien/anaconda3/lib/python3.10/site-packages (from seaborn) (1.5.3)\n",
      "Requirement already satisfied: kiwisolver>=1.0.1 in /home/meta-sapien/anaconda3/lib/python3.10/site-packages (from matplotlib) (1.4.4)\n",
      "Requirement already satisfied: pyparsing>=2.3.1 in /home/meta-sapien/anaconda3/lib/python3.10/site-packages (from matplotlib) (3.0.9)\n",
      "Requirement already satisfied: cycler>=0.10 in /home/meta-sapien/anaconda3/lib/python3.10/site-packages (from matplotlib) (0.11.0)\n",
      "Requirement already satisfied: fonttools>=4.22.0 in /home/meta-sapien/anaconda3/lib/python3.10/site-packages (from matplotlib) (4.25.0)\n",
      "Requirement already satisfied: packaging>=20.0 in /home/meta-sapien/anaconda3/lib/python3.10/site-packages (from matplotlib) (22.0)\n",
      "Requirement already satisfied: contourpy>=1.0.1 in /home/meta-sapien/anaconda3/lib/python3.10/site-packages (from matplotlib) (1.0.5)\n",
      "Requirement already satisfied: python-dateutil>=2.7 in /home/meta-sapien/anaconda3/lib/python3.10/site-packages (from matplotlib) (2.8.2)\n",
      "Requirement already satisfied: pillow>=6.2.0 in /home/meta-sapien/anaconda3/lib/python3.10/site-packages (from matplotlib) (9.4.0)\n",
      "Requirement already satisfied: pytz>=2020.1 in /home/meta-sapien/anaconda3/lib/python3.10/site-packages (from pandas>=0.25->seaborn) (2022.7)\n",
      "Requirement already satisfied: six>=1.5 in /home/meta-sapien/anaconda3/lib/python3.10/site-packages (from python-dateutil>=2.7->matplotlib) (1.16.0)\n"
     ]
    }
   ],
   "source": [
    "!pip install mysql-connector-python pandas\n",
    "!pip install seaborn matplotlib"
   ]
  },
  {
   "cell_type": "markdown",
   "id": "980bfd1c",
   "metadata": {},
   "source": [
    "## Imports"
   ]
  },
  {
   "cell_type": "code",
   "execution_count": 155,
   "id": "156f39c5",
   "metadata": {},
   "outputs": [],
   "source": [
    "import mysql.connector\n",
    "import pandas as pd\n",
    "import numpy as np\n",
    "\n",
    "import matplotlib.pyplot as plt\n",
    "import seaborn as sns\n",
    "\n",
    "sns.set_palette(\"deep\")\n",
    "sns.set_theme(style=\"whitegrid\", palette=\"deep\")"
   ]
  },
  {
   "cell_type": "code",
   "execution_count": 29,
   "id": "7a06cfd2",
   "metadata": {},
   "outputs": [
    {
     "name": "stdout",
     "output_type": "stream",
     "text": [
      "Connected to MySQL database\n"
     ]
    },
    {
     "name": "stderr",
     "output_type": "stream",
     "text": [
      "/tmp/ipykernel_70826/3688118810.py:22: UserWarning: pandas only supports SQLAlchemy connectable (engine/connection) or database string URI or sqlite3 DBAPI2 connection. Other DBAPI2 objects are not tested. Please consider using SQLAlchemy.\n",
      "  df = pd.read_sql(query, connection)\n"
     ]
    },
    {
     "name": "stdout",
     "output_type": "stream",
     "text": [
      "                      id                user_id        merchant_name  \\\n",
      "0  0-0002-aaee-1674-daed  0-0002-aaee-1674-daed         Beauty Bliss   \n",
      "1  0-0002-ccee-6428-fdee  0-0002-ccee-6428-fdee         Tech Triumph   \n",
      "2  0-0002-cede-5138-bfff  0-0002-cede-5138-bfff            Fit Focus   \n",
      "3  0-0003-ebbb-4215-dcac  0-0003-ebbb-4215-dcac  Artistic Adventures   \n",
      "4  0-0003-fcec-9425-eded  0-0003-fcec-9425-eded    Health Essentials   \n",
      "\n",
      "        merchant_type   mcc  transaction_amount transaction_currency  \\\n",
      "0   Business Services  8761              980670                  EUR   \n",
      "1         Electronics  1357              620547                  BRL   \n",
      "2     Food & Beverage  1236              814795                  CNY   \n",
      "3    Sports & Fitness  2103              604818                  CAD   \n",
      "4  Books & Literature  3454              590565                  CNY   \n",
      "\n",
      "   billing_amount billing_currency transaction_status transaction_timestamp  \\\n",
      "0          656869              AED               1829          1/12/23 9:49   \n",
      "1          177282              AED               1829          1/26/23 6:26   \n",
      "2            6325              AED               1002          2/17/23 2:38   \n",
      "3          519401              AED                  0          1/14/23 8:08   \n",
      "4          681275              AED               1002         1/26/23 19:45   \n",
      "\n",
      "       transaction_type parent_transaction_id    card_entry  \n",
      "0  ACCOUNT_VERIFICATION                  None  Data on file  \n",
      "1              PURCHASE                  None       unknown  \n",
      "2              PURCHASE                  None  Attended POS  \n",
      "3       CASH_WITHDRAWAL                  None  Attended POS  \n",
      "4  ACCOUNT_VERIFICATION                  None   Contactless  \n",
      "MySQL connection closed\n"
     ]
    }
   ],
   "source": [
    "host = \"localhost\"\n",
    "user = \"root\"\n",
    "password = \"new-password\"\n",
    "database = \"zywa\"\n",
    "\n",
    "# Establish a connection to the MySQL: \n",
    "try:\n",
    "    connection = mysql.connector.connect(\n",
    "        host=host,\n",
    "        user=user,\n",
    "        password=password,\n",
    "        database=database\n",
    "    )\n",
    "\n",
    "    if connection.is_connected():\n",
    "        print(\"Connected to MySQL database\")\n",
    "\n",
    "        # QUERY:\n",
    "        query = f\"SELECT * FROM transactions;\"\n",
    "\n",
    "        # execute the query and convert to dataframe object\n",
    "        df = pd.read_sql(query, connection)\n",
    "\n",
    "        print(df.head(5))\n",
    "\n",
    "except mysql.connector.Error as err:\n",
    "    print(f\"Error: {err}\")\n",
    "\n",
    "finally:\n",
    "    # Close the connection\n",
    "    if connection.is_connected():\n",
    "        connection.close()\n",
    "        print(\"CONNECTION CLOSED\")"
   ]
  },
  {
   "cell_type": "code",
   "execution_count": 15,
   "id": "bc64fb67",
   "metadata": {},
   "outputs": [
    {
     "data": {
      "text/html": [
       "<div>\n",
       "<style scoped>\n",
       "    .dataframe tbody tr th:only-of-type {\n",
       "        vertical-align: middle;\n",
       "    }\n",
       "\n",
       "    .dataframe tbody tr th {\n",
       "        vertical-align: top;\n",
       "    }\n",
       "\n",
       "    .dataframe thead th {\n",
       "        text-align: right;\n",
       "    }\n",
       "</style>\n",
       "<table border=\"1\" class=\"dataframe\">\n",
       "  <thead>\n",
       "    <tr style=\"text-align: right;\">\n",
       "      <th></th>\n",
       "      <th>id</th>\n",
       "      <th>user_id</th>\n",
       "      <th>merchant_name</th>\n",
       "      <th>merchant_type</th>\n",
       "      <th>mcc</th>\n",
       "      <th>transaction_amount</th>\n",
       "      <th>transaction_currency</th>\n",
       "      <th>billing_amount</th>\n",
       "      <th>billing_currency</th>\n",
       "      <th>transaction_status</th>\n",
       "      <th>transaction_timestamp</th>\n",
       "      <th>transaction_type</th>\n",
       "      <th>parent_transaction_id</th>\n",
       "      <th>card_entry</th>\n",
       "    </tr>\n",
       "  </thead>\n",
       "  <tbody>\n",
       "    <tr>\n",
       "      <th>0</th>\n",
       "      <td>0-0002-aaee-1674-daed</td>\n",
       "      <td>0-0002-aaee-1674-daed</td>\n",
       "      <td>Beauty Bliss</td>\n",
       "      <td>Business Services</td>\n",
       "      <td>8761</td>\n",
       "      <td>980670</td>\n",
       "      <td>EUR</td>\n",
       "      <td>656869</td>\n",
       "      <td>AED</td>\n",
       "      <td>1829</td>\n",
       "      <td>1/12/23 9:49</td>\n",
       "      <td>ACCOUNT_VERIFICATION</td>\n",
       "      <td>None</td>\n",
       "      <td>Data on file</td>\n",
       "    </tr>\n",
       "    <tr>\n",
       "      <th>1</th>\n",
       "      <td>0-0002-ccee-6428-fdee</td>\n",
       "      <td>0-0002-ccee-6428-fdee</td>\n",
       "      <td>Tech Triumph</td>\n",
       "      <td>Electronics</td>\n",
       "      <td>1357</td>\n",
       "      <td>620547</td>\n",
       "      <td>BRL</td>\n",
       "      <td>177282</td>\n",
       "      <td>AED</td>\n",
       "      <td>1829</td>\n",
       "      <td>1/26/23 6:26</td>\n",
       "      <td>PURCHASE</td>\n",
       "      <td>None</td>\n",
       "      <td>unknown</td>\n",
       "    </tr>\n",
       "    <tr>\n",
       "      <th>2</th>\n",
       "      <td>0-0002-cede-5138-bfff</td>\n",
       "      <td>0-0002-cede-5138-bfff</td>\n",
       "      <td>Fit Focus</td>\n",
       "      <td>Food &amp; Beverage</td>\n",
       "      <td>1236</td>\n",
       "      <td>814795</td>\n",
       "      <td>CNY</td>\n",
       "      <td>6325</td>\n",
       "      <td>AED</td>\n",
       "      <td>1002</td>\n",
       "      <td>2/17/23 2:38</td>\n",
       "      <td>PURCHASE</td>\n",
       "      <td>None</td>\n",
       "      <td>Attended POS</td>\n",
       "    </tr>\n",
       "    <tr>\n",
       "      <th>3</th>\n",
       "      <td>0-0003-ebbb-4215-dcac</td>\n",
       "      <td>0-0003-ebbb-4215-dcac</td>\n",
       "      <td>Artistic Adventures</td>\n",
       "      <td>Sports &amp; Fitness</td>\n",
       "      <td>2103</td>\n",
       "      <td>604818</td>\n",
       "      <td>CAD</td>\n",
       "      <td>519401</td>\n",
       "      <td>AED</td>\n",
       "      <td>0</td>\n",
       "      <td>1/14/23 8:08</td>\n",
       "      <td>CASH_WITHDRAWAL</td>\n",
       "      <td>None</td>\n",
       "      <td>Attended POS</td>\n",
       "    </tr>\n",
       "    <tr>\n",
       "      <th>4</th>\n",
       "      <td>0-0003-fcec-9425-eded</td>\n",
       "      <td>0-0003-fcec-9425-eded</td>\n",
       "      <td>Health Essentials</td>\n",
       "      <td>Books &amp; Literature</td>\n",
       "      <td>3454</td>\n",
       "      <td>590565</td>\n",
       "      <td>CNY</td>\n",
       "      <td>681275</td>\n",
       "      <td>AED</td>\n",
       "      <td>1002</td>\n",
       "      <td>1/26/23 19:45</td>\n",
       "      <td>ACCOUNT_VERIFICATION</td>\n",
       "      <td>None</td>\n",
       "      <td>Contactless</td>\n",
       "    </tr>\n",
       "  </tbody>\n",
       "</table>\n",
       "</div>"
      ],
      "text/plain": [
       "                      id                user_id        merchant_name  \\\n",
       "0  0-0002-aaee-1674-daed  0-0002-aaee-1674-daed         Beauty Bliss   \n",
       "1  0-0002-ccee-6428-fdee  0-0002-ccee-6428-fdee         Tech Triumph   \n",
       "2  0-0002-cede-5138-bfff  0-0002-cede-5138-bfff            Fit Focus   \n",
       "3  0-0003-ebbb-4215-dcac  0-0003-ebbb-4215-dcac  Artistic Adventures   \n",
       "4  0-0003-fcec-9425-eded  0-0003-fcec-9425-eded    Health Essentials   \n",
       "\n",
       "        merchant_type   mcc  transaction_amount transaction_currency  \\\n",
       "0   Business Services  8761              980670                  EUR   \n",
       "1         Electronics  1357              620547                  BRL   \n",
       "2     Food & Beverage  1236              814795                  CNY   \n",
       "3    Sports & Fitness  2103              604818                  CAD   \n",
       "4  Books & Literature  3454              590565                  CNY   \n",
       "\n",
       "   billing_amount billing_currency transaction_status transaction_timestamp  \\\n",
       "0          656869              AED               1829          1/12/23 9:49   \n",
       "1          177282              AED               1829          1/26/23 6:26   \n",
       "2            6325              AED               1002          2/17/23 2:38   \n",
       "3          519401              AED                  0          1/14/23 8:08   \n",
       "4          681275              AED               1002         1/26/23 19:45   \n",
       "\n",
       "       transaction_type parent_transaction_id    card_entry  \n",
       "0  ACCOUNT_VERIFICATION                  None  Data on file  \n",
       "1              PURCHASE                  None       unknown  \n",
       "2              PURCHASE                  None  Attended POS  \n",
       "3       CASH_WITHDRAWAL                  None  Attended POS  \n",
       "4  ACCOUNT_VERIFICATION                  None   Contactless  "
      ]
     },
     "execution_count": 15,
     "metadata": {},
     "output_type": "execute_result"
    }
   ],
   "source": [
    "## check the first few rows of the dataset\n",
    "df.head(5)"
   ]
  },
  {
   "cell_type": "code",
   "execution_count": 16,
   "id": "4cea2df7",
   "metadata": {},
   "outputs": [
    {
     "data": {
      "text/plain": [
       "(109000, 14)"
      ]
     },
     "execution_count": 16,
     "metadata": {},
     "output_type": "execute_result"
    }
   ],
   "source": [
    "## check the shape of dataframe\n",
    "df.shape"
   ]
  },
  {
   "cell_type": "code",
   "execution_count": 17,
   "id": "a95b9942",
   "metadata": {},
   "outputs": [],
   "source": [
    "## convert the dataframe into csv for future analysis and manipulation\n",
    "df.to_csv('df_csvfile.csv')"
   ]
  },
  {
   "cell_type": "markdown",
   "id": "79d778f7",
   "metadata": {},
   "source": [
    "## metadata:\n",
    "\n",
    "\n",
    "| Column Name            | Description                                                |\n",
    "|------------------------|------------------------------------------------------------|\n",
    "| id                     | Unique identifier for each transaction.                    |\n",
    "| user_id                | Identifier for the user involved in the transaction.       |\n",
    "| merchant_name          | Name of the merchant involved in the transaction.          |\n",
    "| merchant_type          | Type or category of the merchant.                          |\n",
    "| mcc                    | Merchant Category Code, a standardized code for the type of business. |\n",
    "| transaction_amount     | The amount involved in the transaction.                    |\n",
    "| transaction_currency   | Currency of the transaction amount.                         |\n",
    "| billing_amount         | Amount billed for the transaction.                          |\n",
    "| billing_currency       | Currency of the billing amount.                             |\n",
    "| transaction_status     | Status of the transaction (e.g., completed, pending).      |\n",
    "| transaction_timestamp  | Timestamp indicating when the transaction occurred.       |\n",
    "| transaction_type       | Type of transaction (e.g., purchase, cast withdrawal).              |\n",
    "| parent_transaction_id  | Identifier of the parent transaction if applicable.        |\n",
    "| card_entry             | Method used for entering the card information (e.g., POS, contactless). |\n"
   ]
  },
  {
   "cell_type": "markdown",
   "id": "c497d559",
   "metadata": {},
   "source": [
    "## Descriptive Statistics:"
   ]
  },
  {
   "cell_type": "code",
   "execution_count": 21,
   "id": "082b9ed7",
   "metadata": {},
   "outputs": [
    {
     "name": "stdout",
     "output_type": "stream",
     "text": [
      "<class 'pandas.core.frame.DataFrame'>\n",
      "RangeIndex: 109000 entries, 0 to 108999\n",
      "Data columns (total 14 columns):\n",
      " #   Column                 Non-Null Count   Dtype \n",
      "---  ------                 --------------   ----- \n",
      " 0   id                     109000 non-null  object\n",
      " 1   user_id                109000 non-null  object\n",
      " 2   merchant_name          109000 non-null  object\n",
      " 3   merchant_type          109000 non-null  object\n",
      " 4   mcc                    109000 non-null  object\n",
      " 5   transaction_amount     109000 non-null  int64 \n",
      " 6   transaction_currency   109000 non-null  object\n",
      " 7   billing_amount         109000 non-null  int64 \n",
      " 8   billing_currency       109000 non-null  object\n",
      " 9   transaction_status     109000 non-null  object\n",
      " 10  transaction_timestamp  109000 non-null  object\n",
      " 11  transaction_type       109000 non-null  object\n",
      " 12  parent_transaction_id  5346 non-null    object\n",
      " 13  card_entry             109000 non-null  object\n",
      "dtypes: int64(2), object(12)\n",
      "memory usage: 11.6+ MB\n"
     ]
    }
   ],
   "source": [
    "df.info()"
   ]
  },
  {
   "cell_type": "code",
   "execution_count": 23,
   "id": "8f85a931",
   "metadata": {},
   "outputs": [
    {
     "data": {
      "text/html": [
       "<div>\n",
       "<style scoped>\n",
       "    .dataframe tbody tr th:only-of-type {\n",
       "        vertical-align: middle;\n",
       "    }\n",
       "\n",
       "    .dataframe tbody tr th {\n",
       "        vertical-align: top;\n",
       "    }\n",
       "\n",
       "    .dataframe thead th {\n",
       "        text-align: right;\n",
       "    }\n",
       "</style>\n",
       "<table border=\"1\" class=\"dataframe\">\n",
       "  <thead>\n",
       "    <tr style=\"text-align: right;\">\n",
       "      <th></th>\n",
       "      <th>transaction_amount</th>\n",
       "      <th>billing_amount</th>\n",
       "    </tr>\n",
       "  </thead>\n",
       "  <tbody>\n",
       "    <tr>\n",
       "      <th>count</th>\n",
       "      <td>109000.000000</td>\n",
       "      <td>109000.000000</td>\n",
       "    </tr>\n",
       "    <tr>\n",
       "      <th>mean</th>\n",
       "      <td>497936.069881</td>\n",
       "      <td>498441.848789</td>\n",
       "    </tr>\n",
       "    <tr>\n",
       "      <th>std</th>\n",
       "      <td>288905.493064</td>\n",
       "      <td>288186.224081</td>\n",
       "    </tr>\n",
       "    <tr>\n",
       "      <th>min</th>\n",
       "      <td>37.000000</td>\n",
       "      <td>2.000000</td>\n",
       "    </tr>\n",
       "    <tr>\n",
       "      <th>25%</th>\n",
       "      <td>248186.500000</td>\n",
       "      <td>249183.500000</td>\n",
       "    </tr>\n",
       "    <tr>\n",
       "      <th>50%</th>\n",
       "      <td>495231.000000</td>\n",
       "      <td>497928.000000</td>\n",
       "    </tr>\n",
       "    <tr>\n",
       "      <th>75%</th>\n",
       "      <td>749011.000000</td>\n",
       "      <td>747805.250000</td>\n",
       "    </tr>\n",
       "    <tr>\n",
       "      <th>max</th>\n",
       "      <td>999992.000000</td>\n",
       "      <td>999990.000000</td>\n",
       "    </tr>\n",
       "  </tbody>\n",
       "</table>\n",
       "</div>"
      ],
      "text/plain": [
       "       transaction_amount  billing_amount\n",
       "count       109000.000000   109000.000000\n",
       "mean        497936.069881   498441.848789\n",
       "std         288905.493064   288186.224081\n",
       "min             37.000000        2.000000\n",
       "25%         248186.500000   249183.500000\n",
       "50%         495231.000000   497928.000000\n",
       "75%         749011.000000   747805.250000\n",
       "max         999992.000000   999990.000000"
      ]
     },
     "execution_count": 23,
     "metadata": {},
     "output_type": "execute_result"
    }
   ],
   "source": [
    "## Transaction amount and billing amount are the two numerical variables\n",
    "df.describe()"
   ]
  },
  {
   "cell_type": "code",
   "execution_count": 26,
   "id": "033f5788",
   "metadata": {},
   "outputs": [
    {
     "data": {
      "text/html": [
       "<div>\n",
       "<style scoped>\n",
       "    .dataframe tbody tr th:only-of-type {\n",
       "        vertical-align: middle;\n",
       "    }\n",
       "\n",
       "    .dataframe tbody tr th {\n",
       "        vertical-align: top;\n",
       "    }\n",
       "\n",
       "    .dataframe thead th {\n",
       "        text-align: right;\n",
       "    }\n",
       "</style>\n",
       "<table border=\"1\" class=\"dataframe\">\n",
       "  <thead>\n",
       "    <tr style=\"text-align: right;\">\n",
       "      <th></th>\n",
       "      <th>id</th>\n",
       "      <th>user_id</th>\n",
       "      <th>merchant_name</th>\n",
       "      <th>merchant_type</th>\n",
       "      <th>mcc</th>\n",
       "      <th>transaction_currency</th>\n",
       "      <th>billing_currency</th>\n",
       "      <th>transaction_status</th>\n",
       "      <th>transaction_timestamp</th>\n",
       "      <th>transaction_type</th>\n",
       "      <th>parent_transaction_id</th>\n",
       "      <th>card_entry</th>\n",
       "    </tr>\n",
       "  </thead>\n",
       "  <tbody>\n",
       "    <tr>\n",
       "      <th>count</th>\n",
       "      <td>109000</td>\n",
       "      <td>109000</td>\n",
       "      <td>109000</td>\n",
       "      <td>109000</td>\n",
       "      <td>109000</td>\n",
       "      <td>109000</td>\n",
       "      <td>109000</td>\n",
       "      <td>109000</td>\n",
       "      <td>109000</td>\n",
       "      <td>109000</td>\n",
       "      <td>5346</td>\n",
       "      <td>109000</td>\n",
       "    </tr>\n",
       "    <tr>\n",
       "      <th>unique</th>\n",
       "      <td>109000</td>\n",
       "      <td>103784</td>\n",
       "      <td>95</td>\n",
       "      <td>42</td>\n",
       "      <td>41</td>\n",
       "      <td>155</td>\n",
       "      <td>1</td>\n",
       "      <td>6</td>\n",
       "      <td>109000</td>\n",
       "      <td>4</td>\n",
       "      <td>5346</td>\n",
       "      <td>4</td>\n",
       "    </tr>\n",
       "    <tr>\n",
       "      <th>top</th>\n",
       "      <td>0-0002-aaee-1674-daed</td>\n",
       "      <td>1-3804-fcfe-6636-cbed</td>\n",
       "      <td>Beauty Bliss</td>\n",
       "      <td>Tech Products</td>\n",
       "      <td>2468</td>\n",
       "      <td>CNY</td>\n",
       "      <td>AED</td>\n",
       "      <td>0</td>\n",
       "      <td>1/12/23 9:49</td>\n",
       "      <td>PURCHASE</td>\n",
       "      <td>8-3978-fdfe-2094-fbdf</td>\n",
       "      <td>unknown</td>\n",
       "    </tr>\n",
       "    <tr>\n",
       "      <th>freq</th>\n",
       "      <td>1</td>\n",
       "      <td>2</td>\n",
       "      <td>2233</td>\n",
       "      <td>6825</td>\n",
       "      <td>4470</td>\n",
       "      <td>20047</td>\n",
       "      <td>109000</td>\n",
       "      <td>18274</td>\n",
       "      <td>1</td>\n",
       "      <td>65678</td>\n",
       "      <td>1</td>\n",
       "      <td>43595</td>\n",
       "    </tr>\n",
       "  </tbody>\n",
       "</table>\n",
       "</div>"
      ],
      "text/plain": [
       "                           id                user_id merchant_name  \\\n",
       "count                  109000                 109000        109000   \n",
       "unique                 109000                 103784            95   \n",
       "top     0-0002-aaee-1674-daed  1-3804-fcfe-6636-cbed  Beauty Bliss   \n",
       "freq                        1                      2          2233   \n",
       "\n",
       "        merchant_type     mcc transaction_currency billing_currency  \\\n",
       "count          109000  109000               109000           109000   \n",
       "unique             42      41                  155                1   \n",
       "top     Tech Products    2468                  CNY              AED   \n",
       "freq             6825    4470                20047           109000   \n",
       "\n",
       "       transaction_status transaction_timestamp transaction_type  \\\n",
       "count              109000                109000           109000   \n",
       "unique                  6                109000                4   \n",
       "top                     0          1/12/23 9:49         PURCHASE   \n",
       "freq                18274                     1            65678   \n",
       "\n",
       "        parent_transaction_id card_entry  \n",
       "count                    5346     109000  \n",
       "unique                   5346          4  \n",
       "top     8-3978-fdfe-2094-fbdf    unknown  \n",
       "freq                        1      43595  "
      ]
     },
     "execution_count": 26,
     "metadata": {},
     "output_type": "execute_result"
    }
   ],
   "source": [
    "## check the categorical columns:\n",
    "df.select_dtypes(include=['object']).describe()"
   ]
  },
  {
   "cell_type": "markdown",
   "id": "abf80003",
   "metadata": {},
   "source": [
    "1. There are 103784 unique user ID in the dataset\n",
    "2. Beauty Bliss is the most preferred merchant\n",
    "3. most preferred merchant_type is Tech Products\n",
    "4. Most transaction are done in CNY: Chinese Yuan Renminbi\n",
    "5. There are 155 Unique currencies\n",
    "\n",
    "More insights to be discovered at the later stages:"
   ]
  },
  {
   "cell_type": "code",
   "execution_count": 245,
   "id": "5c028e1b",
   "metadata": {},
   "outputs": [],
   "source": [
    "## this is a scraped conversion rates, Can ignore, already dumped in the mysql database. "
   ]
  },
  {
   "cell_type": "code",
   "execution_count": 226,
   "id": "695db7e2",
   "metadata": {},
   "outputs": [
    {
     "name": "stdout",
     "output_type": "stream",
     "text": [
      "    Currency  CONVERSION TO AED\n",
      "0        EUR           4.049301\n",
      "1        BRL           0.754355\n",
      "2        CNY           0.514911\n",
      "3        CAD           2.767739\n",
      "4        IDR           0.000238\n",
      "..       ...                ...\n",
      "150      SHP           2.900000\n",
      "151      TOP           1.570000\n",
      "152      FKP           4.650000\n",
      "153      BMD           3.670000\n",
      "154      DZD           0.030000\n",
      "\n",
      "[155 rows x 2 columns]\n"
     ]
    }
   ],
   "source": [
    "## currency conversion for the transactions data\n",
    "from io import StringIO\n",
    "\n",
    "data = \"\"\"Currency,CONVERSION TO AED\n",
    "EUR,4.049301\n",
    "BRL,0.754355\n",
    "CNY,0.514911\n",
    "CAD,2.767739\n",
    "IDR,0.000238\n",
    "SYP,0.000282\n",
    "PLN,0.93\n",
    "UAH,0.1\n",
    "CZK,0.16\n",
    "HTG,0.03\n",
    "PEN,0.99\n",
    "PHP,0.07\n",
    "USD,3.67\n",
    "THB,0.11\n",
    "MYR,0.79\n",
    "MXN,0.22\n",
    "ZAR,0.2\n",
    "MKD,0.07\n",
    "AMD,0.01\n",
    "MZN,0.06\n",
    "RUB,0.04\n",
    "JOD,5.18\n",
    "JPY,0.03\n",
    "SEK,0.37\n",
    "TND,1.19\n",
    "ILS,1.02\n",
    "BDT,0.03\n",
    "FJD,1.67\n",
    "HRK,0.53\n",
    "MAD,0.37\n",
    "NOK,0.36\n",
    "PGK,0.98\n",
    "KMF,0.01\n",
    "VND,0.000151\n",
    "ARS,0.004563\n",
    "PAB,3.67\n",
    "MWK,0.002182\n",
    "MNT,0.001069\n",
    "VEF,0.000001029237\n",
    "YER,0.01\n",
    "RSD,0.03\n",
    "UGX,0.000976\n",
    "CRC,0.01\n",
    "SDG,0.01\n",
    "EGP,0.12\n",
    "GTQ,0.47\n",
    "UYU,0.09\n",
    "HUF,0.01\n",
    "XOF,0.01\n",
    "XAF,0.01\n",
    "LKR,0.01\n",
    "MDL,0.21\n",
    "LTL,1.24\n",
    "HNL,0.15\n",
    "NIO,0.1\n",
    "IRR,0.000086897378\n",
    "LYD,0.77\n",
    "KZT,0.01\n",
    "UZS,0.000297\n",
    "SAR,0.98\n",
    "DKK,0.54\n",
    "NGN,0.004068\n",
    "COP,0.000933\n",
    "BWP,0.27\n",
    "KES,0.02\n",
    "ALL,0.04\n",
    "GMD,0.05\n",
    "NPR,0.03\n",
    "OMR,9.54\n",
    "GBP,4.67\n",
    "DOP,0.06\n",
    "MGA,0.000797\n",
    "PKR,0.01\n",
    "AFN,0.05\n",
    "MVR,0.24\n",
    "ZMW,0.14\n",
    "KPW,0.00408\n",
    "NAD,0.2\n",
    "CUP,3.67\n",
    "CDF,0.001284\n",
    "LRD,0.02\n",
    "TZS,0.00146\n",
    "MUR,0.08\n",
    "AZN,2.16\n",
    "BYR,1.11\n",
    "BGN,2.07\n",
    "AOA,0.004417\n",
    "KRW,0.002832\n",
    "XCD,1.36\n",
    "BOB,0.53\n",
    "JMD,0.02\n",
    "PYG,0.000498\n",
    "KGS,0.04\n",
    "BAM,2.07\n",
    "CLP,0.004167\n",
    "GHS,0.31\n",
    "TJS,0.34\n",
    "AUD,2.51\n",
    "XPF,0.03\n",
    "GEL,1.37\n",
    "SLL,0.000186\n",
    "ZWL,0.01\n",
    "SBD,0.44\n",
    "KHR,0.000895\n",
    "IQD,0.002804\n",
    "MMK,0.001749\n",
    "ETB,0.07\n",
    "BSD,3.67\n",
    "NZD,2.32\n",
    "RON,0.81\n",
    "STD,2.9\n",
    "MOP,0.46\n",
    "HKD,0.47\n",
    "TMT,1.05\n",
    "WST,1.36\n",
    "AED,1\n",
    "LAK,0.000179\n",
    "KWD,11.95\n",
    "GNF,0.000427\n",
    "SOS,0.01\n",
    "MRO,0.09\n",
    "BHD,9.74\n",
    "BTN,0.04\n",
    "BIF,0.00129\n",
    "LSL,0.2\n",
    "TWD,0.12\n",
    "QAR,1.01\n",
    "CHF,4.3\n",
    "SGD,2.78\n",
    "SZL,0.2\n",
    "ANG,2.04\n",
    "SCR,0.27\n",
    "SRD,0.1\n",
    "INR,0.04\n",
    "CVE,0.04\n",
    "TTD,0.54\n",
    "BZD,1.82\n",
    "SSP,1.82\n",
    "RWF,0.002924\n",
    "LBP,0.000244\n",
    "BND,2.77\n",
    "ISK,0.03\n",
    "ERN,0.24\n",
    "BBD,1.82\n",
    "GYD,0.02\n",
    "KYD,4.41\n",
    "TRY,0.13\n",
    "DJF,0.02\n",
    "AWG,2.04\n",
    "VUV,0.03\n",
    "SHP,2.9\n",
    "TOP,1.57\n",
    "FKP,4.65\n",
    "BMD,3.67\n",
    "DZD,0.03\"\"\"\n",
    "\n",
    "# Creating a DataFrame\n",
    "currency = pd.read_csv(StringIO(data))\n",
    "\n",
    "# Displaying the DataFrame\n",
    "print(currency)"
   ]
  },
  {
   "cell_type": "code",
   "execution_count": 227,
   "id": "d2f8fa7d",
   "metadata": {},
   "outputs": [],
   "source": [
    "currency.to_csv('currency_to_AED.csv')"
   ]
  },
  {
   "cell_type": "markdown",
   "id": "c2ede530",
   "metadata": {},
   "source": [
    "## SQL Queries\n",
    "\n",
    "### Monthly transactions\n",
    "\n",
    "Need how much amount we have processed each month cummutative and every month.\n",
    "\n",
    "### **Most Popular Products/Services:**\n",
    "\n",
    "Design a SQL query to identify the top 5 most popular products or services based on transaction counts.\n",
    "\n",
    "### **Daily Revenue Trend:**\n",
    "\n",
    "Formulate a SQL query to visualize the daily revenue trend over time.\n",
    "\n",
    "### **Average Transaction Amount by Product Category:**\n",
    "\n",
    "Formulate a SQL query to find the average transaction amount for each product category.\n",
    "\n",
    "### **Transaction Funnel Analysis:**\n",
    "\n",
    "Create a SQL query to analyze the transaction funnel, including completed, pending, and cancelled transactions.\n",
    "\n",
    "### **Monthly Retention Rate:**\n",
    "\n",
    "Design a SQL query to calculate the Monthly Retention Rate, grouping users into monthly cohorts."
   ]
  },
  {
   "cell_type": "markdown",
   "id": "45d51b37",
   "metadata": {},
   "source": [
    "## Monthly Transactions:"
   ]
  },
  {
   "cell_type": "code",
   "execution_count": 63,
   "id": "e838768d",
   "metadata": {},
   "outputs": [],
   "source": [
    "## Main driver code: Converted to the function:\n",
    "def MYSQL_QUERY(query):\n",
    "    try:\n",
    "        # Connect to the local database\n",
    "        connection = mysql.connector.connect(\n",
    "            host=\"localhost\",\n",
    "            user=\"root\",\n",
    "            password=\"new-password\",\n",
    "            database=\"zywa\"\n",
    "        )\n",
    "\n",
    "        if connection.is_connected():\n",
    "            print(\"Connected to MySQL database\")\n",
    "            cursor = connection.cursor()\n",
    "            cursor.execute(query)\n",
    "            \n",
    "            result = cursor.fetchall()\n",
    "            print(result)\n",
    "            \n",
    "            return result\n",
    "\n",
    "    except mysql.connector.Error as err:\n",
    "        print(f\"Error: {err}\")\n",
    "\n",
    "    finally:\n",
    "        if connection.is_connected():\n",
    "            connection.close()\n",
    "            print(\"Connection closed\")"
   ]
  },
  {
   "cell_type": "code",
   "execution_count": 233,
   "id": "91117a41",
   "metadata": {},
   "outputs": [],
   "source": [
    "query1 = \"\"\"\n",
    "\n",
    "SELECT DATE_FORMAT(STR_TO_DATE(transaction_timestamp, '%m/%d/%y %H:%i'), '%Y-%m') AS month_format_timestamp, \n",
    "    t.transaction_timestamp AS string_format_timestamp,\n",
    "    t.transaction_amount * cr.ConversionRate AS new_transaction_amount\n",
    "FROM transactions t INNER JOIN currency_rates cr ON t.transaction_currency = cr.Currency \n",
    "LIMIT 10;\n",
    "\n",
    "\"\"\""
   ]
  },
  {
   "cell_type": "code",
   "execution_count": 234,
   "id": "11e1a7f6",
   "metadata": {},
   "outputs": [
    {
     "name": "stdout",
     "output_type": "stream",
     "text": [
      "Connected to MySQL database\n",
      "[('2023-01', '1/12/23 9:49', 3971028.1562805176), ('2023-01', '1/26/23 6:26', 468112.7404820323), ('2023-02', '2/17/23 2:38', 419546.90495342016), ('2023-01', '1/14/23 8:08', 1673978.4013037682), ('2023-01', '1/26/23 19:45', 304088.41232925653), ('2023-02', '2/25/23 2:44', 61.326410263282014), ('2023-01', '1/26/23 15:22', 126.61715112806996), ('2023-02', '2/23/23 18:37', 331615.6825504303), ('2023-03', '3/16/23 23:05', 31249.000465646386), ('2023-02', '2/6/23 16:13', 158762.39645138383)]\n",
      "Connection closed\n"
     ]
    },
    {
     "name": "stderr",
     "output_type": "stream",
     "text": [
      "/tmp/ipykernel_70826/230398598.py:20: UserWarning:\n",
      "\n",
      "pandas only supports SQLAlchemy connectable (engine/connection) or database string URI or sqlite3 DBAPI2 connection. Other DBAPI2 objects are not tested. Please consider using SQLAlchemy.\n",
      "\n"
     ]
    }
   ],
   "source": [
    "result1 = MYSQL_QUERY(query1)"
   ]
  },
  {
   "cell_type": "code",
   "execution_count": 235,
   "id": "76570cf9",
   "metadata": {},
   "outputs": [],
   "source": [
    "## the conversion is working fine"
   ]
  },
  {
   "cell_type": "code",
   "execution_count": 236,
   "id": "900f3f4c",
   "metadata": {},
   "outputs": [],
   "source": [
    "query2 = \"\"\"\n",
    "\n",
    "SELECT DISTINCT(DATE_FORMAT(STR_TO_DATE(transaction_timestamp, '%m/%d/%y %H:%i'), '%Y-%m')) AS month\n",
    "FROM transactions\n",
    "\"\"\""
   ]
  },
  {
   "cell_type": "code",
   "execution_count": 237,
   "id": "ca00639a",
   "metadata": {},
   "outputs": [
    {
     "name": "stdout",
     "output_type": "stream",
     "text": [
      "Connected to MySQL database\n",
      "[('2023-01',), ('2023-02',), ('2023-03',)]\n",
      "Connection closed\n"
     ]
    },
    {
     "name": "stderr",
     "output_type": "stream",
     "text": [
      "/tmp/ipykernel_70826/230398598.py:20: UserWarning:\n",
      "\n",
      "pandas only supports SQLAlchemy connectable (engine/connection) or database string URI or sqlite3 DBAPI2 connection. Other DBAPI2 objects are not tested. Please consider using SQLAlchemy.\n",
      "\n"
     ]
    }
   ],
   "source": [
    "result2 = MYSQL_QUERY(query2)"
   ]
  },
  {
   "cell_type": "markdown",
   "id": "f69abd1e",
   "metadata": {},
   "source": [
    "The dataset corresponds to the months of January, February, and March in the year 2023."
   ]
  },
  {
   "cell_type": "code",
   "execution_count": 97,
   "id": "69d3607f",
   "metadata": {},
   "outputs": [],
   "source": [
    "query3 = \"\"\"\n",
    "SELECT DATE_FORMAT(STR_TO_DATE(transaction_timestamp, '%m/%d/%y %H:%i'), '%Y-%m') AS month,\n",
    "        SUM(billing_amount) AS total_billing_amount_processed_AED\n",
    "FROM transactions\n",
    "GROUP BY month\n",
    "ORDER BY month\n",
    "\n",
    "\"\"\""
   ]
  },
  {
   "cell_type": "code",
   "execution_count": 98,
   "id": "ee94dd5a",
   "metadata": {},
   "outputs": [
    {
     "name": "stdout",
     "output_type": "stream",
     "text": [
      "Connected to MySQL database\n",
      "[('2023-01', Decimal('22208281287')), ('2023-02', Decimal('20084188114')), ('2023-03', Decimal('12037692117'))]\n",
      "Connection closed\n"
     ]
    },
    {
     "name": "stderr",
     "output_type": "stream",
     "text": [
      "/tmp/ipykernel_70826/230398598.py:20: UserWarning: pandas only supports SQLAlchemy connectable (engine/connection) or database string URI or sqlite3 DBAPI2 connection. Other DBAPI2 objects are not tested. Please consider using SQLAlchemy.\n",
      "  df = pd.read_sql(query, connection)\n"
     ]
    }
   ],
   "source": [
    "result3 = MYSQL_QUERY(query3)"
   ]
  },
  {
   "cell_type": "code",
   "execution_count": 119,
   "id": "ddb54a12",
   "metadata": {},
   "outputs": [
    {
     "data": {
      "text/html": [
       "<div>\n",
       "<style scoped>\n",
       "    .dataframe tbody tr th:only-of-type {\n",
       "        vertical-align: middle;\n",
       "    }\n",
       "\n",
       "    .dataframe tbody tr th {\n",
       "        vertical-align: top;\n",
       "    }\n",
       "\n",
       "    .dataframe thead th {\n",
       "        text-align: right;\n",
       "    }\n",
       "</style>\n",
       "<table border=\"1\" class=\"dataframe\">\n",
       "  <thead>\n",
       "    <tr style=\"text-align: right;\">\n",
       "      <th></th>\n",
       "      <th>month</th>\n",
       "      <th>total_billing_amount_processed_AED</th>\n",
       "    </tr>\n",
       "  </thead>\n",
       "  <tbody>\n",
       "    <tr>\n",
       "      <th>0</th>\n",
       "      <td>2023-01</td>\n",
       "      <td>2.220828e+10</td>\n",
       "    </tr>\n",
       "    <tr>\n",
       "      <th>1</th>\n",
       "      <td>2023-02</td>\n",
       "      <td>2.008419e+10</td>\n",
       "    </tr>\n",
       "    <tr>\n",
       "      <th>2</th>\n",
       "      <td>2023-03</td>\n",
       "      <td>1.203769e+10</td>\n",
       "    </tr>\n",
       "  </tbody>\n",
       "</table>\n",
       "</div>"
      ],
      "text/plain": [
       "     month  total_billing_amount_processed_AED\n",
       "0  2023-01                        2.220828e+10\n",
       "1  2023-02                        2.008419e+10\n",
       "2  2023-03                        1.203769e+10"
      ]
     },
     "execution_count": 119,
     "metadata": {},
     "output_type": "execute_result"
    }
   ],
   "source": [
    "result3"
   ]
  },
  {
   "cell_type": "code",
   "execution_count": 120,
   "id": "2b25ce66",
   "metadata": {},
   "outputs": [
    {
     "data": {
      "text/html": [
       "<div>\n",
       "<style scoped>\n",
       "    .dataframe tbody tr th:only-of-type {\n",
       "        vertical-align: middle;\n",
       "    }\n",
       "\n",
       "    .dataframe tbody tr th {\n",
       "        vertical-align: top;\n",
       "    }\n",
       "\n",
       "    .dataframe thead th {\n",
       "        text-align: right;\n",
       "    }\n",
       "</style>\n",
       "<table border=\"1\" class=\"dataframe\">\n",
       "  <thead>\n",
       "    <tr style=\"text-align: right;\">\n",
       "      <th></th>\n",
       "      <th>month</th>\n",
       "      <th>total_billing_amount_processed_AED</th>\n",
       "      <th>cumulative_amount</th>\n",
       "    </tr>\n",
       "  </thead>\n",
       "  <tbody>\n",
       "    <tr>\n",
       "      <th>0</th>\n",
       "      <td>2023-01</td>\n",
       "      <td>2.220828e+10</td>\n",
       "      <td>2.220828e+10</td>\n",
       "    </tr>\n",
       "    <tr>\n",
       "      <th>1</th>\n",
       "      <td>2023-02</td>\n",
       "      <td>2.008419e+10</td>\n",
       "      <td>4.229247e+10</td>\n",
       "    </tr>\n",
       "    <tr>\n",
       "      <th>2</th>\n",
       "      <td>2023-03</td>\n",
       "      <td>1.203769e+10</td>\n",
       "      <td>5.433016e+10</td>\n",
       "    </tr>\n",
       "  </tbody>\n",
       "</table>\n",
       "</div>"
      ],
      "text/plain": [
       "     month  total_billing_amount_processed_AED  cumulative_amount\n",
       "0  2023-01                        2.220828e+10       2.220828e+10\n",
       "1  2023-02                        2.008419e+10       4.229247e+10\n",
       "2  2023-03                        1.203769e+10       5.433016e+10"
      ]
     },
     "execution_count": 120,
     "metadata": {},
     "output_type": "execute_result"
    }
   ],
   "source": [
    "result3['cumulative_amount'] = result3['total_billing_amount_processed_AED'].cumsum()\n",
    "result3"
   ]
  },
  {
   "cell_type": "code",
   "execution_count": 224,
   "id": "4648adcf",
   "metadata": {},
   "outputs": [
    {
     "data": {
      "image/png": "[encoded data removed]",
      "text/plain": [
       "<Figure size 1000x600 with 2 Axes>"
      ]
     },
     "metadata": {},
     "output_type": "display_data"
    }
   ],
   "source": [
    "## Graphing\n",
    "\n",
    "plt.figure(figsize=(10, 6))\n",
    "sns.barplot(x='month',\n",
    "            y='total_billing_amount_processed_AED',\n",
    "            data=result3, \n",
    "            color='steelblue')\n",
    "plt.title('Total Billing Amount Processed (AED)')\n",
    "plt.xlabel('Month')\n",
    "plt.ylabel('Total Billing Amount (AED)')\n",
    "plt.title('Monthly Billing Amount')\n",
    "\n",
    "# Trendline for cumulative amount\n",
    "ax2 = plt.twinx()\n",
    "sns.lineplot(x='month',\n",
    "             y='cumulative_amount',\n",
    "             data=result3,\n",
    "             color='orange',\n",
    "             marker='o',\n",
    "             ax=ax2)\n",
    "ax2.set_ylabel('Cumulative Amount (AED)')\n",
    "\n",
    "plt.show()"
   ]
  },
  {
   "cell_type": "code",
   "execution_count": 241,
   "id": "b45996a2",
   "metadata": {},
   "outputs": [],
   "source": [
    "query3B = \"\"\"\n",
    "SELECT \n",
    "    DATE_FORMAT(STR_TO_DATE(transaction_timestamp, '%m/%d/%y %H:%i'), '%Y-%m') AS month,\n",
    "    SUM(t.transaction_amount * cr.ConversionRate) AS total_transaction_amount_processed_AED\n",
    "FROM \n",
    "    transactions t\n",
    "INNER JOIN \n",
    "    currency_rates cr ON t.transaction_currency = cr.Currency\n",
    "GROUP BY \n",
    "    month\n",
    "ORDER BY \n",
    "    month;\n",
    "\n",
    "\"\"\""
   ]
  },
  {
   "cell_type": "code",
   "execution_count": 242,
   "id": "33422206",
   "metadata": {},
   "outputs": [
    {
     "name": "stdout",
     "output_type": "stream",
     "text": [
      "Connected to MySQL database\n",
      "[('2023-01', 20127456567.528862), ('2023-02', 18508929903.5384), ('2023-03', 10764602233.130764)]\n",
      "Connection closed\n"
     ]
    },
    {
     "name": "stderr",
     "output_type": "stream",
     "text": [
      "/tmp/ipykernel_70826/230398598.py:20: UserWarning:\n",
      "\n",
      "pandas only supports SQLAlchemy connectable (engine/connection) or database string URI or sqlite3 DBAPI2 connection. Other DBAPI2 objects are not tested. Please consider using SQLAlchemy.\n",
      "\n"
     ]
    }
   ],
   "source": [
    "result3B = MYSQL_QUERY(query3B)"
   ]
  },
  {
   "cell_type": "code",
   "execution_count": 243,
   "id": "ddf45a7a",
   "metadata": {},
   "outputs": [
    {
     "data": {
      "text/html": [
       "<div>\n",
       "<style scoped>\n",
       "    .dataframe tbody tr th:only-of-type {\n",
       "        vertical-align: middle;\n",
       "    }\n",
       "\n",
       "    .dataframe tbody tr th {\n",
       "        vertical-align: top;\n",
       "    }\n",
       "\n",
       "    .dataframe thead th {\n",
       "        text-align: right;\n",
       "    }\n",
       "</style>\n",
       "<table border=\"1\" class=\"dataframe\">\n",
       "  <thead>\n",
       "    <tr style=\"text-align: right;\">\n",
       "      <th></th>\n",
       "      <th>month</th>\n",
       "      <th>total_transaction_amount_processed_AED</th>\n",
       "      <th>cumulative_amount</th>\n",
       "    </tr>\n",
       "  </thead>\n",
       "  <tbody>\n",
       "    <tr>\n",
       "      <th>0</th>\n",
       "      <td>2023-01</td>\n",
       "      <td>2.012746e+10</td>\n",
       "      <td>2.012746e+10</td>\n",
       "    </tr>\n",
       "    <tr>\n",
       "      <th>1</th>\n",
       "      <td>2023-02</td>\n",
       "      <td>1.850893e+10</td>\n",
       "      <td>3.863639e+10</td>\n",
       "    </tr>\n",
       "    <tr>\n",
       "      <th>2</th>\n",
       "      <td>2023-03</td>\n",
       "      <td>1.076460e+10</td>\n",
       "      <td>4.940099e+10</td>\n",
       "    </tr>\n",
       "  </tbody>\n",
       "</table>\n",
       "</div>"
      ],
      "text/plain": [
       "     month  total_transaction_amount_processed_AED  cumulative_amount\n",
       "0  2023-01                            2.012746e+10       2.012746e+10\n",
       "1  2023-02                            1.850893e+10       3.863639e+10\n",
       "2  2023-03                            1.076460e+10       4.940099e+10"
      ]
     },
     "execution_count": 243,
     "metadata": {},
     "output_type": "execute_result"
    }
   ],
   "source": [
    "result3B['cumulative_amount'] = result3B['total_transaction_amount_processed_AED'].cumsum()\n",
    "result3B"
   ]
  },
  {
   "cell_type": "code",
   "execution_count": 244,
   "id": "78606cf0",
   "metadata": {},
   "outputs": [
    {
     "data": {
      "image/png": "[encoded data removed]",
      "text/plain": [
       "<Figure size 1000x600 with 2 Axes>"
      ]
     },
     "metadata": {},
     "output_type": "display_data"
    }
   ],
   "source": [
    "## Graphing\n",
    "\n",
    "plt.figure(figsize=(10, 6))\n",
    "sns.barplot(x='month',\n",
    "            y='total_transaction_amount_processed_AED',\n",
    "            data=result3B, \n",
    "            color='steelblue')\n",
    "plt.title('Total Transaction Amount Processed (AED)')\n",
    "plt.xlabel('Month')\n",
    "plt.ylabel('Total Transaction Amount (AED)')\n",
    "plt.title('Monthly Transaction Amount')\n",
    "\n",
    "# Trendline for cumulative amount\n",
    "ax2 = plt.twinx()\n",
    "sns.lineplot(x='month',\n",
    "             y='cumulative_amount',\n",
    "             data=result3,\n",
    "             color='orange',\n",
    "             marker='o',\n",
    "             ax=ax2)\n",
    "ax2.set_ylabel('Cumulative Amount (AED)')\n",
    "\n",
    "plt.show()"
   ]
  },
  {
   "cell_type": "markdown",
   "id": "ce5cfe19",
   "metadata": {},
   "source": [
    "Its more or less giving the same results so if we go with the billing thats okay"
   ]
  },
  {
   "cell_type": "markdown",
   "id": "93cdd5a9",
   "metadata": {},
   "source": [
    "## Design a SQL query to identify the top 5 most popular products or services based on transaction counts."
   ]
  },
  {
   "cell_type": "code",
   "execution_count": 170,
   "id": "c51d635e",
   "metadata": {},
   "outputs": [],
   "source": [
    "query5 = \"\"\"\n",
    "SELECT\n",
    "    merchant_name,\n",
    "    COUNT(*) AS transaction_count\n",
    "FROM transactions\n",
    "GROUP BY merchant_name\n",
    "ORDER BY transaction_count DESC;\n",
    "\n",
    "\"\"\""
   ]
  },
  {
   "cell_type": "code",
   "execution_count": 171,
   "id": "0452925e",
   "metadata": {},
   "outputs": [
    {
     "name": "stdout",
     "output_type": "stream",
     "text": [
      "Connected to MySQL database\n",
      "[('Beauty Bliss', 2233), ('Tech Touch', 2206), ('Home Harmony', 2186), ('Hobby Haven', 2151), ('Tech Trends', 2103), ('Smart Style', 1179), ('Artistic Creations', 1177), ('Fashion Trends', 1172), ('Outdoor Adventures', 1171), ('Business Bliss', 1161), ('Artistic Aura', 1161), ('Gaming Glory', 1152), ('Foodie Haven', 1152), ('Outdoor Odyssey', 1148), ('Food Fusion', 1141), ('Auto Advantage', 1137), ('Digital Dream', 1135), ('Global Goods', 1132), ('Fit Focus', 1130), ('Artistic Adventures', 1129), ('Gaming Galaxy', 1125), ('Sports Unlimited', 1122), ('Wellness Hub', 1122), ('Eco Essence', 1121), ('Tech Time', 1120), ('Tech Emporium', 1118), ('Book Nook', 1117), ('Business Bistro', 1116), ('Pet Purrfection', 1115), ('Book Buffet', 1113), ('Culinary Creations', 1112), ('Home Sweet Home', 1111), ('Artistic Express', 1106), ('Kids Kingdom', 1105), ('Health Hub', 1103), ('Gaming Gala', 1103), ('Bookworm Haven', 1103), ('Tech Triumph', 1101), ('Smart Synergy', 1100), ('Hobby House', 1100), ('Family Fun Zone', 1099), ('Health Essentials', 1098), ('Health Heights', 1095), ('Gourmet Delights', 1094), ('Travel Empower', 1092), ('Smart Living', 1092), ('Digital Delights', 1091), ('Health Haven', 1089), ('Book Binge', 1088), ('Beauty Boutique', 1087), ('Pet Paradise', 1087), ('Family Fest', 1086), ('Wellness Wonders', 1085), ('Culinary Charms', 1085), ('Food Fantasy', 1085), ('Global Gifts', 1080), ('Pet Palace', 1080), ('Kids Corner', 1078), ('XYZ Electronics', 1077), ('Family Funtime', 1076), ('Fashion Forward', 1075), ('Music Galaxy', 1074), ('Auto Zone', 1072), ('Outdoor Oasis', 1071), ('Luxury Lane', 1069), ('Culinary Carnival', 1069), ('Fashion Haven', 1069), ('Digital Drive', 1068), ('Eco Emporium', 1067), ('Business Buzz', 1067), ('Fashion Fiesta', 1064), ('Auto Care', 1063), ('Fitness Focus', 1062), ('Fashion Fusion', 1061), ('Home Hub', 1057), ('Wellness World', 1057), ('Luxury Lounge', 1055), ('Luxury Living', 1055), ('Kids Club', 1054), ('Fit Flex', 1053), ('Food Haven', 1053), ('Auto Allure', 1053), ('Pet Parade', 1052), ('Global Groove', 1052), ('Smart Solutions', 1044), ('Gaming World', 1044), ('Fit & Fab', 1043), ('Cosmic Books', 1042), ('Outdoor Opulence', 1040), ('Wellness Whiz', 1038), ('Home Decor Hub', 1037), ('Digital Dreams', 1031), ('Eco Elegance', 1028), ('Beauty Bloom', 1015), ('Auto Express', 1013)]\n",
      "Connection closed\n"
     ]
    },
    {
     "name": "stderr",
     "output_type": "stream",
     "text": [
      "/tmp/ipykernel_70826/230398598.py:20: UserWarning:\n",
      "\n",
      "pandas only supports SQLAlchemy connectable (engine/connection) or database string URI or sqlite3 DBAPI2 connection. Other DBAPI2 objects are not tested. Please consider using SQLAlchemy.\n",
      "\n"
     ]
    }
   ],
   "source": [
    "result5 = MYSQL_QUERY(query5)"
   ]
  },
  {
   "cell_type": "code",
   "execution_count": 172,
   "id": "cc06caff",
   "metadata": {},
   "outputs": [
    {
     "data": {
      "text/html": [
       "<div>\n",
       "<style scoped>\n",
       "    .dataframe tbody tr th:only-of-type {\n",
       "        vertical-align: middle;\n",
       "    }\n",
       "\n",
       "    .dataframe tbody tr th {\n",
       "        vertical-align: top;\n",
       "    }\n",
       "\n",
       "    .dataframe thead th {\n",
       "        text-align: right;\n",
       "    }\n",
       "</style>\n",
       "<table border=\"1\" class=\"dataframe\">\n",
       "  <thead>\n",
       "    <tr style=\"text-align: right;\">\n",
       "      <th></th>\n",
       "      <th>merchant_name</th>\n",
       "      <th>transaction_count</th>\n",
       "    </tr>\n",
       "  </thead>\n",
       "  <tbody>\n",
       "    <tr>\n",
       "      <th>0</th>\n",
       "      <td>Beauty Bliss</td>\n",
       "      <td>2233</td>\n",
       "    </tr>\n",
       "    <tr>\n",
       "      <th>1</th>\n",
       "      <td>Tech Touch</td>\n",
       "      <td>2206</td>\n",
       "    </tr>\n",
       "    <tr>\n",
       "      <th>2</th>\n",
       "      <td>Home Harmony</td>\n",
       "      <td>2186</td>\n",
       "    </tr>\n",
       "    <tr>\n",
       "      <th>3</th>\n",
       "      <td>Hobby Haven</td>\n",
       "      <td>2151</td>\n",
       "    </tr>\n",
       "    <tr>\n",
       "      <th>4</th>\n",
       "      <td>Tech Trends</td>\n",
       "      <td>2103</td>\n",
       "    </tr>\n",
       "    <tr>\n",
       "      <th>...</th>\n",
       "      <td>...</td>\n",
       "      <td>...</td>\n",
       "    </tr>\n",
       "    <tr>\n",
       "      <th>90</th>\n",
       "      <td>Home Decor Hub</td>\n",
       "      <td>1037</td>\n",
       "    </tr>\n",
       "    <tr>\n",
       "      <th>91</th>\n",
       "      <td>Digital Dreams</td>\n",
       "      <td>1031</td>\n",
       "    </tr>\n",
       "    <tr>\n",
       "      <th>92</th>\n",
       "      <td>Eco Elegance</td>\n",
       "      <td>1028</td>\n",
       "    </tr>\n",
       "    <tr>\n",
       "      <th>93</th>\n",
       "      <td>Beauty Bloom</td>\n",
       "      <td>1015</td>\n",
       "    </tr>\n",
       "    <tr>\n",
       "      <th>94</th>\n",
       "      <td>Auto Express</td>\n",
       "      <td>1013</td>\n",
       "    </tr>\n",
       "  </tbody>\n",
       "</table>\n",
       "<p>95 rows × 2 columns</p>\n",
       "</div>"
      ],
      "text/plain": [
       "     merchant_name  transaction_count\n",
       "0     Beauty Bliss               2233\n",
       "1       Tech Touch               2206\n",
       "2     Home Harmony               2186\n",
       "3      Hobby Haven               2151\n",
       "4      Tech Trends               2103\n",
       "..             ...                ...\n",
       "90  Home Decor Hub               1037\n",
       "91  Digital Dreams               1031\n",
       "92    Eco Elegance               1028\n",
       "93    Beauty Bloom               1015\n",
       "94    Auto Express               1013\n",
       "\n",
       "[95 rows x 2 columns]"
      ]
     },
     "execution_count": 172,
     "metadata": {},
     "output_type": "execute_result"
    }
   ],
   "source": [
    "result5"
   ]
  },
  {
   "cell_type": "code",
   "execution_count": 173,
   "id": "5f58889f",
   "metadata": {},
   "outputs": [
    {
     "data": {
      "image/png": "[encoded data removed]",
      "text/plain": [
       "<Figure size 1000x600 with 1 Axes>"
      ]
     },
     "metadata": {},
     "output_type": "display_data"
    }
   ],
   "source": [
    "## Graphing:\n",
    "\n",
    "plt.figure(figsize=(10, 6))\n",
    "sns.barplot(x='transaction_count',\n",
    "            y='merchant_name',\n",
    "            data=result5.head(5), \n",
    "            color='steelblue')\n",
    "plt.title('Top 5 Most Popular Products or Services')\n",
    "plt.xlabel('Transaction Count')\n",
    "plt.ylabel('Merchant Name')\n",
    "\n",
    "# Show the plot\n",
    "plt.show()"
   ]
  },
  {
   "cell_type": "markdown",
   "id": "a9745741",
   "metadata": {},
   "source": [
    "## Daily Revenue Trend:"
   ]
  },
  {
   "cell_type": "code",
   "execution_count": 122,
   "id": "12a6f26f",
   "metadata": {},
   "outputs": [],
   "source": [
    "query6 = \"\"\"\n",
    "SELECT\n",
    "    DATE_FORMAT(STR_TO_DATE(transaction_timestamp, '%m/%d/%y %H:%i'), '%Y-%m-%d') AS day,\n",
    "    SUM(billing_amount) AS daily_revenue\n",
    "FROM transactions\n",
    "GROUP BY day\n",
    "ORDER BY day;\n",
    "\"\"\""
   ]
  },
  {
   "cell_type": "code",
   "execution_count": 129,
   "id": "6c1d08fa",
   "metadata": {},
   "outputs": [
    {
     "name": "stdout",
     "output_type": "stream",
     "text": [
      "Connected to MySQL database\n",
      "[('2023-01-01', Decimal('712071822')), ('2023-01-02', Decimal('721901610')), ('2023-01-03', Decimal('712635739')), ('2023-01-04', Decimal('722376477')), ('2023-01-05', Decimal('729875569')), ('2023-01-06', Decimal('706303896')), ('2023-01-07', Decimal('713984691')), ('2023-01-08', Decimal('706575650')), ('2023-01-09', Decimal('724189417')), ('2023-01-10', Decimal('714543703')), ('2023-01-11', Decimal('731602234')), ('2023-01-12', Decimal('707632113')), ('2023-01-13', Decimal('721335797')), ('2023-01-14', Decimal('701997618')), ('2023-01-15', Decimal('723500694')), ('2023-01-16', Decimal('710237979')), ('2023-01-17', Decimal('721920093')), ('2023-01-18', Decimal('688044603')), ('2023-01-19', Decimal('741917961')), ('2023-01-20', Decimal('722078533')), ('2023-01-21', Decimal('718135448')), ('2023-01-22', Decimal('697724592')), ('2023-01-23', Decimal('725101343')), ('2023-01-24', Decimal('718804617')), ('2023-01-25', Decimal('710828858')), ('2023-01-26', Decimal('719131095')), ('2023-01-27', Decimal('732352649')), ('2023-01-28', Decimal('715652515')), ('2023-01-29', Decimal('704959317')), ('2023-01-30', Decimal('725615509')), ('2023-01-31', Decimal('705249145')), ('2023-02-01', Decimal('726325695')), ('2023-02-02', Decimal('710451652')), ('2023-02-03', Decimal('701469919')), ('2023-02-04', Decimal('724682425')), ('2023-02-05', Decimal('722875236')), ('2023-02-06', Decimal('719247511')), ('2023-02-07', Decimal('703206296')), ('2023-02-08', Decimal('720242261')), ('2023-02-09', Decimal('727981434')), ('2023-02-10', Decimal('732531812')), ('2023-02-11', Decimal('715861751')), ('2023-02-12', Decimal('690469630')), ('2023-02-13', Decimal('712355588')), ('2023-02-14', Decimal('709319820')), ('2023-02-15', Decimal('717918064')), ('2023-02-16', Decimal('710520871')), ('2023-02-17', Decimal('726120029')), ('2023-02-18', Decimal('710927304')), ('2023-02-19', Decimal('725963952')), ('2023-02-20', Decimal('724281760')), ('2023-02-21', Decimal('737821873')), ('2023-02-22', Decimal('718224735')), ('2023-02-23', Decimal('713220283')), ('2023-02-24', Decimal('711241942')), ('2023-02-25', Decimal('729611491')), ('2023-02-26', Decimal('730104052')), ('2023-02-27', Decimal('704515973')), ('2023-02-28', Decimal('706694755')), ('2023-03-01', Decimal('716853746')), ('2023-03-02', Decimal('720707197')), ('2023-03-03', Decimal('731457483')), ('2023-03-04', Decimal('727514826')), ('2023-03-05', Decimal('722026269')), ('2023-03-06', Decimal('720010055')), ('2023-03-07', Decimal('725552043')), ('2023-03-08', Decimal('730338779')), ('2023-03-09', Decimal('715741586')), ('2023-03-10', Decimal('738233307')), ('2023-03-11', Decimal('700877353')), ('2023-03-12', Decimal('702836012')), ('2023-03-13', Decimal('709971224')), ('2023-03-14', Decimal('726980488')), ('2023-03-15', Decimal('716743966')), ('2023-03-16', Decimal('723292528')), ('2023-03-17', Decimal('508555255'))]\n",
      "Connection closed\n"
     ]
    },
    {
     "name": "stderr",
     "output_type": "stream",
     "text": [
      "/tmp/ipykernel_70826/230398598.py:20: UserWarning: pandas only supports SQLAlchemy connectable (engine/connection) or database string URI or sqlite3 DBAPI2 connection. Other DBAPI2 objects are not tested. Please consider using SQLAlchemy.\n",
      "  df = pd.read_sql(query, connection)\n"
     ]
    }
   ],
   "source": [
    "result6 = MYSQL_QUERY(query6)"
   ]
  },
  {
   "cell_type": "code",
   "execution_count": 130,
   "id": "5b9b654d",
   "metadata": {},
   "outputs": [
    {
     "data": {
      "text/html": [
       "<div>\n",
       "<style scoped>\n",
       "    .dataframe tbody tr th:only-of-type {\n",
       "        vertical-align: middle;\n",
       "    }\n",
       "\n",
       "    .dataframe tbody tr th {\n",
       "        vertical-align: top;\n",
       "    }\n",
       "\n",
       "    .dataframe thead th {\n",
       "        text-align: right;\n",
       "    }\n",
       "</style>\n",
       "<table border=\"1\" class=\"dataframe\">\n",
       "  <thead>\n",
       "    <tr style=\"text-align: right;\">\n",
       "      <th></th>\n",
       "      <th>day</th>\n",
       "      <th>daily_revenue</th>\n",
       "    </tr>\n",
       "  </thead>\n",
       "  <tbody>\n",
       "    <tr>\n",
       "      <th>0</th>\n",
       "      <td>2023-01-01</td>\n",
       "      <td>712071822.0</td>\n",
       "    </tr>\n",
       "    <tr>\n",
       "      <th>1</th>\n",
       "      <td>2023-01-02</td>\n",
       "      <td>721901610.0</td>\n",
       "    </tr>\n",
       "    <tr>\n",
       "      <th>2</th>\n",
       "      <td>2023-01-03</td>\n",
       "      <td>712635739.0</td>\n",
       "    </tr>\n",
       "    <tr>\n",
       "      <th>3</th>\n",
       "      <td>2023-01-04</td>\n",
       "      <td>722376477.0</td>\n",
       "    </tr>\n",
       "    <tr>\n",
       "      <th>4</th>\n",
       "      <td>2023-01-05</td>\n",
       "      <td>729875569.0</td>\n",
       "    </tr>\n",
       "    <tr>\n",
       "      <th>...</th>\n",
       "      <td>...</td>\n",
       "      <td>...</td>\n",
       "    </tr>\n",
       "    <tr>\n",
       "      <th>71</th>\n",
       "      <td>2023-03-13</td>\n",
       "      <td>709971224.0</td>\n",
       "    </tr>\n",
       "    <tr>\n",
       "      <th>72</th>\n",
       "      <td>2023-03-14</td>\n",
       "      <td>726980488.0</td>\n",
       "    </tr>\n",
       "    <tr>\n",
       "      <th>73</th>\n",
       "      <td>2023-03-15</td>\n",
       "      <td>716743966.0</td>\n",
       "    </tr>\n",
       "    <tr>\n",
       "      <th>74</th>\n",
       "      <td>2023-03-16</td>\n",
       "      <td>723292528.0</td>\n",
       "    </tr>\n",
       "    <tr>\n",
       "      <th>75</th>\n",
       "      <td>2023-03-17</td>\n",
       "      <td>508555255.0</td>\n",
       "    </tr>\n",
       "  </tbody>\n",
       "</table>\n",
       "<p>76 rows × 2 columns</p>\n",
       "</div>"
      ],
      "text/plain": [
       "           day  daily_revenue\n",
       "0   2023-01-01    712071822.0\n",
       "1   2023-01-02    721901610.0\n",
       "2   2023-01-03    712635739.0\n",
       "3   2023-01-04    722376477.0\n",
       "4   2023-01-05    729875569.0\n",
       "..         ...            ...\n",
       "71  2023-03-13    709971224.0\n",
       "72  2023-03-14    726980488.0\n",
       "73  2023-03-15    716743966.0\n",
       "74  2023-03-16    723292528.0\n",
       "75  2023-03-17    508555255.0\n",
       "\n",
       "[76 rows x 2 columns]"
      ]
     },
     "execution_count": 130,
     "metadata": {},
     "output_type": "execute_result"
    }
   ],
   "source": [
    "result6"
   ]
  },
  {
   "cell_type": "code",
   "execution_count": 167,
   "id": "96682757",
   "metadata": {},
   "outputs": [
    {
     "data": {
      "application/vnd.plotly.v1+json": {
       "config": {
        "plotlyServerURL": "https://plot.ly"
       },
       "data": [
        {
         "hovertemplate": "day=%{x}<br>daily_revenue=%{y}<extra></extra>",
         "legendgroup": "",
         "line": {
          "color": "#636efa",
          "dash": "solid",
          "shape": "linear"
         },
         "marker": {
          "symbol": "circle"
         },
         "mode": "markers+lines",
         "name": "",
         "orientation": "v",
         "showlegend": false,
         "type": "scatter",
         "x": [
          "2023-01-01T00:00:00",
          "2023-01-02T00:00:00",
          "2023-01-03T00:00:00",
          "2023-01-04T00:00:00",
          "2023-01-05T00:00:00",
          "2023-01-06T00:00:00",
          "2023-01-07T00:00:00",
          "2023-01-08T00:00:00",
          "2023-01-09T00:00:00",
          "2023-01-10T00:00:00",
          "2023-01-11T00:00:00",
          "2023-01-12T00:00:00",
          "2023-01-13T00:00:00",
          "2023-01-14T00:00:00",
          "2023-01-15T00:00:00",
          "2023-01-16T00:00:00",
          "2023-01-17T00:00:00",
          "2023-01-18T00:00:00",
          "2023-01-19T00:00:00",
          "2023-01-20T00:00:00",
          "2023-01-21T00:00:00",
          "2023-01-22T00:00:00",
          "2023-01-23T00:00:00",
          "2023-01-24T00:00:00",
          "2023-01-25T00:00:00",
          "2023-01-26T00:00:00",
          "2023-01-27T00:00:00",
          "2023-01-28T00:00:00",
          "2023-01-29T00:00:00",
          "2023-01-30T00:00:00",
          "2023-01-31T00:00:00",
          "2023-02-01T00:00:00",
          "2023-02-02T00:00:00",
          "2023-02-03T00:00:00",
          "2023-02-04T00:00:00",
          "2023-02-05T00:00:00",
          "2023-02-06T00:00:00",
          "2023-02-07T00:00:00",
          "2023-02-08T00:00:00",
          "2023-02-09T00:00:00",
          "2023-02-10T00:00:00",
          "2023-02-11T00:00:00",
          "2023-02-12T00:00:00",
          "2023-02-13T00:00:00",
          "2023-02-14T00:00:00",
          "2023-02-15T00:00:00",
          "2023-02-16T00:00:00",
          "2023-02-17T00:00:00",
          "2023-02-18T00:00:00",
          "2023-02-19T00:00:00",
          "2023-02-20T00:00:00",
          "2023-02-21T00:00:00",
          "2023-02-22T00:00:00",
          "2023-02-23T00:00:00",
          "2023-02-24T00:00:00",
          "2023-02-25T00:00:00",
          "2023-02-26T00:00:00",
          "2023-02-27T00:00:00",
          "2023-02-28T00:00:00",
          "2023-03-01T00:00:00",
          "2023-03-02T00:00:00",
          "2023-03-03T00:00:00",
          "2023-03-04T00:00:00",
          "2023-03-05T00:00:00",
          "2023-03-06T00:00:00",
          "2023-03-07T00:00:00",
          "2023-03-08T00:00:00",
          "2023-03-09T00:00:00",
          "2023-03-10T00:00:00",
          "2023-03-11T00:00:00",
          "2023-03-12T00:00:00",
          "2023-03-13T00:00:00",
          "2023-03-14T00:00:00",
          "2023-03-15T00:00:00",
          "2023-03-16T00:00:00",
          "2023-03-17T00:00:00"
         ],
         "xaxis": "x",
         "y": [
          712071822,
          721901610,
          712635739,
          722376477,
          729875569,
          706303896,
          713984691,
          706575650,
          724189417,
          714543703,
          731602234,
          707632113,
          721335797,
          701997618,
          723500694,
          710237979,
          721920093,
          688044603,
          741917961,
          722078533,
          718135448,
          697724592,
          725101343,
          718804617,
          710828858,
          719131095,
          732352649,
          715652515,
          704959317,
          725615509,
          705249145,
          726325695,
          710451652,
          701469919,
          724682425,
          722875236,
          719247511,
          703206296,
          720242261,
          727981434,
          732531812,
          715861751,
          690469630,
          712355588,
          709319820,
          717918064,
          710520871,
          726120029,
          710927304,
          725963952,
          724281760,
          737821873,
          718224735,
          713220283,
          711241942,
          729611491,
          730104052,
          704515973,
          706694755,
          716853746,
          720707197,
          731457483,
          727514826,
          722026269,
          720010055,
          725552043,
          730338779,
          715741586,
          738233307,
          700877353,
          702836012,
          709971224,
          726980488,
          716743966,
          723292528,
          508555255
         ],
         "yaxis": "y"
        }
       ],
       "layout": {
        "hovermode": "x",
        "legend": {
         "tracegroupgap": 0
        },
        "template": {
         "data": {
          "bar": [
           {
            "error_x": {
             "color": "#2a3f5f"
            },
            "error_y": {
             "color": "#2a3f5f"
            },
            "marker": {
             "line": {
              "color": "#E5ECF6",
              "width": 0.5
             },
             "pattern": {
              "fillmode": "overlay",
              "size": 10,
              "solidity": 0.2
             }
            },
            "type": "bar"
           }
          ],
          "barpolar": [
           {
            "marker": {
             "line": {
              "color": "#E5ECF6",
              "width": 0.5
             },
             "pattern": {
              "fillmode": "overlay",
              "size": 10,
              "solidity": 0.2
             }
            },
            "type": "barpolar"
           }
          ],
          "carpet": [
           {
            "aaxis": {
             "endlinecolor": "#2a3f5f",
             "gridcolor": "white",
             "linecolor": "white",
             "minorgridcolor": "white",
             "startlinecolor": "#2a3f5f"
            },
            "baxis": {
             "endlinecolor": "#2a3f5f",
             "gridcolor": "white",
             "linecolor": "white",
             "minorgridcolor": "white",
             "startlinecolor": "#2a3f5f"
            },
            "type": "carpet"
           }
          ],
          "choropleth": [
           {
            "colorbar": {
             "outlinewidth": 0,
             "ticks": ""
            },
            "type": "choropleth"
           }
          ],
          "contour": [
           {
            "colorbar": {
             "outlinewidth": 0,
             "ticks": ""
            },
            "colorscale": [
             [
              0,
              "#0d0887"
             ],
             [
              0.1111111111111111,
              "#46039f"
             ],
             [
              0.2222222222222222,
              "#7201a8"
             ],
             [
              0.3333333333333333,
              "#9c179e"
             ],
             [
              0.4444444444444444,
              "#bd3786"
             ],
             [
              0.5555555555555556,
              "#d8576b"
             ],
             [
              0.6666666666666666,
              "#ed7953"
             ],
             [
              0.7777777777777778,
              "#fb9f3a"
             ],
             [
              0.8888888888888888,
              "#fdca26"
             ],
             [
              1,
              "#f0f921"
             ]
            ],
            "type": "contour"
           }
          ],
          "contourcarpet": [
           {
            "colorbar": {
             "outlinewidth": 0,
             "ticks": ""
            },
            "type": "contourcarpet"
           }
          ],
          "heatmap": [
           {
            "colorbar": {
             "outlinewidth": 0,
             "ticks": ""
            },
            "colorscale": [
             [
              0,
              "#0d0887"
             ],
             [
              0.1111111111111111,
              "#46039f"
             ],
             [
              0.2222222222222222,
              "#7201a8"
             ],
             [
              0.3333333333333333,
              "#9c179e"
             ],
             [
              0.4444444444444444,
              "#bd3786"
             ],
             [
              0.5555555555555556,
              "#d8576b"
             ],
             [
              0.6666666666666666,
              "#ed7953"
             ],
             [
              0.7777777777777778,
              "#fb9f3a"
             ],
             [
              0.8888888888888888,
              "#fdca26"
             ],
             [
              1,
              "#f0f921"
             ]
            ],
            "type": "heatmap"
           }
          ],
          "heatmapgl": [
           {
            "colorbar": {
             "outlinewidth": 0,
             "ticks": ""
            },
            "colorscale": [
             [
              0,
              "#0d0887"
             ],
             [
              0.1111111111111111,
              "#46039f"
             ],
             [
              0.2222222222222222,
              "#7201a8"
             ],
             [
              0.3333333333333333,
              "#9c179e"
             ],
             [
              0.4444444444444444,
              "#bd3786"
             ],
             [
              0.5555555555555556,
              "#d8576b"
             ],
             [
              0.6666666666666666,
              "#ed7953"
             ],
             [
              0.7777777777777778,
              "#fb9f3a"
             ],
             [
              0.8888888888888888,
              "#fdca26"
             ],
             [
              1,
              "#f0f921"
             ]
            ],
            "type": "heatmapgl"
           }
          ],
          "histogram": [
           {
            "marker": {
             "pattern": {
              "fillmode": "overlay",
              "size": 10,
              "solidity": 0.2
             }
            },
            "type": "histogram"
           }
          ],
          "histogram2d": [
           {
            "colorbar": {
             "outlinewidth": 0,
             "ticks": ""
            },
            "colorscale": [
             [
              0,
              "#0d0887"
             ],
             [
              0.1111111111111111,
              "#46039f"
             ],
             [
              0.2222222222222222,
              "#7201a8"
             ],
             [
              0.3333333333333333,
              "#9c179e"
             ],
             [
              0.4444444444444444,
              "#bd3786"
             ],
             [
              0.5555555555555556,
              "#d8576b"
             ],
             [
              0.6666666666666666,
              "#ed7953"
             ],
             [
              0.7777777777777778,
              "#fb9f3a"
             ],
             [
              0.8888888888888888,
              "#fdca26"
             ],
             [
              1,
              "#f0f921"
             ]
            ],
            "type": "histogram2d"
           }
          ],
          "histogram2dcontour": [
           {
            "colorbar": {
             "outlinewidth": 0,
             "ticks": ""
            },
            "colorscale": [
             [
              0,
              "#0d0887"
             ],
             [
              0.1111111111111111,
              "#46039f"
             ],
             [
              0.2222222222222222,
              "#7201a8"
             ],
             [
              0.3333333333333333,
              "#9c179e"
             ],
             [
              0.4444444444444444,
              "#bd3786"
             ],
             [
              0.5555555555555556,
              "#d8576b"
             ],
             [
              0.6666666666666666,
              "#ed7953"
             ],
             [
              0.7777777777777778,
              "#fb9f3a"
             ],
             [
              0.8888888888888888,
              "#fdca26"
             ],
             [
              1,
              "#f0f921"
             ]
            ],
            "type": "histogram2dcontour"
           }
          ],
          "mesh3d": [
           {
            "colorbar": {
             "outlinewidth": 0,
             "ticks": ""
            },
            "type": "mesh3d"
           }
          ],
          "parcoords": [
           {
            "line": {
             "colorbar": {
              "outlinewidth": 0,
              "ticks": ""
             }
            },
            "type": "parcoords"
           }
          ],
          "pie": [
           {
            "automargin": true,
            "type": "pie"
           }
          ],
          "scatter": [
           {
            "fillpattern": {
             "fillmode": "overlay",
             "size": 10,
             "solidity": 0.2
            },
            "type": "scatter"
           }
          ],
          "scatter3d": [
           {
            "line": {
             "colorbar": {
              "outlinewidth": 0,
              "ticks": ""
             }
            },
            "marker": {
             "colorbar": {
              "outlinewidth": 0,
              "ticks": ""
             }
            },
            "type": "scatter3d"
           }
          ],
          "scattercarpet": [
           {
            "marker": {
             "colorbar": {
              "outlinewidth": 0,
              "ticks": ""
             }
            },
            "type": "scattercarpet"
           }
          ],
          "scattergeo": [
           {
            "marker": {
             "colorbar": {
              "outlinewidth": 0,
              "ticks": ""
             }
            },
            "type": "scattergeo"
           }
          ],
          "scattergl": [
           {
            "marker": {
             "colorbar": {
              "outlinewidth": 0,
              "ticks": ""
             }
            },
            "type": "scattergl"
           }
          ],
          "scattermapbox": [
           {
            "marker": {
             "colorbar": {
              "outlinewidth": 0,
              "ticks": ""
             }
            },
            "type": "scattermapbox"
           }
          ],
          "scatterpolar": [
           {
            "marker": {
             "colorbar": {
              "outlinewidth": 0,
              "ticks": ""
             }
            },
            "type": "scatterpolar"
           }
          ],
          "scatterpolargl": [
           {
            "marker": {
             "colorbar": {
              "outlinewidth": 0,
              "ticks": ""
             }
            },
            "type": "scatterpolargl"
           }
          ],
          "scatterternary": [
           {
            "marker": {
             "colorbar": {
              "outlinewidth": 0,
              "ticks": ""
             }
            },
            "type": "scatterternary"
           }
          ],
          "surface": [
           {
            "colorbar": {
             "outlinewidth": 0,
             "ticks": ""
            },
            "colorscale": [
             [
              0,
              "#0d0887"
             ],
             [
              0.1111111111111111,
              "#46039f"
             ],
             [
              0.2222222222222222,
              "#7201a8"
             ],
             [
              0.3333333333333333,
              "#9c179e"
             ],
             [
              0.4444444444444444,
              "#bd3786"
             ],
             [
              0.5555555555555556,
              "#d8576b"
             ],
             [
              0.6666666666666666,
              "#ed7953"
             ],
             [
              0.7777777777777778,
              "#fb9f3a"
             ],
             [
              0.8888888888888888,
              "#fdca26"
             ],
             [
              1,
              "#f0f921"
             ]
            ],
            "type": "surface"
           }
          ],
          "table": [
           {
            "cells": {
             "fill": {
              "color": "#EBF0F8"
             },
             "line": {
              "color": "white"
             }
            },
            "header": {
             "fill": {
              "color": "#C8D4E3"
             },
             "line": {
              "color": "white"
             }
            },
            "type": "table"
           }
          ]
         },
         "layout": {
          "annotationdefaults": {
           "arrowcolor": "#2a3f5f",
           "arrowhead": 0,
           "arrowwidth": 1
          },
          "autotypenumbers": "strict",
          "coloraxis": {
           "colorbar": {
            "outlinewidth": 0,
            "ticks": ""
           }
          },
          "colorscale": {
           "diverging": [
            [
             0,
             "#8e0152"
            ],
            [
             0.1,
             "#c51b7d"
            ],
            [
             0.2,
             "#de77ae"
            ],
            [
             0.3,
             "#f1b6da"
            ],
            [
             0.4,
             "#fde0ef"
            ],
            [
             0.5,
             "#f7f7f7"
            ],
            [
             0.6,
             "#e6f5d0"
            ],
            [
             0.7,
             "#b8e186"
            ],
            [
             0.8,
             "#7fbc41"
            ],
            [
             0.9,
             "#4d9221"
            ],
            [
             1,
             "#276419"
            ]
           ],
           "sequential": [
            [
             0,
             "#0d0887"
            ],
            [
             0.1111111111111111,
             "#46039f"
            ],
            [
             0.2222222222222222,
             "#7201a8"
            ],
            [
             0.3333333333333333,
             "#9c179e"
            ],
            [
             0.4444444444444444,
             "#bd3786"
            ],
            [
             0.5555555555555556,
             "#d8576b"
            ],
            [
             0.6666666666666666,
             "#ed7953"
            ],
            [
             0.7777777777777778,
             "#fb9f3a"
            ],
            [
             0.8888888888888888,
             "#fdca26"
            ],
            [
             1,
             "#f0f921"
            ]
           ],
           "sequentialminus": [
            [
             0,
             "#0d0887"
            ],
            [
             0.1111111111111111,
             "#46039f"
            ],
            [
             0.2222222222222222,
             "#7201a8"
            ],
            [
             0.3333333333333333,
             "#9c179e"
            ],
            [
             0.4444444444444444,
             "#bd3786"
            ],
            [
             0.5555555555555556,
             "#d8576b"
            ],
            [
             0.6666666666666666,
             "#ed7953"
            ],
            [
             0.7777777777777778,
             "#fb9f3a"
            ],
            [
             0.8888888888888888,
             "#fdca26"
            ],
            [
             1,
             "#f0f921"
            ]
           ]
          },
          "colorway": [
           "#636efa",
           "#EF553B",
           "#00cc96",
           "#ab63fa",
           "#FFA15A",
           "#19d3f3",
           "#FF6692",
           "#B6E880",
           "#FF97FF",
           "#FECB52"
          ],
          "font": {
           "color": "#2a3f5f"
          },
          "geo": {
           "bgcolor": "white",
           "lakecolor": "white",
           "landcolor": "#E5ECF6",
           "showlakes": true,
           "showland": true,
           "subunitcolor": "white"
          },
          "hoverlabel": {
           "align": "left"
          },
          "hovermode": "closest",
          "mapbox": {
           "style": "light"
          },
          "paper_bgcolor": "white",
          "plot_bgcolor": "#E5ECF6",
          "polar": {
           "angularaxis": {
            "gridcolor": "white",
            "linecolor": "white",
            "ticks": ""
           },
           "bgcolor": "#E5ECF6",
           "radialaxis": {
            "gridcolor": "white",
            "linecolor": "white",
            "ticks": ""
           }
          },
          "scene": {
           "xaxis": {
            "backgroundcolor": "#E5ECF6",
            "gridcolor": "white",
            "gridwidth": 2,
            "linecolor": "white",
            "showbackground": true,
            "ticks": "",
            "zerolinecolor": "white"
           },
           "yaxis": {
            "backgroundcolor": "#E5ECF6",
            "gridcolor": "white",
            "gridwidth": 2,
            "linecolor": "white",
            "showbackground": true,
            "ticks": "",
            "zerolinecolor": "white"
           },
           "zaxis": {
            "backgroundcolor": "#E5ECF6",
            "gridcolor": "white",
            "gridwidth": 2,
            "linecolor": "white",
            "showbackground": true,
            "ticks": "",
            "zerolinecolor": "white"
           }
          },
          "shapedefaults": {
           "line": {
            "color": "#2a3f5f"
           }
          },
          "ternary": {
           "aaxis": {
            "gridcolor": "white",
            "linecolor": "white",
            "ticks": ""
           },
           "baxis": {
            "gridcolor": "white",
            "linecolor": "white",
            "ticks": ""
           },
           "bgcolor": "#E5ECF6",
           "caxis": {
            "gridcolor": "white",
            "linecolor": "white",
            "ticks": ""
           }
          },
          "title": {
           "x": 0.05
          },
          "xaxis": {
           "automargin": true,
           "gridcolor": "white",
           "linecolor": "white",
           "ticks": "",
           "title": {
            "standoff": 15
           },
           "zerolinecolor": "white",
           "zerolinewidth": 2
          },
          "yaxis": {
           "automargin": true,
           "gridcolor": "white",
           "linecolor": "white",
           "ticks": "",
           "title": {
            "standoff": 15
           },
           "zerolinecolor": "white",
           "zerolinewidth": 2
          }
         }
        },
        "title": {
         "text": "Daily Revenue Trend"
        },
        "xaxis": {
         "anchor": "y",
         "domain": [
          0,
          1
         ],
         "title": {
          "text": "Day"
         }
        },
        "yaxis": {
         "anchor": "x",
         "domain": [
          0,
          1
         ],
         "title": {
          "text": "Daily Revenue"
         }
        }
       }
      },
      "text/html": [
       "<div>                            <div id=\"219189c8-f161-4217-8acc-f0d3b0fefe62\" class=\"plotly-graph-div\" style=\"height:525px; width:100%;\"></div>            <script type=\"text/javascript\">                require([\"plotly\"], function(Plotly) {                    window.PLOTLYENV=window.PLOTLYENV || {};                                    if (document.getElementById(\"219189c8-f161-4217-8acc-f0d3b0fefe62\")) {                    Plotly.newPlot(                        \"219189c8-f161-4217-8acc-f0d3b0fefe62\",                        [{\"hovertemplate\":\"day=%{x}<br>daily_revenue=%{y}<extra></extra>\",\"legendgroup\":\"\",\"line\":{\"color\":\"#636efa\",\"dash\":\"solid\",\"shape\":\"linear\"},\"marker\":{\"symbol\":\"circle\"},\"mode\":\"markers+lines\",\"name\":\"\",\"orientation\":\"v\",\"showlegend\":false,\"x\":[\"2023-01-01T00:00:00\",\"2023-01-02T00:00:00\",\"2023-01-03T00:00:00\",\"2023-01-04T00:00:00\",\"2023-01-05T00:00:00\",\"2023-01-06T00:00:00\",\"2023-01-07T00:00:00\",\"2023-01-08T00:00:00\",\"2023-01-09T00:00:00\",\"2023-01-10T00:00:00\",\"2023-01-11T00:00:00\",\"2023-01-12T00:00:00\",\"2023-01-13T00:00:00\",\"2023-01-14T00:00:00\",\"2023-01-15T00:00:00\",\"2023-01-16T00:00:00\",\"2023-01-17T00:00:00\",\"2023-01-18T00:00:00\",\"2023-01-19T00:00:00\",\"2023-01-20T00:00:00\",\"2023-01-21T00:00:00\",\"2023-01-22T00:00:00\",\"2023-01-23T00:00:00\",\"2023-01-24T00:00:00\",\"2023-01-25T00:00:00\",\"2023-01-26T00:00:00\",\"2023-01-27T00:00:00\",\"2023-01-28T00:00:00\",\"2023-01-29T00:00:00\",\"2023-01-30T00:00:00\",\"2023-01-31T00:00:00\",\"2023-02-01T00:00:00\",\"2023-02-02T00:00:00\",\"2023-02-03T00:00:00\",\"2023-02-04T00:00:00\",\"2023-02-05T00:00:00\",\"2023-02-06T00:00:00\",\"2023-02-07T00:00:00\",\"2023-02-08T00:00:00\",\"2023-02-09T00:00:00\",\"2023-02-10T00:00:00\",\"2023-02-11T00:00:00\",\"2023-02-12T00:00:00\",\"2023-02-13T00:00:00\",\"2023-02-14T00:00:00\",\"2023-02-15T00:00:00\",\"2023-02-16T00:00:00\",\"2023-02-17T00:00:00\",\"2023-02-18T00:00:00\",\"2023-02-19T00:00:00\",\"2023-02-20T00:00:00\",\"2023-02-21T00:00:00\",\"2023-02-22T00:00:00\",\"2023-02-23T00:00:00\",\"2023-02-24T00:00:00\",\"2023-02-25T00:00:00\",\"2023-02-26T00:00:00\",\"2023-02-27T00:00:00\",\"2023-02-28T00:00:00\",\"2023-03-01T00:00:00\",\"2023-03-02T00:00:00\",\"2023-03-03T00:00:00\",\"2023-03-04T00:00:00\",\"2023-03-05T00:00:00\",\"2023-03-06T00:00:00\",\"2023-03-07T00:00:00\",\"2023-03-08T00:00:00\",\"2023-03-09T00:00:00\",\"2023-03-10T00:00:00\",\"2023-03-11T00:00:00\",\"2023-03-12T00:00:00\",\"2023-03-13T00:00:00\",\"2023-03-14T00:00:00\",\"2023-03-15T00:00:00\",\"2023-03-16T00:00:00\",\"2023-03-17T00:00:00\"],\"xaxis\":\"x\",\"y\":[712071822.0,721901610.0,712635739.0,722376477.0,729875569.0,706303896.0,713984691.0,706575650.0,724189417.0,714543703.0,731602234.0,707632113.0,721335797.0,701997618.0,723500694.0,710237979.0,721920093.0,688044603.0,741917961.0,722078533.0,718135448.0,697724592.0,725101343.0,718804617.0,710828858.0,719131095.0,732352649.0,715652515.0,704959317.0,725615509.0,705249145.0,726325695.0,710451652.0,701469919.0,724682425.0,722875236.0,719247511.0,703206296.0,720242261.0,727981434.0,732531812.0,715861751.0,690469630.0,712355588.0,709319820.0,717918064.0,710520871.0,726120029.0,710927304.0,725963952.0,724281760.0,737821873.0,718224735.0,713220283.0,711241942.0,729611491.0,730104052.0,704515973.0,706694755.0,716853746.0,720707197.0,731457483.0,727514826.0,722026269.0,720010055.0,725552043.0,730338779.0,715741586.0,738233307.0,700877353.0,702836012.0,709971224.0,726980488.0,716743966.0,723292528.0,508555255.0],\"yaxis\":\"y\",\"type\":\"scatter\"}],                        {\"template\":{\"data\":{\"histogram2dcontour\":[{\"type\":\"histogram2dcontour\",\"colorbar\":{\"outlinewidth\":0,\"ticks\":\"\"},\"colorscale\":[[0.0,\"#0d0887\"],[0.1111111111111111,\"#46039f\"],[0.2222222222222222,\"#7201a8\"],[0.3333333333333333,\"#9c179e\"],[0.4444444444444444,\"#bd3786\"],[0.5555555555555556,\"#d8576b\"],[0.6666666666666666,\"#ed7953\"],[0.7777777777777778,\"#fb9f3a\"],[0.8888888888888888,\"#fdca26\"],[1.0,\"#f0f921\"]]}],\"choropleth\":[{\"type\":\"choropleth\",\"colorbar\":{\"outlinewidth\":0,\"ticks\":\"\"}}],\"histogram2d\":[{\"type\":\"histogram2d\",\"colorbar\":{\"outlinewidth\":0,\"ticks\":\"\"},\"colorscale\":[[0.0,\"#0d0887\"],[0.1111111111111111,\"#46039f\"],[0.2222222222222222,\"#7201a8\"],[0.3333333333333333,\"#9c179e\"],[0.4444444444444444,\"#bd3786\"],[0.5555555555555556,\"#d8576b\"],[0.6666666666666666,\"#ed7953\"],[0.7777777777777778,\"#fb9f3a\"],[0.8888888888888888,\"#fdca26\"],[1.0,\"#f0f921\"]]}],\"heatmap\":[{\"type\":\"heatmap\",\"colorbar\":{\"outlinewidth\":0,\"ticks\":\"\"},\"colorscale\":[[0.0,\"#0d0887\"],[0.1111111111111111,\"#46039f\"],[0.2222222222222222,\"#7201a8\"],[0.3333333333333333,\"#9c179e\"],[0.4444444444444444,\"#bd3786\"],[0.5555555555555556,\"#d8576b\"],[0.6666666666666666,\"#ed7953\"],[0.7777777777777778,\"#fb9f3a\"],[0.8888888888888888,\"#fdca26\"],[1.0,\"#f0f921\"]]}],\"heatmapgl\":[{\"type\":\"heatmapgl\",\"colorbar\":{\"outlinewidth\":0,\"ticks\":\"\"},\"colorscale\":[[0.0,\"#0d0887\"],[0.1111111111111111,\"#46039f\"],[0.2222222222222222,\"#7201a8\"],[0.3333333333333333,\"#9c179e\"],[0.4444444444444444,\"#bd3786\"],[0.5555555555555556,\"#d8576b\"],[0.6666666666666666,\"#ed7953\"],[0.7777777777777778,\"#fb9f3a\"],[0.8888888888888888,\"#fdca26\"],[1.0,\"#f0f921\"]]}],\"contourcarpet\":[{\"type\":\"contourcarpet\",\"colorbar\":{\"outlinewidth\":0,\"ticks\":\"\"}}],\"contour\":[{\"type\":\"contour\",\"colorbar\":{\"outlinewidth\":0,\"ticks\":\"\"},\"colorscale\":[[0.0,\"#0d0887\"],[0.1111111111111111,\"#46039f\"],[0.2222222222222222,\"#7201a8\"],[0.3333333333333333,\"#9c179e\"],[0.4444444444444444,\"#bd3786\"],[0.5555555555555556,\"#d8576b\"],[0.6666666666666666,\"#ed7953\"],[0.7777777777777778,\"#fb9f3a\"],[0.8888888888888888,\"#fdca26\"],[1.0,\"#f0f921\"]]}],\"surface\":[{\"type\":\"surface\",\"colorbar\":{\"outlinewidth\":0,\"ticks\":\"\"},\"colorscale\":[[0.0,\"#0d0887\"],[0.1111111111111111,\"#46039f\"],[0.2222222222222222,\"#7201a8\"],[0.3333333333333333,\"#9c179e\"],[0.4444444444444444,\"#bd3786\"],[0.5555555555555556,\"#d8576b\"],[0.6666666666666666,\"#ed7953\"],[0.7777777777777778,\"#fb9f3a\"],[0.8888888888888888,\"#fdca26\"],[1.0,\"#f0f921\"]]}],\"mesh3d\":[{\"type\":\"mesh3d\",\"colorbar\":{\"outlinewidth\":0,\"ticks\":\"\"}}],\"scatter\":[{\"fillpattern\":{\"fillmode\":\"overlay\",\"size\":10,\"solidity\":0.2},\"type\":\"scatter\"}],\"parcoords\":[{\"type\":\"parcoords\",\"line\":{\"colorbar\":{\"outlinewidth\":0,\"ticks\":\"\"}}}],\"scatterpolargl\":[{\"type\":\"scatterpolargl\",\"marker\":{\"colorbar\":{\"outlinewidth\":0,\"ticks\":\"\"}}}],\"bar\":[{\"error_x\":{\"color\":\"#2a3f5f\"},\"error_y\":{\"color\":\"#2a3f5f\"},\"marker\":{\"line\":{\"color\":\"#E5ECF6\",\"width\":0.5},\"pattern\":{\"fillmode\":\"overlay\",\"size\":10,\"solidity\":0.2}},\"type\":\"bar\"}],\"scattergeo\":[{\"type\":\"scattergeo\",\"marker\":{\"colorbar\":{\"outlinewidth\":0,\"ticks\":\"\"}}}],\"scatterpolar\":[{\"type\":\"scatterpolar\",\"marker\":{\"colorbar\":{\"outlinewidth\":0,\"ticks\":\"\"}}}],\"histogram\":[{\"marker\":{\"pattern\":{\"fillmode\":\"overlay\",\"size\":10,\"solidity\":0.2}},\"type\":\"histogram\"}],\"scattergl\":[{\"type\":\"scattergl\",\"marker\":{\"colorbar\":{\"outlinewidth\":0,\"ticks\":\"\"}}}],\"scatter3d\":[{\"type\":\"scatter3d\",\"line\":{\"colorbar\":{\"outlinewidth\":0,\"ticks\":\"\"}},\"marker\":{\"colorbar\":{\"outlinewidth\":0,\"ticks\":\"\"}}}],\"scattermapbox\":[{\"type\":\"scattermapbox\",\"marker\":{\"colorbar\":{\"outlinewidth\":0,\"ticks\":\"\"}}}],\"scatterternary\":[{\"type\":\"scatterternary\",\"marker\":{\"colorbar\":{\"outlinewidth\":0,\"ticks\":\"\"}}}],\"scattercarpet\":[{\"type\":\"scattercarpet\",\"marker\":{\"colorbar\":{\"outlinewidth\":0,\"ticks\":\"\"}}}],\"carpet\":[{\"aaxis\":{\"endlinecolor\":\"#2a3f5f\",\"gridcolor\":\"white\",\"linecolor\":\"white\",\"minorgridcolor\":\"white\",\"startlinecolor\":\"#2a3f5f\"},\"baxis\":{\"endlinecolor\":\"#2a3f5f\",\"gridcolor\":\"white\",\"linecolor\":\"white\",\"minorgridcolor\":\"white\",\"startlinecolor\":\"#2a3f5f\"},\"type\":\"carpet\"}],\"table\":[{\"cells\":{\"fill\":{\"color\":\"#EBF0F8\"},\"line\":{\"color\":\"white\"}},\"header\":{\"fill\":{\"color\":\"#C8D4E3\"},\"line\":{\"color\":\"white\"}},\"type\":\"table\"}],\"barpolar\":[{\"marker\":{\"line\":{\"color\":\"#E5ECF6\",\"width\":0.5},\"pattern\":{\"fillmode\":\"overlay\",\"size\":10,\"solidity\":0.2}},\"type\":\"barpolar\"}],\"pie\":[{\"automargin\":true,\"type\":\"pie\"}]},\"layout\":{\"autotypenumbers\":\"strict\",\"colorway\":[\"#636efa\",\"#EF553B\",\"#00cc96\",\"#ab63fa\",\"#FFA15A\",\"#19d3f3\",\"#FF6692\",\"#B6E880\",\"#FF97FF\",\"#FECB52\"],\"font\":{\"color\":\"#2a3f5f\"},\"hovermode\":\"closest\",\"hoverlabel\":{\"align\":\"left\"},\"paper_bgcolor\":\"white\",\"plot_bgcolor\":\"#E5ECF6\",\"polar\":{\"bgcolor\":\"#E5ECF6\",\"angularaxis\":{\"gridcolor\":\"white\",\"linecolor\":\"white\",\"ticks\":\"\"},\"radialaxis\":{\"gridcolor\":\"white\",\"linecolor\":\"white\",\"ticks\":\"\"}},\"ternary\":{\"bgcolor\":\"#E5ECF6\",\"aaxis\":{\"gridcolor\":\"white\",\"linecolor\":\"white\",\"ticks\":\"\"},\"baxis\":{\"gridcolor\":\"white\",\"linecolor\":\"white\",\"ticks\":\"\"},\"caxis\":{\"gridcolor\":\"white\",\"linecolor\":\"white\",\"ticks\":\"\"}},\"coloraxis\":{\"colorbar\":{\"outlinewidth\":0,\"ticks\":\"\"}},\"colorscale\":{\"sequential\":[[0.0,\"#0d0887\"],[0.1111111111111111,\"#46039f\"],[0.2222222222222222,\"#7201a8\"],[0.3333333333333333,\"#9c179e\"],[0.4444444444444444,\"#bd3786\"],[0.5555555555555556,\"#d8576b\"],[0.6666666666666666,\"#ed7953\"],[0.7777777777777778,\"#fb9f3a\"],[0.8888888888888888,\"#fdca26\"],[1.0,\"#f0f921\"]],\"sequentialminus\":[[0.0,\"#0d0887\"],[0.1111111111111111,\"#46039f\"],[0.2222222222222222,\"#7201a8\"],[0.3333333333333333,\"#9c179e\"],[0.4444444444444444,\"#bd3786\"],[0.5555555555555556,\"#d8576b\"],[0.6666666666666666,\"#ed7953\"],[0.7777777777777778,\"#fb9f3a\"],[0.8888888888888888,\"#fdca26\"],[1.0,\"#f0f921\"]],\"diverging\":[[0,\"#8e0152\"],[0.1,\"#c51b7d\"],[0.2,\"#de77ae\"],[0.3,\"#f1b6da\"],[0.4,\"#fde0ef\"],[0.5,\"#f7f7f7\"],[0.6,\"#e6f5d0\"],[0.7,\"#b8e186\"],[0.8,\"#7fbc41\"],[0.9,\"#4d9221\"],[1,\"#276419\"]]},\"xaxis\":{\"gridcolor\":\"white\",\"linecolor\":\"white\",\"ticks\":\"\",\"title\":{\"standoff\":15},\"zerolinecolor\":\"white\",\"automargin\":true,\"zerolinewidth\":2},\"yaxis\":{\"gridcolor\":\"white\",\"linecolor\":\"white\",\"ticks\":\"\",\"title\":{\"standoff\":15},\"zerolinecolor\":\"white\",\"automargin\":true,\"zerolinewidth\":2},\"scene\":{\"xaxis\":{\"backgroundcolor\":\"#E5ECF6\",\"gridcolor\":\"white\",\"linecolor\":\"white\",\"showbackground\":true,\"ticks\":\"\",\"zerolinecolor\":\"white\",\"gridwidth\":2},\"yaxis\":{\"backgroundcolor\":\"#E5ECF6\",\"gridcolor\":\"white\",\"linecolor\":\"white\",\"showbackground\":true,\"ticks\":\"\",\"zerolinecolor\":\"white\",\"gridwidth\":2},\"zaxis\":{\"backgroundcolor\":\"#E5ECF6\",\"gridcolor\":\"white\",\"linecolor\":\"white\",\"showbackground\":true,\"ticks\":\"\",\"zerolinecolor\":\"white\",\"gridwidth\":2}},\"shapedefaults\":{\"line\":{\"color\":\"#2a3f5f\"}},\"annotationdefaults\":{\"arrowcolor\":\"#2a3f5f\",\"arrowhead\":0,\"arrowwidth\":1},\"geo\":{\"bgcolor\":\"white\",\"landcolor\":\"#E5ECF6\",\"subunitcolor\":\"white\",\"showland\":true,\"showlakes\":true,\"lakecolor\":\"white\"},\"title\":{\"x\":0.05},\"mapbox\":{\"style\":\"light\"}}},\"xaxis\":{\"anchor\":\"y\",\"domain\":[0.0,1.0],\"title\":{\"text\":\"Day\"}},\"yaxis\":{\"anchor\":\"x\",\"domain\":[0.0,1.0],\"title\":{\"text\":\"Daily Revenue\"}},\"legend\":{\"tracegroupgap\":0},\"title\":{\"text\":\"Daily Revenue Trend\"},\"hovermode\":\"x\"},                        {\"responsive\": true}                    ).then(function(){\n",
       "                            \n",
       "var gd = document.getElementById('219189c8-f161-4217-8acc-f0d3b0fefe62');\n",
       "var x = new MutationObserver(function (mutations, observer) {{\n",
       "        var display = window.getComputedStyle(gd).display;\n",
       "        if (!display || display === 'none') {{\n",
       "            console.log([gd, 'removed!']);\n",
       "            Plotly.purge(gd);\n",
       "            observer.disconnect();\n",
       "        }}\n",
       "}});\n",
       "\n",
       "// Listen for the removal of the full notebook cells\n",
       "var notebookContainer = gd.closest('#notebook-container');\n",
       "if (notebookContainer) {{\n",
       "    x.observe(notebookContainer, {childList: true});\n",
       "}}\n",
       "\n",
       "// Listen for the clearing of the current output cell\n",
       "var outputEl = gd.closest('.output');\n",
       "if (outputEl) {{\n",
       "    x.observe(outputEl, {childList: true});\n",
       "}}\n",
       "\n",
       "                        })                };                });            </script>        </div>"
      ]
     },
     "metadata": {},
     "output_type": "display_data"
    }
   ],
   "source": [
    "import plotly.express as px\n",
    "\n",
    "result6['day'] = pd.to_datetime(result6['day'])\n",
    "\n",
    "fig = px.line(result6, \n",
    "              x='day', \n",
    "              y='daily_revenue',\n",
    "              markers=True,\n",
    "              line_shape='linear',\n",
    "              title='Daily Revenue Trend')\n",
    "\n",
    "fig.update_layout(\n",
    "    xaxis_title='Day',\n",
    "    yaxis_title='Daily Revenue',\n",
    "    hovermode='x',\n",
    ")\n",
    "\n",
    "fig.show()"
   ]
  },
  {
   "cell_type": "markdown",
   "id": "990a8bdc",
   "metadata": {},
   "source": [
    "## Average Transaction Amount by Product Category"
   ]
  },
  {
   "cell_type": "code",
   "execution_count": 134,
   "id": "c1bb865e",
   "metadata": {},
   "outputs": [],
   "source": [
    "query7 = \"\"\"\n",
    "SELECT\n",
    "    merchant_type,\n",
    "    AVG(billing_amount) AS avg_billing_amount\n",
    "FROM transactions\n",
    "GROUP BY merchant_type\n",
    "ORDER BY avg_billing_amount desc;\n",
    "\n",
    "\"\"\" "
   ]
  },
  {
   "cell_type": "code",
   "execution_count": 135,
   "id": "157cfcab",
   "metadata": {},
   "outputs": [
    {
     "name": "stdout",
     "output_type": "stream",
     "text": [
      "Connected to MySQL database\n",
      "[('Art & Craft', Decimal('517626.5501')), ('Smart Home', Decimal('511525.9934')), ('Health & Wellness', Decimal('509882.4468')), ('Automotive', Decimal('509366.3330')), ('Luxury Products', Decimal('508542.8365')), ('Technology', Decimal('508230.3635')), ('Pet Care', Decimal('507374.6288')), ('Books & Literature', Decimal('506462.1586')), ('Digital Services', Decimal('505843.6090')), ('Fashion', Decimal('503731.1247')), ('Books & Magazines', Decimal('503676.0222')), ('Food & Beverage', Decimal('503232.9788')), ('Business Services', Decimal('502142.6176')), ('Music & Entertainment', Decimal('501925.6721')), ('Beauty Products', Decimal('501587.8264')), ('Hobbies & Crafts', Decimal('501336.8986')), ('Beauty & Personal Care', Decimal('501271.2906')), ('Auto Services', Decimal('499400.5252')), ('Food & Drinks', Decimal('498790.2336')), ('Wellness Products', Decimal('498773.5207')), ('Fitness', Decimal('498655.1483')), ('Culinary Products', Decimal('498464.6558')), ('Sports & Fitness', Decimal('498029.5469')), ('Tech Products', Decimal('497583.2401')), ('Pet Supplies', Decimal('497335.0067')), ('Smart Gadgets', Decimal('496937.4205')), ('Gaming', Decimal('496323.9605')), ('Artistic Products', Decimal('496276.2354')), ('Global Goods', Decimal('495831.5554')), ('Outdoor Products', Decimal('495653.3503')), ('Culinary', Decimal('495092.5823')), ('Eco-friendly Products', Decimal('493771.3680')), ('Home Decor', Decimal('492925.8606')), ('Gaming Products', Decimal('492895.5561')), ('Wellness', Decimal('492622.8202')), ('Health & Fitness', Decimal('490599.4172')), ('Home & Living', Decimal('489741.0145')), ('Kids Products', Decimal('489569.9970')), ('Outdoor & Recreation', Decimal('489161.8994')), ('Electronics', Decimal('487057.8562')), ('Travel & Leisure', Decimal('485476.1594')), ('Family Entertainment', Decimal('484215.9997'))]\n",
      "Connection closed\n"
     ]
    },
    {
     "name": "stderr",
     "output_type": "stream",
     "text": [
      "/tmp/ipykernel_70826/230398598.py:20: UserWarning: pandas only supports SQLAlchemy connectable (engine/connection) or database string URI or sqlite3 DBAPI2 connection. Other DBAPI2 objects are not tested. Please consider using SQLAlchemy.\n",
      "  df = pd.read_sql(query, connection)\n"
     ]
    }
   ],
   "source": [
    "result7 = MYSQL_QUERY(query7)"
   ]
  },
  {
   "cell_type": "code",
   "execution_count": 136,
   "id": "2d8eb492",
   "metadata": {},
   "outputs": [
    {
     "data": {
      "text/html": [
       "<div>\n",
       "<style scoped>\n",
       "    .dataframe tbody tr th:only-of-type {\n",
       "        vertical-align: middle;\n",
       "    }\n",
       "\n",
       "    .dataframe tbody tr th {\n",
       "        vertical-align: top;\n",
       "    }\n",
       "\n",
       "    .dataframe thead th {\n",
       "        text-align: right;\n",
       "    }\n",
       "</style>\n",
       "<table border=\"1\" class=\"dataframe\">\n",
       "  <thead>\n",
       "    <tr style=\"text-align: right;\">\n",
       "      <th></th>\n",
       "      <th>merchant_type</th>\n",
       "      <th>avg_billing_amount</th>\n",
       "    </tr>\n",
       "  </thead>\n",
       "  <tbody>\n",
       "    <tr>\n",
       "      <th>0</th>\n",
       "      <td>Art &amp; Craft</td>\n",
       "      <td>517626.5501</td>\n",
       "    </tr>\n",
       "    <tr>\n",
       "      <th>1</th>\n",
       "      <td>Smart Home</td>\n",
       "      <td>511525.9934</td>\n",
       "    </tr>\n",
       "    <tr>\n",
       "      <th>2</th>\n",
       "      <td>Health &amp; Wellness</td>\n",
       "      <td>509882.4468</td>\n",
       "    </tr>\n",
       "    <tr>\n",
       "      <th>3</th>\n",
       "      <td>Automotive</td>\n",
       "      <td>509366.3330</td>\n",
       "    </tr>\n",
       "    <tr>\n",
       "      <th>4</th>\n",
       "      <td>Luxury Products</td>\n",
       "      <td>508542.8365</td>\n",
       "    </tr>\n",
       "    <tr>\n",
       "      <th>5</th>\n",
       "      <td>Technology</td>\n",
       "      <td>508230.3635</td>\n",
       "    </tr>\n",
       "    <tr>\n",
       "      <th>6</th>\n",
       "      <td>Pet Care</td>\n",
       "      <td>507374.6288</td>\n",
       "    </tr>\n",
       "    <tr>\n",
       "      <th>7</th>\n",
       "      <td>Books &amp; Literature</td>\n",
       "      <td>506462.1586</td>\n",
       "    </tr>\n",
       "    <tr>\n",
       "      <th>8</th>\n",
       "      <td>Digital Services</td>\n",
       "      <td>505843.6090</td>\n",
       "    </tr>\n",
       "    <tr>\n",
       "      <th>9</th>\n",
       "      <td>Fashion</td>\n",
       "      <td>503731.1247</td>\n",
       "    </tr>\n",
       "    <tr>\n",
       "      <th>10</th>\n",
       "      <td>Books &amp; Magazines</td>\n",
       "      <td>503676.0222</td>\n",
       "    </tr>\n",
       "    <tr>\n",
       "      <th>11</th>\n",
       "      <td>Food &amp; Beverage</td>\n",
       "      <td>503232.9788</td>\n",
       "    </tr>\n",
       "    <tr>\n",
       "      <th>12</th>\n",
       "      <td>Business Services</td>\n",
       "      <td>502142.6176</td>\n",
       "    </tr>\n",
       "    <tr>\n",
       "      <th>13</th>\n",
       "      <td>Music &amp; Entertainment</td>\n",
       "      <td>501925.6721</td>\n",
       "    </tr>\n",
       "    <tr>\n",
       "      <th>14</th>\n",
       "      <td>Beauty Products</td>\n",
       "      <td>501587.8264</td>\n",
       "    </tr>\n",
       "    <tr>\n",
       "      <th>15</th>\n",
       "      <td>Hobbies &amp; Crafts</td>\n",
       "      <td>501336.8986</td>\n",
       "    </tr>\n",
       "    <tr>\n",
       "      <th>16</th>\n",
       "      <td>Beauty &amp; Personal Care</td>\n",
       "      <td>501271.2906</td>\n",
       "    </tr>\n",
       "    <tr>\n",
       "      <th>17</th>\n",
       "      <td>Auto Services</td>\n",
       "      <td>499400.5252</td>\n",
       "    </tr>\n",
       "    <tr>\n",
       "      <th>18</th>\n",
       "      <td>Food &amp; Drinks</td>\n",
       "      <td>498790.2336</td>\n",
       "    </tr>\n",
       "    <tr>\n",
       "      <th>19</th>\n",
       "      <td>Wellness Products</td>\n",
       "      <td>498773.5207</td>\n",
       "    </tr>\n",
       "    <tr>\n",
       "      <th>20</th>\n",
       "      <td>Fitness</td>\n",
       "      <td>498655.1483</td>\n",
       "    </tr>\n",
       "    <tr>\n",
       "      <th>21</th>\n",
       "      <td>Culinary Products</td>\n",
       "      <td>498464.6558</td>\n",
       "    </tr>\n",
       "    <tr>\n",
       "      <th>22</th>\n",
       "      <td>Sports &amp; Fitness</td>\n",
       "      <td>498029.5469</td>\n",
       "    </tr>\n",
       "    <tr>\n",
       "      <th>23</th>\n",
       "      <td>Tech Products</td>\n",
       "      <td>497583.2401</td>\n",
       "    </tr>\n",
       "    <tr>\n",
       "      <th>24</th>\n",
       "      <td>Pet Supplies</td>\n",
       "      <td>497335.0067</td>\n",
       "    </tr>\n",
       "    <tr>\n",
       "      <th>25</th>\n",
       "      <td>Smart Gadgets</td>\n",
       "      <td>496937.4205</td>\n",
       "    </tr>\n",
       "    <tr>\n",
       "      <th>26</th>\n",
       "      <td>Gaming</td>\n",
       "      <td>496323.9605</td>\n",
       "    </tr>\n",
       "    <tr>\n",
       "      <th>27</th>\n",
       "      <td>Artistic Products</td>\n",
       "      <td>496276.2354</td>\n",
       "    </tr>\n",
       "    <tr>\n",
       "      <th>28</th>\n",
       "      <td>Global Goods</td>\n",
       "      <td>495831.5554</td>\n",
       "    </tr>\n",
       "    <tr>\n",
       "      <th>29</th>\n",
       "      <td>Outdoor Products</td>\n",
       "      <td>495653.3503</td>\n",
       "    </tr>\n",
       "    <tr>\n",
       "      <th>30</th>\n",
       "      <td>Culinary</td>\n",
       "      <td>495092.5823</td>\n",
       "    </tr>\n",
       "    <tr>\n",
       "      <th>31</th>\n",
       "      <td>Eco-friendly Products</td>\n",
       "      <td>493771.3680</td>\n",
       "    </tr>\n",
       "    <tr>\n",
       "      <th>32</th>\n",
       "      <td>Home Decor</td>\n",
       "      <td>492925.8606</td>\n",
       "    </tr>\n",
       "    <tr>\n",
       "      <th>33</th>\n",
       "      <td>Gaming Products</td>\n",
       "      <td>492895.5561</td>\n",
       "    </tr>\n",
       "    <tr>\n",
       "      <th>34</th>\n",
       "      <td>Wellness</td>\n",
       "      <td>492622.8202</td>\n",
       "    </tr>\n",
       "    <tr>\n",
       "      <th>35</th>\n",
       "      <td>Health &amp; Fitness</td>\n",
       "      <td>490599.4172</td>\n",
       "    </tr>\n",
       "    <tr>\n",
       "      <th>36</th>\n",
       "      <td>Home &amp; Living</td>\n",
       "      <td>489741.0145</td>\n",
       "    </tr>\n",
       "    <tr>\n",
       "      <th>37</th>\n",
       "      <td>Kids Products</td>\n",
       "      <td>489569.9970</td>\n",
       "    </tr>\n",
       "    <tr>\n",
       "      <th>38</th>\n",
       "      <td>Outdoor &amp; Recreation</td>\n",
       "      <td>489161.8994</td>\n",
       "    </tr>\n",
       "    <tr>\n",
       "      <th>39</th>\n",
       "      <td>Electronics</td>\n",
       "      <td>487057.8562</td>\n",
       "    </tr>\n",
       "    <tr>\n",
       "      <th>40</th>\n",
       "      <td>Travel &amp; Leisure</td>\n",
       "      <td>485476.1594</td>\n",
       "    </tr>\n",
       "    <tr>\n",
       "      <th>41</th>\n",
       "      <td>Family Entertainment</td>\n",
       "      <td>484215.9997</td>\n",
       "    </tr>\n",
       "  </tbody>\n",
       "</table>\n",
       "</div>"
      ],
      "text/plain": [
       "             merchant_type  avg_billing_amount\n",
       "0              Art & Craft         517626.5501\n",
       "1               Smart Home         511525.9934\n",
       "2        Health & Wellness         509882.4468\n",
       "3               Automotive         509366.3330\n",
       "4          Luxury Products         508542.8365\n",
       "5               Technology         508230.3635\n",
       "6                 Pet Care         507374.6288\n",
       "7       Books & Literature         506462.1586\n",
       "8         Digital Services         505843.6090\n",
       "9                  Fashion         503731.1247\n",
       "10       Books & Magazines         503676.0222\n",
       "11         Food & Beverage         503232.9788\n",
       "12       Business Services         502142.6176\n",
       "13   Music & Entertainment         501925.6721\n",
       "14         Beauty Products         501587.8264\n",
       "15        Hobbies & Crafts         501336.8986\n",
       "16  Beauty & Personal Care         501271.2906\n",
       "17           Auto Services         499400.5252\n",
       "18           Food & Drinks         498790.2336\n",
       "19       Wellness Products         498773.5207\n",
       "20                 Fitness         498655.1483\n",
       "21       Culinary Products         498464.6558\n",
       "22        Sports & Fitness         498029.5469\n",
       "23           Tech Products         497583.2401\n",
       "24            Pet Supplies         497335.0067\n",
       "25           Smart Gadgets         496937.4205\n",
       "26                  Gaming         496323.9605\n",
       "27       Artistic Products         496276.2354\n",
       "28            Global Goods         495831.5554\n",
       "29        Outdoor Products         495653.3503\n",
       "30                Culinary         495092.5823\n",
       "31   Eco-friendly Products         493771.3680\n",
       "32              Home Decor         492925.8606\n",
       "33         Gaming Products         492895.5561\n",
       "34                Wellness         492622.8202\n",
       "35        Health & Fitness         490599.4172\n",
       "36           Home & Living         489741.0145\n",
       "37           Kids Products         489569.9970\n",
       "38    Outdoor & Recreation         489161.8994\n",
       "39             Electronics         487057.8562\n",
       "40        Travel & Leisure         485476.1594\n",
       "41    Family Entertainment         484215.9997"
      ]
     },
     "execution_count": 136,
     "metadata": {},
     "output_type": "execute_result"
    }
   ],
   "source": [
    "result7"
   ]
  },
  {
   "cell_type": "code",
   "execution_count": 169,
   "id": "4102d5f8",
   "metadata": {},
   "outputs": [
    {
     "data": {
      "image/png": "[encoded data removed]",
      "text/plain": [
       "<Figure size 1000x600 with 1 Axes>"
      ]
     },
     "metadata": {},
     "output_type": "display_data"
    }
   ],
   "source": [
    "plt.figure(figsize=(10, 6))\n",
    "sns.barplot(x='avg_billing_amount',\n",
    "            y='merchant_type', \n",
    "            data=result7.head(6), \n",
    "            color='steelblue')\n",
    "plt.title('Average Billing Amount by Product Category')\n",
    "plt.xlabel('Average Billing Amount')\n",
    "plt.ylabel('Product Category')\n",
    "\n",
    "plt.show()"
   ]
  },
  {
   "cell_type": "markdown",
   "id": "99c065a5",
   "metadata": {},
   "source": [
    "## Transaction Funnel Analysis:"
   ]
  },
  {
   "cell_type": "code",
   "execution_count": 137,
   "id": "b393f7b6",
   "metadata": {},
   "outputs": [],
   "source": [
    "query8 = \"\"\"\n",
    "SELECT\n",
    "    transaction_status,\n",
    "    COUNT(*) AS transaction_count\n",
    "FROM transactions\n",
    "GROUP BY transaction_status;\n",
    "\n",
    "\"\"\""
   ]
  },
  {
   "cell_type": "code",
   "execution_count": 138,
   "id": "31cab8b5",
   "metadata": {},
   "outputs": [
    {
     "name": "stdout",
     "output_type": "stream",
     "text": [
      "Connected to MySQL database\n",
      "[('1829', 18101), ('1002', 18181), ('0', 18274), ('1006', 18226), ('1022', 18157), ('9102', 18061)]\n",
      "Connection closed\n"
     ]
    },
    {
     "name": "stderr",
     "output_type": "stream",
     "text": [
      "/tmp/ipykernel_70826/230398598.py:20: UserWarning: pandas only supports SQLAlchemy connectable (engine/connection) or database string URI or sqlite3 DBAPI2 connection. Other DBAPI2 objects are not tested. Please consider using SQLAlchemy.\n",
      "  df = pd.read_sql(query, connection)\n"
     ]
    }
   ],
   "source": [
    "result8 = MYSQL_QUERY(query8)"
   ]
  },
  {
   "cell_type": "code",
   "execution_count": 139,
   "id": "fc7913a6",
   "metadata": {},
   "outputs": [
    {
     "data": {
      "text/html": [
       "<div>\n",
       "<style scoped>\n",
       "    .dataframe tbody tr th:only-of-type {\n",
       "        vertical-align: middle;\n",
       "    }\n",
       "\n",
       "    .dataframe tbody tr th {\n",
       "        vertical-align: top;\n",
       "    }\n",
       "\n",
       "    .dataframe thead th {\n",
       "        text-align: right;\n",
       "    }\n",
       "</style>\n",
       "<table border=\"1\" class=\"dataframe\">\n",
       "  <thead>\n",
       "    <tr style=\"text-align: right;\">\n",
       "      <th></th>\n",
       "      <th>transaction_status</th>\n",
       "      <th>transaction_count</th>\n",
       "    </tr>\n",
       "  </thead>\n",
       "  <tbody>\n",
       "    <tr>\n",
       "      <th>0</th>\n",
       "      <td>1829</td>\n",
       "      <td>18101</td>\n",
       "    </tr>\n",
       "    <tr>\n",
       "      <th>1</th>\n",
       "      <td>1002</td>\n",
       "      <td>18181</td>\n",
       "    </tr>\n",
       "    <tr>\n",
       "      <th>2</th>\n",
       "      <td>0</td>\n",
       "      <td>18274</td>\n",
       "    </tr>\n",
       "    <tr>\n",
       "      <th>3</th>\n",
       "      <td>1006</td>\n",
       "      <td>18226</td>\n",
       "    </tr>\n",
       "    <tr>\n",
       "      <th>4</th>\n",
       "      <td>1022</td>\n",
       "      <td>18157</td>\n",
       "    </tr>\n",
       "    <tr>\n",
       "      <th>5</th>\n",
       "      <td>9102</td>\n",
       "      <td>18061</td>\n",
       "    </tr>\n",
       "  </tbody>\n",
       "</table>\n",
       "</div>"
      ],
      "text/plain": [
       "  transaction_status  transaction_count\n",
       "0               1829              18101\n",
       "1               1002              18181\n",
       "2                  0              18274\n",
       "3               1006              18226\n",
       "4               1022              18157\n",
       "5               9102              18061"
      ]
     },
     "execution_count": 139,
     "metadata": {},
     "output_type": "execute_result"
    }
   ],
   "source": [
    "result8"
   ]
  },
  {
   "cell_type": "markdown",
   "id": "80f612ba",
   "metadata": {},
   "source": [
    "| Code | Meaning                        | Status  |\n",
    "|------|--------------------------------|---------|\n",
    "| 0000 | Approved                       | SUCCESS |\n",
    "| 1829 | Bad authorization code         | FAILED  |\n",
    "| 1002 | Suspected fraud                | FAILED  |\n",
    "| 1006 | Allowable PIN tries exceeded   | FAILED  |\n",
    "| 1022 | Security violation             | MISSING |\n",
    "| 9102 | Invalid transaction            | MISSING |\n"
   ]
  },
  {
   "cell_type": "code",
   "execution_count": 148,
   "id": "2a74bbe9",
   "metadata": {},
   "outputs": [],
   "source": [
    "## mapping:\n",
    "\n",
    "data = {'transaction_status': [1829, 1002, 0, 1006, 1022, 9102],\n",
    "        'transaction_count': [18101, 18181, 18274, 18226, 18157, 18061]}\n",
    "\n",
    "status_mapping = {\n",
    "    '0': 'SUCCESS',\n",
    "    '1829': 'FAILED',\n",
    "    '1002': 'FAILED',\n",
    "    '1006': 'FAILED',\n",
    "    '1022': 'MISSING',\n",
    "    '9102': 'MISSING'\n",
    "}"
   ]
  },
  {
   "cell_type": "code",
   "execution_count": 149,
   "id": "25899b88",
   "metadata": {},
   "outputs": [],
   "source": [
    "result8['status_meaning'] = result8['transaction_status'].map(status_mapping)"
   ]
  },
  {
   "cell_type": "code",
   "execution_count": 150,
   "id": "9d2d9739",
   "metadata": {},
   "outputs": [
    {
     "data": {
      "text/html": [
       "<div>\n",
       "<style scoped>\n",
       "    .dataframe tbody tr th:only-of-type {\n",
       "        vertical-align: middle;\n",
       "    }\n",
       "\n",
       "    .dataframe tbody tr th {\n",
       "        vertical-align: top;\n",
       "    }\n",
       "\n",
       "    .dataframe thead th {\n",
       "        text-align: right;\n",
       "    }\n",
       "</style>\n",
       "<table border=\"1\" class=\"dataframe\">\n",
       "  <thead>\n",
       "    <tr style=\"text-align: right;\">\n",
       "      <th></th>\n",
       "      <th>transaction_status</th>\n",
       "      <th>transaction_count</th>\n",
       "      <th>status_meaning</th>\n",
       "    </tr>\n",
       "  </thead>\n",
       "  <tbody>\n",
       "    <tr>\n",
       "      <th>0</th>\n",
       "      <td>1829</td>\n",
       "      <td>18101</td>\n",
       "      <td>FAILED</td>\n",
       "    </tr>\n",
       "    <tr>\n",
       "      <th>1</th>\n",
       "      <td>1002</td>\n",
       "      <td>18181</td>\n",
       "      <td>FAILED</td>\n",
       "    </tr>\n",
       "    <tr>\n",
       "      <th>2</th>\n",
       "      <td>0</td>\n",
       "      <td>18274</td>\n",
       "      <td>SUCCESS</td>\n",
       "    </tr>\n",
       "    <tr>\n",
       "      <th>3</th>\n",
       "      <td>1006</td>\n",
       "      <td>18226</td>\n",
       "      <td>FAILED</td>\n",
       "    </tr>\n",
       "    <tr>\n",
       "      <th>4</th>\n",
       "      <td>1022</td>\n",
       "      <td>18157</td>\n",
       "      <td>MISSING</td>\n",
       "    </tr>\n",
       "    <tr>\n",
       "      <th>5</th>\n",
       "      <td>9102</td>\n",
       "      <td>18061</td>\n",
       "      <td>MISSING</td>\n",
       "    </tr>\n",
       "  </tbody>\n",
       "</table>\n",
       "</div>"
      ],
      "text/plain": [
       "  transaction_status  transaction_count status_meaning\n",
       "0               1829              18101         FAILED\n",
       "1               1002              18181         FAILED\n",
       "2                  0              18274        SUCCESS\n",
       "3               1006              18226         FAILED\n",
       "4               1022              18157        MISSING\n",
       "5               9102              18061        MISSING"
      ]
     },
     "execution_count": 150,
     "metadata": {},
     "output_type": "execute_result"
    }
   ],
   "source": [
    "result8"
   ]
  },
  {
   "cell_type": "code",
   "execution_count": 209,
   "id": "c80b54c6",
   "metadata": {},
   "outputs": [
    {
     "data": {
      "text/html": [
       "<div>\n",
       "<style scoped>\n",
       "    .dataframe tbody tr th:only-of-type {\n",
       "        vertical-align: middle;\n",
       "    }\n",
       "\n",
       "    .dataframe tbody tr th {\n",
       "        vertical-align: top;\n",
       "    }\n",
       "\n",
       "    .dataframe thead th {\n",
       "        text-align: right;\n",
       "    }\n",
       "</style>\n",
       "<table border=\"1\" class=\"dataframe\">\n",
       "  <thead>\n",
       "    <tr style=\"text-align: right;\">\n",
       "      <th></th>\n",
       "      <th>status_meaning</th>\n",
       "      <th>transaction_count</th>\n",
       "    </tr>\n",
       "  </thead>\n",
       "  <tbody>\n",
       "    <tr>\n",
       "      <th>0</th>\n",
       "      <td>FAILED</td>\n",
       "      <td>54508</td>\n",
       "    </tr>\n",
       "    <tr>\n",
       "      <th>1</th>\n",
       "      <td>MISSING</td>\n",
       "      <td>36218</td>\n",
       "    </tr>\n",
       "    <tr>\n",
       "      <th>2</th>\n",
       "      <td>SUCCESS</td>\n",
       "      <td>18274</td>\n",
       "    </tr>\n",
       "  </tbody>\n",
       "</table>\n",
       "</div>"
      ],
      "text/plain": [
       "  status_meaning  transaction_count\n",
       "0         FAILED              54508\n",
       "1        MISSING              36218\n",
       "2        SUCCESS              18274"
      ]
     },
     "execution_count": 209,
     "metadata": {},
     "output_type": "execute_result"
    }
   ],
   "source": [
    "tf = result8.groupby('status_meaning')['transaction_count'].sum().reset_index().sort_values(by='transaction_count', ascending=False)\n",
    "tf"
   ]
  },
  {
   "cell_type": "code",
   "execution_count": 210,
   "id": "5e396770",
   "metadata": {},
   "outputs": [
    {
     "data": {
      "application/vnd.plotly.v1+json": {
       "config": {
        "plotlyServerURL": "https://plot.ly"
       },
       "data": [
        {
         "hovertemplate": "status_meaning=%{x}<br>Transaction Count=%{y}<extra></extra>",
         "legendgroup": "",
         "marker": {
          "color": "#636efa"
         },
         "name": "",
         "orientation": "v",
         "showlegend": false,
         "type": "funnel",
         "x": [
          "FAILED",
          "MISSING",
          "SUCCESS"
         ],
         "xaxis": "x",
         "y": [
          54508,
          36218,
          18274
         ],
         "yaxis": "y"
        }
       ],
       "layout": {
        "legend": {
         "tracegroupgap": 0
        },
        "template": {
         "data": {
          "bar": [
           {
            "error_x": {
             "color": "#2a3f5f"
            },
            "error_y": {
             "color": "#2a3f5f"
            },
            "marker": {
             "line": {
              "color": "#E5ECF6",
              "width": 0.5
             },
             "pattern": {
              "fillmode": "overlay",
              "size": 10,
              "solidity": 0.2
             }
            },
            "type": "bar"
           }
          ],
          "barpolar": [
           {
            "marker": {
             "line": {
              "color": "#E5ECF6",
              "width": 0.5
             },
             "pattern": {
              "fillmode": "overlay",
              "size": 10,
              "solidity": 0.2
             }
            },
            "type": "barpolar"
           }
          ],
          "carpet": [
           {
            "aaxis": {
             "endlinecolor": "#2a3f5f",
             "gridcolor": "white",
             "linecolor": "white",
             "minorgridcolor": "white",
             "startlinecolor": "#2a3f5f"
            },
            "baxis": {
             "endlinecolor": "#2a3f5f",
             "gridcolor": "white",
             "linecolor": "white",
             "minorgridcolor": "white",
             "startlinecolor": "#2a3f5f"
            },
            "type": "carpet"
           }
          ],
          "choropleth": [
           {
            "colorbar": {
             "outlinewidth": 0,
             "ticks": ""
            },
            "type": "choropleth"
           }
          ],
          "contour": [
           {
            "colorbar": {
             "outlinewidth": 0,
             "ticks": ""
            },
            "colorscale": [
             [
              0,
              "#0d0887"
             ],
             [
              0.1111111111111111,
              "#46039f"
             ],
             [
              0.2222222222222222,
              "#7201a8"
             ],
             [
              0.3333333333333333,
              "#9c179e"
             ],
             [
              0.4444444444444444,
              "#bd3786"
             ],
             [
              0.5555555555555556,
              "#d8576b"
             ],
             [
              0.6666666666666666,
              "#ed7953"
             ],
             [
              0.7777777777777778,
              "#fb9f3a"
             ],
             [
              0.8888888888888888,
              "#fdca26"
             ],
             [
              1,
              "#f0f921"
             ]
            ],
            "type": "contour"
           }
          ],
          "contourcarpet": [
           {
            "colorbar": {
             "outlinewidth": 0,
             "ticks": ""
            },
            "type": "contourcarpet"
           }
          ],
          "heatmap": [
           {
            "colorbar": {
             "outlinewidth": 0,
             "ticks": ""
            },
            "colorscale": [
             [
              0,
              "#0d0887"
             ],
             [
              0.1111111111111111,
              "#46039f"
             ],
             [
              0.2222222222222222,
              "#7201a8"
             ],
             [
              0.3333333333333333,
              "#9c179e"
             ],
             [
              0.4444444444444444,
              "#bd3786"
             ],
             [
              0.5555555555555556,
              "#d8576b"
             ],
             [
              0.6666666666666666,
              "#ed7953"
             ],
             [
              0.7777777777777778,
              "#fb9f3a"
             ],
             [
              0.8888888888888888,
              "#fdca26"
             ],
             [
              1,
              "#f0f921"
             ]
            ],
            "type": "heatmap"
           }
          ],
          "heatmapgl": [
           {
            "colorbar": {
             "outlinewidth": 0,
             "ticks": ""
            },
            "colorscale": [
             [
              0,
              "#0d0887"
             ],
             [
              0.1111111111111111,
              "#46039f"
             ],
             [
              0.2222222222222222,
              "#7201a8"
             ],
             [
              0.3333333333333333,
              "#9c179e"
             ],
             [
              0.4444444444444444,
              "#bd3786"
             ],
             [
              0.5555555555555556,
              "#d8576b"
             ],
             [
              0.6666666666666666,
              "#ed7953"
             ],
             [
              0.7777777777777778,
              "#fb9f3a"
             ],
             [
              0.8888888888888888,
              "#fdca26"
             ],
             [
              1,
              "#f0f921"
             ]
            ],
            "type": "heatmapgl"
           }
          ],
          "histogram": [
           {
            "marker": {
             "pattern": {
              "fillmode": "overlay",
              "size": 10,
              "solidity": 0.2
             }
            },
            "type": "histogram"
           }
          ],
          "histogram2d": [
           {
            "colorbar": {
             "outlinewidth": 0,
             "ticks": ""
            },
            "colorscale": [
             [
              0,
              "#0d0887"
             ],
             [
              0.1111111111111111,
              "#46039f"
             ],
             [
              0.2222222222222222,
              "#7201a8"
             ],
             [
              0.3333333333333333,
              "#9c179e"
             ],
             [
              0.4444444444444444,
              "#bd3786"
             ],
             [
              0.5555555555555556,
              "#d8576b"
             ],
             [
              0.6666666666666666,
              "#ed7953"
             ],
             [
              0.7777777777777778,
              "#fb9f3a"
             ],
             [
              0.8888888888888888,
              "#fdca26"
             ],
             [
              1,
              "#f0f921"
             ]
            ],
            "type": "histogram2d"
           }
          ],
          "histogram2dcontour": [
           {
            "colorbar": {
             "outlinewidth": 0,
             "ticks": ""
            },
            "colorscale": [
             [
              0,
              "#0d0887"
             ],
             [
              0.1111111111111111,
              "#46039f"
             ],
             [
              0.2222222222222222,
              "#7201a8"
             ],
             [
              0.3333333333333333,
              "#9c179e"
             ],
             [
              0.4444444444444444,
              "#bd3786"
             ],
             [
              0.5555555555555556,
              "#d8576b"
             ],
             [
              0.6666666666666666,
              "#ed7953"
             ],
             [
              0.7777777777777778,
              "#fb9f3a"
             ],
             [
              0.8888888888888888,
              "#fdca26"
             ],
             [
              1,
              "#f0f921"
             ]
            ],
            "type": "histogram2dcontour"
           }
          ],
          "mesh3d": [
           {
            "colorbar": {
             "outlinewidth": 0,
             "ticks": ""
            },
            "type": "mesh3d"
           }
          ],
          "parcoords": [
           {
            "line": {
             "colorbar": {
              "outlinewidth": 0,
              "ticks": ""
             }
            },
            "type": "parcoords"
           }
          ],
          "pie": [
           {
            "automargin": true,
            "type": "pie"
           }
          ],
          "scatter": [
           {
            "fillpattern": {
             "fillmode": "overlay",
             "size": 10,
             "solidity": 0.2
            },
            "type": "scatter"
           }
          ],
          "scatter3d": [
           {
            "line": {
             "colorbar": {
              "outlinewidth": 0,
              "ticks": ""
             }
            },
            "marker": {
             "colorbar": {
              "outlinewidth": 0,
              "ticks": ""
             }
            },
            "type": "scatter3d"
           }
          ],
          "scattercarpet": [
           {
            "marker": {
             "colorbar": {
              "outlinewidth": 0,
              "ticks": ""
             }
            },
            "type": "scattercarpet"
           }
          ],
          "scattergeo": [
           {
            "marker": {
             "colorbar": {
              "outlinewidth": 0,
              "ticks": ""
             }
            },
            "type": "scattergeo"
           }
          ],
          "scattergl": [
           {
            "marker": {
             "colorbar": {
              "outlinewidth": 0,
              "ticks": ""
             }
            },
            "type": "scattergl"
           }
          ],
          "scattermapbox": [
           {
            "marker": {
             "colorbar": {
              "outlinewidth": 0,
              "ticks": ""
             }
            },
            "type": "scattermapbox"
           }
          ],
          "scatterpolar": [
           {
            "marker": {
             "colorbar": {
              "outlinewidth": 0,
              "ticks": ""
             }
            },
            "type": "scatterpolar"
           }
          ],
          "scatterpolargl": [
           {
            "marker": {
             "colorbar": {
              "outlinewidth": 0,
              "ticks": ""
             }
            },
            "type": "scatterpolargl"
           }
          ],
          "scatterternary": [
           {
            "marker": {
             "colorbar": {
              "outlinewidth": 0,
              "ticks": ""
             }
            },
            "type": "scatterternary"
           }
          ],
          "surface": [
           {
            "colorbar": {
             "outlinewidth": 0,
             "ticks": ""
            },
            "colorscale": [
             [
              0,
              "#0d0887"
             ],
             [
              0.1111111111111111,
              "#46039f"
             ],
             [
              0.2222222222222222,
              "#7201a8"
             ],
             [
              0.3333333333333333,
              "#9c179e"
             ],
             [
              0.4444444444444444,
              "#bd3786"
             ],
             [
              0.5555555555555556,
              "#d8576b"
             ],
             [
              0.6666666666666666,
              "#ed7953"
             ],
             [
              0.7777777777777778,
              "#fb9f3a"
             ],
             [
              0.8888888888888888,
              "#fdca26"
             ],
             [
              1,
              "#f0f921"
             ]
            ],
            "type": "surface"
           }
          ],
          "table": [
           {
            "cells": {
             "fill": {
              "color": "#EBF0F8"
             },
             "line": {
              "color": "white"
             }
            },
            "header": {
             "fill": {
              "color": "#C8D4E3"
             },
             "line": {
              "color": "white"
             }
            },
            "type": "table"
           }
          ]
         },
         "layout": {
          "annotationdefaults": {
           "arrowcolor": "#2a3f5f",
           "arrowhead": 0,
           "arrowwidth": 1
          },
          "autotypenumbers": "strict",
          "coloraxis": {
           "colorbar": {
            "outlinewidth": 0,
            "ticks": ""
           }
          },
          "colorscale": {
           "diverging": [
            [
             0,
             "#8e0152"
            ],
            [
             0.1,
             "#c51b7d"
            ],
            [
             0.2,
             "#de77ae"
            ],
            [
             0.3,
             "#f1b6da"
            ],
            [
             0.4,
             "#fde0ef"
            ],
            [
             0.5,
             "#f7f7f7"
            ],
            [
             0.6,
             "#e6f5d0"
            ],
            [
             0.7,
             "#b8e186"
            ],
            [
             0.8,
             "#7fbc41"
            ],
            [
             0.9,
             "#4d9221"
            ],
            [
             1,
             "#276419"
            ]
           ],
           "sequential": [
            [
             0,
             "#0d0887"
            ],
            [
             0.1111111111111111,
             "#46039f"
            ],
            [
             0.2222222222222222,
             "#7201a8"
            ],
            [
             0.3333333333333333,
             "#9c179e"
            ],
            [
             0.4444444444444444,
             "#bd3786"
            ],
            [
             0.5555555555555556,
             "#d8576b"
            ],
            [
             0.6666666666666666,
             "#ed7953"
            ],
            [
             0.7777777777777778,
             "#fb9f3a"
            ],
            [
             0.8888888888888888,
             "#fdca26"
            ],
            [
             1,
             "#f0f921"
            ]
           ],
           "sequentialminus": [
            [
             0,
             "#0d0887"
            ],
            [
             0.1111111111111111,
             "#46039f"
            ],
            [
             0.2222222222222222,
             "#7201a8"
            ],
            [
             0.3333333333333333,
             "#9c179e"
            ],
            [
             0.4444444444444444,
             "#bd3786"
            ],
            [
             0.5555555555555556,
             "#d8576b"
            ],
            [
             0.6666666666666666,
             "#ed7953"
            ],
            [
             0.7777777777777778,
             "#fb9f3a"
            ],
            [
             0.8888888888888888,
             "#fdca26"
            ],
            [
             1,
             "#f0f921"
            ]
           ]
          },
          "colorway": [
           "#636efa",
           "#EF553B",
           "#00cc96",
           "#ab63fa",
           "#FFA15A",
           "#19d3f3",
           "#FF6692",
           "#B6E880",
           "#FF97FF",
           "#FECB52"
          ],
          "font": {
           "color": "#2a3f5f"
          },
          "geo": {
           "bgcolor": "white",
           "lakecolor": "white",
           "landcolor": "#E5ECF6",
           "showlakes": true,
           "showland": true,
           "subunitcolor": "white"
          },
          "hoverlabel": {
           "align": "left"
          },
          "hovermode": "closest",
          "mapbox": {
           "style": "light"
          },
          "paper_bgcolor": "white",
          "plot_bgcolor": "#E5ECF6",
          "polar": {
           "angularaxis": {
            "gridcolor": "white",
            "linecolor": "white",
            "ticks": ""
           },
           "bgcolor": "#E5ECF6",
           "radialaxis": {
            "gridcolor": "white",
            "linecolor": "white",
            "ticks": ""
           }
          },
          "scene": {
           "xaxis": {
            "backgroundcolor": "#E5ECF6",
            "gridcolor": "white",
            "gridwidth": 2,
            "linecolor": "white",
            "showbackground": true,
            "ticks": "",
            "zerolinecolor": "white"
           },
           "yaxis": {
            "backgroundcolor": "#E5ECF6",
            "gridcolor": "white",
            "gridwidth": 2,
            "linecolor": "white",
            "showbackground": true,
            "ticks": "",
            "zerolinecolor": "white"
           },
           "zaxis": {
            "backgroundcolor": "#E5ECF6",
            "gridcolor": "white",
            "gridwidth": 2,
            "linecolor": "white",
            "showbackground": true,
            "ticks": "",
            "zerolinecolor": "white"
           }
          },
          "shapedefaults": {
           "line": {
            "color": "#2a3f5f"
           }
          },
          "ternary": {
           "aaxis": {
            "gridcolor": "white",
            "linecolor": "white",
            "ticks": ""
           },
           "baxis": {
            "gridcolor": "white",
            "linecolor": "white",
            "ticks": ""
           },
           "bgcolor": "#E5ECF6",
           "caxis": {
            "gridcolor": "white",
            "linecolor": "white",
            "ticks": ""
           }
          },
          "title": {
           "x": 0.05
          },
          "xaxis": {
           "automargin": true,
           "gridcolor": "white",
           "linecolor": "white",
           "ticks": "",
           "title": {
            "standoff": 15
           },
           "zerolinecolor": "white",
           "zerolinewidth": 2
          },
          "yaxis": {
           "automargin": true,
           "gridcolor": "white",
           "linecolor": "white",
           "ticks": "",
           "title": {
            "standoff": 15
           },
           "zerolinecolor": "white",
           "zerolinewidth": 2
          }
         }
        },
        "title": {
         "text": "Transaction Funnel"
        },
        "xaxis": {
         "anchor": "y",
         "domain": [
          0,
          1
         ],
         "title": {
          "text": "status_meaning"
         }
        },
        "yaxis": {
         "anchor": "x",
         "domain": [
          0,
          1
         ],
         "title": {
          "text": "Transaction Count"
         }
        }
       }
      },
      "text/html": [
       "<div>                            <div id=\"4431d3c0-63ad-4600-b7e2-4ddfc341e62b\" class=\"plotly-graph-div\" style=\"height:525px; width:100%;\"></div>            <script type=\"text/javascript\">                require([\"plotly\"], function(Plotly) {                    window.PLOTLYENV=window.PLOTLYENV || {};                                    if (document.getElementById(\"4431d3c0-63ad-4600-b7e2-4ddfc341e62b\")) {                    Plotly.newPlot(                        \"4431d3c0-63ad-4600-b7e2-4ddfc341e62b\",                        [{\"hovertemplate\":\"status_meaning=%{x}<br>Transaction Count=%{y}<extra></extra>\",\"legendgroup\":\"\",\"marker\":{\"color\":\"#636efa\"},\"name\":\"\",\"orientation\":\"v\",\"showlegend\":false,\"x\":[\"FAILED\",\"MISSING\",\"SUCCESS\"],\"xaxis\":\"x\",\"y\":[54508,36218,18274],\"yaxis\":\"y\",\"type\":\"funnel\"}],                        {\"template\":{\"data\":{\"histogram2dcontour\":[{\"type\":\"histogram2dcontour\",\"colorbar\":{\"outlinewidth\":0,\"ticks\":\"\"},\"colorscale\":[[0.0,\"#0d0887\"],[0.1111111111111111,\"#46039f\"],[0.2222222222222222,\"#7201a8\"],[0.3333333333333333,\"#9c179e\"],[0.4444444444444444,\"#bd3786\"],[0.5555555555555556,\"#d8576b\"],[0.6666666666666666,\"#ed7953\"],[0.7777777777777778,\"#fb9f3a\"],[0.8888888888888888,\"#fdca26\"],[1.0,\"#f0f921\"]]}],\"choropleth\":[{\"type\":\"choropleth\",\"colorbar\":{\"outlinewidth\":0,\"ticks\":\"\"}}],\"histogram2d\":[{\"type\":\"histogram2d\",\"colorbar\":{\"outlinewidth\":0,\"ticks\":\"\"},\"colorscale\":[[0.0,\"#0d0887\"],[0.1111111111111111,\"#46039f\"],[0.2222222222222222,\"#7201a8\"],[0.3333333333333333,\"#9c179e\"],[0.4444444444444444,\"#bd3786\"],[0.5555555555555556,\"#d8576b\"],[0.6666666666666666,\"#ed7953\"],[0.7777777777777778,\"#fb9f3a\"],[0.8888888888888888,\"#fdca26\"],[1.0,\"#f0f921\"]]}],\"heatmap\":[{\"type\":\"heatmap\",\"colorbar\":{\"outlinewidth\":0,\"ticks\":\"\"},\"colorscale\":[[0.0,\"#0d0887\"],[0.1111111111111111,\"#46039f\"],[0.2222222222222222,\"#7201a8\"],[0.3333333333333333,\"#9c179e\"],[0.4444444444444444,\"#bd3786\"],[0.5555555555555556,\"#d8576b\"],[0.6666666666666666,\"#ed7953\"],[0.7777777777777778,\"#fb9f3a\"],[0.8888888888888888,\"#fdca26\"],[1.0,\"#f0f921\"]]}],\"heatmapgl\":[{\"type\":\"heatmapgl\",\"colorbar\":{\"outlinewidth\":0,\"ticks\":\"\"},\"colorscale\":[[0.0,\"#0d0887\"],[0.1111111111111111,\"#46039f\"],[0.2222222222222222,\"#7201a8\"],[0.3333333333333333,\"#9c179e\"],[0.4444444444444444,\"#bd3786\"],[0.5555555555555556,\"#d8576b\"],[0.6666666666666666,\"#ed7953\"],[0.7777777777777778,\"#fb9f3a\"],[0.8888888888888888,\"#fdca26\"],[1.0,\"#f0f921\"]]}],\"contourcarpet\":[{\"type\":\"contourcarpet\",\"colorbar\":{\"outlinewidth\":0,\"ticks\":\"\"}}],\"contour\":[{\"type\":\"contour\",\"colorbar\":{\"outlinewidth\":0,\"ticks\":\"\"},\"colorscale\":[[0.0,\"#0d0887\"],[0.1111111111111111,\"#46039f\"],[0.2222222222222222,\"#7201a8\"],[0.3333333333333333,\"#9c179e\"],[0.4444444444444444,\"#bd3786\"],[0.5555555555555556,\"#d8576b\"],[0.6666666666666666,\"#ed7953\"],[0.7777777777777778,\"#fb9f3a\"],[0.8888888888888888,\"#fdca26\"],[1.0,\"#f0f921\"]]}],\"surface\":[{\"type\":\"surface\",\"colorbar\":{\"outlinewidth\":0,\"ticks\":\"\"},\"colorscale\":[[0.0,\"#0d0887\"],[0.1111111111111111,\"#46039f\"],[0.2222222222222222,\"#7201a8\"],[0.3333333333333333,\"#9c179e\"],[0.4444444444444444,\"#bd3786\"],[0.5555555555555556,\"#d8576b\"],[0.6666666666666666,\"#ed7953\"],[0.7777777777777778,\"#fb9f3a\"],[0.8888888888888888,\"#fdca26\"],[1.0,\"#f0f921\"]]}],\"mesh3d\":[{\"type\":\"mesh3d\",\"colorbar\":{\"outlinewidth\":0,\"ticks\":\"\"}}],\"scatter\":[{\"fillpattern\":{\"fillmode\":\"overlay\",\"size\":10,\"solidity\":0.2},\"type\":\"scatter\"}],\"parcoords\":[{\"type\":\"parcoords\",\"line\":{\"colorbar\":{\"outlinewidth\":0,\"ticks\":\"\"}}}],\"scatterpolargl\":[{\"type\":\"scatterpolargl\",\"marker\":{\"colorbar\":{\"outlinewidth\":0,\"ticks\":\"\"}}}],\"bar\":[{\"error_x\":{\"color\":\"#2a3f5f\"},\"error_y\":{\"color\":\"#2a3f5f\"},\"marker\":{\"line\":{\"color\":\"#E5ECF6\",\"width\":0.5},\"pattern\":{\"fillmode\":\"overlay\",\"size\":10,\"solidity\":0.2}},\"type\":\"bar\"}],\"scattergeo\":[{\"type\":\"scattergeo\",\"marker\":{\"colorbar\":{\"outlinewidth\":0,\"ticks\":\"\"}}}],\"scatterpolar\":[{\"type\":\"scatterpolar\",\"marker\":{\"colorbar\":{\"outlinewidth\":0,\"ticks\":\"\"}}}],\"histogram\":[{\"marker\":{\"pattern\":{\"fillmode\":\"overlay\",\"size\":10,\"solidity\":0.2}},\"type\":\"histogram\"}],\"scattergl\":[{\"type\":\"scattergl\",\"marker\":{\"colorbar\":{\"outlinewidth\":0,\"ticks\":\"\"}}}],\"scatter3d\":[{\"type\":\"scatter3d\",\"line\":{\"colorbar\":{\"outlinewidth\":0,\"ticks\":\"\"}},\"marker\":{\"colorbar\":{\"outlinewidth\":0,\"ticks\":\"\"}}}],\"scattermapbox\":[{\"type\":\"scattermapbox\",\"marker\":{\"colorbar\":{\"outlinewidth\":0,\"ticks\":\"\"}}}],\"scatterternary\":[{\"type\":\"scatterternary\",\"marker\":{\"colorbar\":{\"outlinewidth\":0,\"ticks\":\"\"}}}],\"scattercarpet\":[{\"type\":\"scattercarpet\",\"marker\":{\"colorbar\":{\"outlinewidth\":0,\"ticks\":\"\"}}}],\"carpet\":[{\"aaxis\":{\"endlinecolor\":\"#2a3f5f\",\"gridcolor\":\"white\",\"linecolor\":\"white\",\"minorgridcolor\":\"white\",\"startlinecolor\":\"#2a3f5f\"},\"baxis\":{\"endlinecolor\":\"#2a3f5f\",\"gridcolor\":\"white\",\"linecolor\":\"white\",\"minorgridcolor\":\"white\",\"startlinecolor\":\"#2a3f5f\"},\"type\":\"carpet\"}],\"table\":[{\"cells\":{\"fill\":{\"color\":\"#EBF0F8\"},\"line\":{\"color\":\"white\"}},\"header\":{\"fill\":{\"color\":\"#C8D4E3\"},\"line\":{\"color\":\"white\"}},\"type\":\"table\"}],\"barpolar\":[{\"marker\":{\"line\":{\"color\":\"#E5ECF6\",\"width\":0.5},\"pattern\":{\"fillmode\":\"overlay\",\"size\":10,\"solidity\":0.2}},\"type\":\"barpolar\"}],\"pie\":[{\"automargin\":true,\"type\":\"pie\"}]},\"layout\":{\"autotypenumbers\":\"strict\",\"colorway\":[\"#636efa\",\"#EF553B\",\"#00cc96\",\"#ab63fa\",\"#FFA15A\",\"#19d3f3\",\"#FF6692\",\"#B6E880\",\"#FF97FF\",\"#FECB52\"],\"font\":{\"color\":\"#2a3f5f\"},\"hovermode\":\"closest\",\"hoverlabel\":{\"align\":\"left\"},\"paper_bgcolor\":\"white\",\"plot_bgcolor\":\"#E5ECF6\",\"polar\":{\"bgcolor\":\"#E5ECF6\",\"angularaxis\":{\"gridcolor\":\"white\",\"linecolor\":\"white\",\"ticks\":\"\"},\"radialaxis\":{\"gridcolor\":\"white\",\"linecolor\":\"white\",\"ticks\":\"\"}},\"ternary\":{\"bgcolor\":\"#E5ECF6\",\"aaxis\":{\"gridcolor\":\"white\",\"linecolor\":\"white\",\"ticks\":\"\"},\"baxis\":{\"gridcolor\":\"white\",\"linecolor\":\"white\",\"ticks\":\"\"},\"caxis\":{\"gridcolor\":\"white\",\"linecolor\":\"white\",\"ticks\":\"\"}},\"coloraxis\":{\"colorbar\":{\"outlinewidth\":0,\"ticks\":\"\"}},\"colorscale\":{\"sequential\":[[0.0,\"#0d0887\"],[0.1111111111111111,\"#46039f\"],[0.2222222222222222,\"#7201a8\"],[0.3333333333333333,\"#9c179e\"],[0.4444444444444444,\"#bd3786\"],[0.5555555555555556,\"#d8576b\"],[0.6666666666666666,\"#ed7953\"],[0.7777777777777778,\"#fb9f3a\"],[0.8888888888888888,\"#fdca26\"],[1.0,\"#f0f921\"]],\"sequentialminus\":[[0.0,\"#0d0887\"],[0.1111111111111111,\"#46039f\"],[0.2222222222222222,\"#7201a8\"],[0.3333333333333333,\"#9c179e\"],[0.4444444444444444,\"#bd3786\"],[0.5555555555555556,\"#d8576b\"],[0.6666666666666666,\"#ed7953\"],[0.7777777777777778,\"#fb9f3a\"],[0.8888888888888888,\"#fdca26\"],[1.0,\"#f0f921\"]],\"diverging\":[[0,\"#8e0152\"],[0.1,\"#c51b7d\"],[0.2,\"#de77ae\"],[0.3,\"#f1b6da\"],[0.4,\"#fde0ef\"],[0.5,\"#f7f7f7\"],[0.6,\"#e6f5d0\"],[0.7,\"#b8e186\"],[0.8,\"#7fbc41\"],[0.9,\"#4d9221\"],[1,\"#276419\"]]},\"xaxis\":{\"gridcolor\":\"white\",\"linecolor\":\"white\",\"ticks\":\"\",\"title\":{\"standoff\":15},\"zerolinecolor\":\"white\",\"automargin\":true,\"zerolinewidth\":2},\"yaxis\":{\"gridcolor\":\"white\",\"linecolor\":\"white\",\"ticks\":\"\",\"title\":{\"standoff\":15},\"zerolinecolor\":\"white\",\"automargin\":true,\"zerolinewidth\":2},\"scene\":{\"xaxis\":{\"backgroundcolor\":\"#E5ECF6\",\"gridcolor\":\"white\",\"linecolor\":\"white\",\"showbackground\":true,\"ticks\":\"\",\"zerolinecolor\":\"white\",\"gridwidth\":2},\"yaxis\":{\"backgroundcolor\":\"#E5ECF6\",\"gridcolor\":\"white\",\"linecolor\":\"white\",\"showbackground\":true,\"ticks\":\"\",\"zerolinecolor\":\"white\",\"gridwidth\":2},\"zaxis\":{\"backgroundcolor\":\"#E5ECF6\",\"gridcolor\":\"white\",\"linecolor\":\"white\",\"showbackground\":true,\"ticks\":\"\",\"zerolinecolor\":\"white\",\"gridwidth\":2}},\"shapedefaults\":{\"line\":{\"color\":\"#2a3f5f\"}},\"annotationdefaults\":{\"arrowcolor\":\"#2a3f5f\",\"arrowhead\":0,\"arrowwidth\":1},\"geo\":{\"bgcolor\":\"white\",\"landcolor\":\"#E5ECF6\",\"subunitcolor\":\"white\",\"showland\":true,\"showlakes\":true,\"lakecolor\":\"white\"},\"title\":{\"x\":0.05},\"mapbox\":{\"style\":\"light\"}}},\"xaxis\":{\"anchor\":\"y\",\"domain\":[0.0,1.0],\"title\":{\"text\":\"status_meaning\"}},\"yaxis\":{\"anchor\":\"x\",\"domain\":[0.0,1.0],\"title\":{\"text\":\"Transaction Count\"}},\"legend\":{\"tracegroupgap\":0},\"title\":{\"text\":\"Transaction Funnel\"}},                        {\"responsive\": true}                    ).then(function(){\n",
       "                            \n",
       "var gd = document.getElementById('4431d3c0-63ad-4600-b7e2-4ddfc341e62b');\n",
       "var x = new MutationObserver(function (mutations, observer) {{\n",
       "        var display = window.getComputedStyle(gd).display;\n",
       "        if (!display || display === 'none') {{\n",
       "            console.log([gd, 'removed!']);\n",
       "            Plotly.purge(gd);\n",
       "            observer.disconnect();\n",
       "        }}\n",
       "}});\n",
       "\n",
       "// Listen for the removal of the full notebook cells\n",
       "var notebookContainer = gd.closest('#notebook-container');\n",
       "if (notebookContainer) {{\n",
       "    x.observe(notebookContainer, {childList: true});\n",
       "}}\n",
       "\n",
       "// Listen for the clearing of the current output cell\n",
       "var outputEl = gd.closest('.output');\n",
       "if (outputEl) {{\n",
       "    x.observe(outputEl, {childList: true});\n",
       "}}\n",
       "\n",
       "                        })                };                });            </script>        </div>"
      ]
     },
     "metadata": {},
     "output_type": "display_data"
    }
   ],
   "source": [
    "# Create a funnel chart\n",
    "fig = px.funnel(\n",
    "    tf,\n",
    "    x='status_meaning', \n",
    "    y='transaction_count', \n",
    "    title='Transaction Funnel',\n",
    "    labels={'stage': 'Funnel Stage', 'transaction_count': 'Transaction Count'},\n",
    ")\n",
    "fig.show()\n"
   ]
  },
  {
   "cell_type": "markdown",
   "id": "303acaeb",
   "metadata": {},
   "source": [
    "## Average transaction Amount and Average Transaction Count Scatter Plot"
   ]
  },
  {
   "cell_type": "code",
   "execution_count": 189,
   "id": "c5ae0a5f",
   "metadata": {},
   "outputs": [],
   "source": [
    "## Transaction Count\n",
    "query9 = \"\"\"\n",
    "SELECT\n",
    "    merchant_type,\n",
    "    COUNT(*) AS transaction_count\n",
    "FROM transactions\n",
    "GROUP BY merchant_type\n",
    "ORDER BY transaction_count DESC;\n",
    "\n",
    "\"\"\""
   ]
  },
  {
   "cell_type": "code",
   "execution_count": 190,
   "id": "cabec70f",
   "metadata": {},
   "outputs": [
    {
     "name": "stdout",
     "output_type": "stream",
     "text": [
      "Connected to MySQL database\n",
      "[('Tech Products', 6825), ('Books & Literature', 4652), ('Fashion', 4458), ('Eco-friendly Products', 3554), ('Gaming Products', 3541), ('Food & Drinks', 3523), ('Outdoor Products', 3520), ('Family Entertainment', 3517), ('Culinary Products', 3495), ('Smart Gadgets', 3472), ('Auto Services', 3467), ('Health & Fitness', 3449), ('Home Decor', 3437), ('Artistic Products', 3437), ('Beauty Products', 3433), ('Global Goods', 3432), ('Fitness', 3425), ('Luxury Products', 3418), ('Pet Supplies', 3415), ('Wellness Products', 3407), ('Hobbies & Crafts', 3401), ('Business Services', 3397), ('Digital Services', 3371), ('Kids Products', 3320), ('Technology', 1227), ('Pet Care', 1215), ('Smart Home', 1213), ('Travel & Leisure', 1192), ('Electronics', 1182), ('Art & Craft', 1167), ('Sports & Fitness', 1152), ('Health & Wellness', 1146), ('Beauty & Personal Care', 1139), ('Food & Beverage', 1131), ('Wellness', 1129), ('Books & Magazines', 1127), ('Automotive', 1123), ('Gaming', 1114), ('Outdoor & Recreation', 1113), ('Home & Living', 1106), ('Culinary', 1106), ('Music & Entertainment', 1052)]\n",
      "Connection closed\n"
     ]
    },
    {
     "name": "stderr",
     "output_type": "stream",
     "text": [
      "/tmp/ipykernel_70826/230398598.py:20: UserWarning:\n",
      "\n",
      "pandas only supports SQLAlchemy connectable (engine/connection) or database string URI or sqlite3 DBAPI2 connection. Other DBAPI2 objects are not tested. Please consider using SQLAlchemy.\n",
      "\n"
     ]
    }
   ],
   "source": [
    "result9 = MYSQL_QUERY(query9)"
   ]
  },
  {
   "cell_type": "code",
   "execution_count": 191,
   "id": "8d8ca407",
   "metadata": {},
   "outputs": [],
   "source": [
    "## Average Transaction Amount\n",
    "query10 = \"\"\"\n",
    "SELECT\n",
    "    merchant_type,\n",
    "    AVG(billing_amount) AS avg_billing_amount\n",
    "FROM transactions\n",
    "GROUP BY merchant_type\n",
    "ORDER BY avg_billing_amount desc;\n",
    "\n",
    "\"\"\""
   ]
  },
  {
   "cell_type": "code",
   "execution_count": 192,
   "id": "d3645bb6",
   "metadata": {},
   "outputs": [
    {
     "name": "stdout",
     "output_type": "stream",
     "text": [
      "Connected to MySQL database\n",
      "[('Art & Craft', Decimal('517626.5501')), ('Smart Home', Decimal('511525.9934')), ('Health & Wellness', Decimal('509882.4468')), ('Automotive', Decimal('509366.3330')), ('Luxury Products', Decimal('508542.8365')), ('Technology', Decimal('508230.3635')), ('Pet Care', Decimal('507374.6288')), ('Books & Literature', Decimal('506462.1586')), ('Digital Services', Decimal('505843.6090')), ('Fashion', Decimal('503731.1247')), ('Books & Magazines', Decimal('503676.0222')), ('Food & Beverage', Decimal('503232.9788')), ('Business Services', Decimal('502142.6176')), ('Music & Entertainment', Decimal('501925.6721')), ('Beauty Products', Decimal('501587.8264')), ('Hobbies & Crafts', Decimal('501336.8986')), ('Beauty & Personal Care', Decimal('501271.2906')), ('Auto Services', Decimal('499400.5252')), ('Food & Drinks', Decimal('498790.2336')), ('Wellness Products', Decimal('498773.5207')), ('Fitness', Decimal('498655.1483')), ('Culinary Products', Decimal('498464.6558')), ('Sports & Fitness', Decimal('498029.5469')), ('Tech Products', Decimal('497583.2401')), ('Pet Supplies', Decimal('497335.0067')), ('Smart Gadgets', Decimal('496937.4205')), ('Gaming', Decimal('496323.9605')), ('Artistic Products', Decimal('496276.2354')), ('Global Goods', Decimal('495831.5554')), ('Outdoor Products', Decimal('495653.3503')), ('Culinary', Decimal('495092.5823')), ('Eco-friendly Products', Decimal('493771.3680')), ('Home Decor', Decimal('492925.8606')), ('Gaming Products', Decimal('492895.5561')), ('Wellness', Decimal('492622.8202')), ('Health & Fitness', Decimal('490599.4172')), ('Home & Living', Decimal('489741.0145')), ('Kids Products', Decimal('489569.9970')), ('Outdoor & Recreation', Decimal('489161.8994')), ('Electronics', Decimal('487057.8562')), ('Travel & Leisure', Decimal('485476.1594')), ('Family Entertainment', Decimal('484215.9997'))]\n",
      "Connection closed\n"
     ]
    },
    {
     "name": "stderr",
     "output_type": "stream",
     "text": [
      "/tmp/ipykernel_70826/230398598.py:20: UserWarning:\n",
      "\n",
      "pandas only supports SQLAlchemy connectable (engine/connection) or database string URI or sqlite3 DBAPI2 connection. Other DBAPI2 objects are not tested. Please consider using SQLAlchemy.\n",
      "\n"
     ]
    }
   ],
   "source": [
    "result10 = MYSQL_QUERY(query10)"
   ]
  },
  {
   "cell_type": "code",
   "execution_count": 193,
   "id": "bd61d785",
   "metadata": {},
   "outputs": [
    {
     "data": {
      "text/html": [
       "<div>\n",
       "<style scoped>\n",
       "    .dataframe tbody tr th:only-of-type {\n",
       "        vertical-align: middle;\n",
       "    }\n",
       "\n",
       "    .dataframe tbody tr th {\n",
       "        vertical-align: top;\n",
       "    }\n",
       "\n",
       "    .dataframe thead th {\n",
       "        text-align: right;\n",
       "    }\n",
       "</style>\n",
       "<table border=\"1\" class=\"dataframe\">\n",
       "  <thead>\n",
       "    <tr style=\"text-align: right;\">\n",
       "      <th></th>\n",
       "      <th>merchant_type</th>\n",
       "      <th>transaction_count</th>\n",
       "    </tr>\n",
       "  </thead>\n",
       "  <tbody>\n",
       "    <tr>\n",
       "      <th>0</th>\n",
       "      <td>Tech Products</td>\n",
       "      <td>6825</td>\n",
       "    </tr>\n",
       "    <tr>\n",
       "      <th>1</th>\n",
       "      <td>Books &amp; Literature</td>\n",
       "      <td>4652</td>\n",
       "    </tr>\n",
       "    <tr>\n",
       "      <th>2</th>\n",
       "      <td>Fashion</td>\n",
       "      <td>4458</td>\n",
       "    </tr>\n",
       "    <tr>\n",
       "      <th>3</th>\n",
       "      <td>Eco-friendly Products</td>\n",
       "      <td>3554</td>\n",
       "    </tr>\n",
       "    <tr>\n",
       "      <th>4</th>\n",
       "      <td>Gaming Products</td>\n",
       "      <td>3541</td>\n",
       "    </tr>\n",
       "    <tr>\n",
       "      <th>5</th>\n",
       "      <td>Food &amp; Drinks</td>\n",
       "      <td>3523</td>\n",
       "    </tr>\n",
       "    <tr>\n",
       "      <th>6</th>\n",
       "      <td>Outdoor Products</td>\n",
       "      <td>3520</td>\n",
       "    </tr>\n",
       "    <tr>\n",
       "      <th>7</th>\n",
       "      <td>Family Entertainment</td>\n",
       "      <td>3517</td>\n",
       "    </tr>\n",
       "    <tr>\n",
       "      <th>8</th>\n",
       "      <td>Culinary Products</td>\n",
       "      <td>3495</td>\n",
       "    </tr>\n",
       "    <tr>\n",
       "      <th>9</th>\n",
       "      <td>Smart Gadgets</td>\n",
       "      <td>3472</td>\n",
       "    </tr>\n",
       "    <tr>\n",
       "      <th>10</th>\n",
       "      <td>Auto Services</td>\n",
       "      <td>3467</td>\n",
       "    </tr>\n",
       "    <tr>\n",
       "      <th>11</th>\n",
       "      <td>Health &amp; Fitness</td>\n",
       "      <td>3449</td>\n",
       "    </tr>\n",
       "    <tr>\n",
       "      <th>12</th>\n",
       "      <td>Home Decor</td>\n",
       "      <td>3437</td>\n",
       "    </tr>\n",
       "    <tr>\n",
       "      <th>13</th>\n",
       "      <td>Artistic Products</td>\n",
       "      <td>3437</td>\n",
       "    </tr>\n",
       "    <tr>\n",
       "      <th>14</th>\n",
       "      <td>Beauty Products</td>\n",
       "      <td>3433</td>\n",
       "    </tr>\n",
       "    <tr>\n",
       "      <th>15</th>\n",
       "      <td>Global Goods</td>\n",
       "      <td>3432</td>\n",
       "    </tr>\n",
       "    <tr>\n",
       "      <th>16</th>\n",
       "      <td>Fitness</td>\n",
       "      <td>3425</td>\n",
       "    </tr>\n",
       "    <tr>\n",
       "      <th>17</th>\n",
       "      <td>Luxury Products</td>\n",
       "      <td>3418</td>\n",
       "    </tr>\n",
       "    <tr>\n",
       "      <th>18</th>\n",
       "      <td>Pet Supplies</td>\n",
       "      <td>3415</td>\n",
       "    </tr>\n",
       "    <tr>\n",
       "      <th>19</th>\n",
       "      <td>Wellness Products</td>\n",
       "      <td>3407</td>\n",
       "    </tr>\n",
       "    <tr>\n",
       "      <th>20</th>\n",
       "      <td>Hobbies &amp; Crafts</td>\n",
       "      <td>3401</td>\n",
       "    </tr>\n",
       "    <tr>\n",
       "      <th>21</th>\n",
       "      <td>Business Services</td>\n",
       "      <td>3397</td>\n",
       "    </tr>\n",
       "    <tr>\n",
       "      <th>22</th>\n",
       "      <td>Digital Services</td>\n",
       "      <td>3371</td>\n",
       "    </tr>\n",
       "    <tr>\n",
       "      <th>23</th>\n",
       "      <td>Kids Products</td>\n",
       "      <td>3320</td>\n",
       "    </tr>\n",
       "    <tr>\n",
       "      <th>24</th>\n",
       "      <td>Technology</td>\n",
       "      <td>1227</td>\n",
       "    </tr>\n",
       "    <tr>\n",
       "      <th>25</th>\n",
       "      <td>Pet Care</td>\n",
       "      <td>1215</td>\n",
       "    </tr>\n",
       "    <tr>\n",
       "      <th>26</th>\n",
       "      <td>Smart Home</td>\n",
       "      <td>1213</td>\n",
       "    </tr>\n",
       "    <tr>\n",
       "      <th>27</th>\n",
       "      <td>Travel &amp; Leisure</td>\n",
       "      <td>1192</td>\n",
       "    </tr>\n",
       "    <tr>\n",
       "      <th>28</th>\n",
       "      <td>Electronics</td>\n",
       "      <td>1182</td>\n",
       "    </tr>\n",
       "    <tr>\n",
       "      <th>29</th>\n",
       "      <td>Art &amp; Craft</td>\n",
       "      <td>1167</td>\n",
       "    </tr>\n",
       "    <tr>\n",
       "      <th>30</th>\n",
       "      <td>Sports &amp; Fitness</td>\n",
       "      <td>1152</td>\n",
       "    </tr>\n",
       "    <tr>\n",
       "      <th>31</th>\n",
       "      <td>Health &amp; Wellness</td>\n",
       "      <td>1146</td>\n",
       "    </tr>\n",
       "    <tr>\n",
       "      <th>32</th>\n",
       "      <td>Beauty &amp; Personal Care</td>\n",
       "      <td>1139</td>\n",
       "    </tr>\n",
       "    <tr>\n",
       "      <th>33</th>\n",
       "      <td>Food &amp; Beverage</td>\n",
       "      <td>1131</td>\n",
       "    </tr>\n",
       "    <tr>\n",
       "      <th>34</th>\n",
       "      <td>Wellness</td>\n",
       "      <td>1129</td>\n",
       "    </tr>\n",
       "    <tr>\n",
       "      <th>35</th>\n",
       "      <td>Books &amp; Magazines</td>\n",
       "      <td>1127</td>\n",
       "    </tr>\n",
       "    <tr>\n",
       "      <th>36</th>\n",
       "      <td>Automotive</td>\n",
       "      <td>1123</td>\n",
       "    </tr>\n",
       "    <tr>\n",
       "      <th>37</th>\n",
       "      <td>Gaming</td>\n",
       "      <td>1114</td>\n",
       "    </tr>\n",
       "    <tr>\n",
       "      <th>38</th>\n",
       "      <td>Outdoor &amp; Recreation</td>\n",
       "      <td>1113</td>\n",
       "    </tr>\n",
       "    <tr>\n",
       "      <th>39</th>\n",
       "      <td>Home &amp; Living</td>\n",
       "      <td>1106</td>\n",
       "    </tr>\n",
       "    <tr>\n",
       "      <th>40</th>\n",
       "      <td>Culinary</td>\n",
       "      <td>1106</td>\n",
       "    </tr>\n",
       "    <tr>\n",
       "      <th>41</th>\n",
       "      <td>Music &amp; Entertainment</td>\n",
       "      <td>1052</td>\n",
       "    </tr>\n",
       "  </tbody>\n",
       "</table>\n",
       "</div>"
      ],
      "text/plain": [
       "             merchant_type  transaction_count\n",
       "0            Tech Products               6825\n",
       "1       Books & Literature               4652\n",
       "2                  Fashion               4458\n",
       "3    Eco-friendly Products               3554\n",
       "4          Gaming Products               3541\n",
       "5            Food & Drinks               3523\n",
       "6         Outdoor Products               3520\n",
       "7     Family Entertainment               3517\n",
       "8        Culinary Products               3495\n",
       "9            Smart Gadgets               3472\n",
       "10           Auto Services               3467\n",
       "11        Health & Fitness               3449\n",
       "12              Home Decor               3437\n",
       "13       Artistic Products               3437\n",
       "14         Beauty Products               3433\n",
       "15            Global Goods               3432\n",
       "16                 Fitness               3425\n",
       "17         Luxury Products               3418\n",
       "18            Pet Supplies               3415\n",
       "19       Wellness Products               3407\n",
       "20        Hobbies & Crafts               3401\n",
       "21       Business Services               3397\n",
       "22        Digital Services               3371\n",
       "23           Kids Products               3320\n",
       "24              Technology               1227\n",
       "25                Pet Care               1215\n",
       "26              Smart Home               1213\n",
       "27        Travel & Leisure               1192\n",
       "28             Electronics               1182\n",
       "29             Art & Craft               1167\n",
       "30        Sports & Fitness               1152\n",
       "31       Health & Wellness               1146\n",
       "32  Beauty & Personal Care               1139\n",
       "33         Food & Beverage               1131\n",
       "34                Wellness               1129\n",
       "35       Books & Magazines               1127\n",
       "36              Automotive               1123\n",
       "37                  Gaming               1114\n",
       "38    Outdoor & Recreation               1113\n",
       "39           Home & Living               1106\n",
       "40                Culinary               1106\n",
       "41   Music & Entertainment               1052"
      ]
     },
     "execution_count": 193,
     "metadata": {},
     "output_type": "execute_result"
    }
   ],
   "source": [
    "result9"
   ]
  },
  {
   "cell_type": "code",
   "execution_count": 194,
   "id": "f7efc064",
   "metadata": {},
   "outputs": [
    {
     "data": {
      "text/html": [
       "<div>\n",
       "<style scoped>\n",
       "    .dataframe tbody tr th:only-of-type {\n",
       "        vertical-align: middle;\n",
       "    }\n",
       "\n",
       "    .dataframe tbody tr th {\n",
       "        vertical-align: top;\n",
       "    }\n",
       "\n",
       "    .dataframe thead th {\n",
       "        text-align: right;\n",
       "    }\n",
       "</style>\n",
       "<table border=\"1\" class=\"dataframe\">\n",
       "  <thead>\n",
       "    <tr style=\"text-align: right;\">\n",
       "      <th></th>\n",
       "      <th>merchant_type</th>\n",
       "      <th>avg_billing_amount</th>\n",
       "    </tr>\n",
       "  </thead>\n",
       "  <tbody>\n",
       "    <tr>\n",
       "      <th>0</th>\n",
       "      <td>Art &amp; Craft</td>\n",
       "      <td>517626.5501</td>\n",
       "    </tr>\n",
       "    <tr>\n",
       "      <th>1</th>\n",
       "      <td>Smart Home</td>\n",
       "      <td>511525.9934</td>\n",
       "    </tr>\n",
       "    <tr>\n",
       "      <th>2</th>\n",
       "      <td>Health &amp; Wellness</td>\n",
       "      <td>509882.4468</td>\n",
       "    </tr>\n",
       "    <tr>\n",
       "      <th>3</th>\n",
       "      <td>Automotive</td>\n",
       "      <td>509366.3330</td>\n",
       "    </tr>\n",
       "    <tr>\n",
       "      <th>4</th>\n",
       "      <td>Luxury Products</td>\n",
       "      <td>508542.8365</td>\n",
       "    </tr>\n",
       "    <tr>\n",
       "      <th>5</th>\n",
       "      <td>Technology</td>\n",
       "      <td>508230.3635</td>\n",
       "    </tr>\n",
       "    <tr>\n",
       "      <th>6</th>\n",
       "      <td>Pet Care</td>\n",
       "      <td>507374.6288</td>\n",
       "    </tr>\n",
       "    <tr>\n",
       "      <th>7</th>\n",
       "      <td>Books &amp; Literature</td>\n",
       "      <td>506462.1586</td>\n",
       "    </tr>\n",
       "    <tr>\n",
       "      <th>8</th>\n",
       "      <td>Digital Services</td>\n",
       "      <td>505843.6090</td>\n",
       "    </tr>\n",
       "    <tr>\n",
       "      <th>9</th>\n",
       "      <td>Fashion</td>\n",
       "      <td>503731.1247</td>\n",
       "    </tr>\n",
       "    <tr>\n",
       "      <th>10</th>\n",
       "      <td>Books &amp; Magazines</td>\n",
       "      <td>503676.0222</td>\n",
       "    </tr>\n",
       "    <tr>\n",
       "      <th>11</th>\n",
       "      <td>Food &amp; Beverage</td>\n",
       "      <td>503232.9788</td>\n",
       "    </tr>\n",
       "    <tr>\n",
       "      <th>12</th>\n",
       "      <td>Business Services</td>\n",
       "      <td>502142.6176</td>\n",
       "    </tr>\n",
       "    <tr>\n",
       "      <th>13</th>\n",
       "      <td>Music &amp; Entertainment</td>\n",
       "      <td>501925.6721</td>\n",
       "    </tr>\n",
       "    <tr>\n",
       "      <th>14</th>\n",
       "      <td>Beauty Products</td>\n",
       "      <td>501587.8264</td>\n",
       "    </tr>\n",
       "    <tr>\n",
       "      <th>15</th>\n",
       "      <td>Hobbies &amp; Crafts</td>\n",
       "      <td>501336.8986</td>\n",
       "    </tr>\n",
       "    <tr>\n",
       "      <th>16</th>\n",
       "      <td>Beauty &amp; Personal Care</td>\n",
       "      <td>501271.2906</td>\n",
       "    </tr>\n",
       "    <tr>\n",
       "      <th>17</th>\n",
       "      <td>Auto Services</td>\n",
       "      <td>499400.5252</td>\n",
       "    </tr>\n",
       "    <tr>\n",
       "      <th>18</th>\n",
       "      <td>Food &amp; Drinks</td>\n",
       "      <td>498790.2336</td>\n",
       "    </tr>\n",
       "    <tr>\n",
       "      <th>19</th>\n",
       "      <td>Wellness Products</td>\n",
       "      <td>498773.5207</td>\n",
       "    </tr>\n",
       "    <tr>\n",
       "      <th>20</th>\n",
       "      <td>Fitness</td>\n",
       "      <td>498655.1483</td>\n",
       "    </tr>\n",
       "    <tr>\n",
       "      <th>21</th>\n",
       "      <td>Culinary Products</td>\n",
       "      <td>498464.6558</td>\n",
       "    </tr>\n",
       "    <tr>\n",
       "      <th>22</th>\n",
       "      <td>Sports &amp; Fitness</td>\n",
       "      <td>498029.5469</td>\n",
       "    </tr>\n",
       "    <tr>\n",
       "      <th>23</th>\n",
       "      <td>Tech Products</td>\n",
       "      <td>497583.2401</td>\n",
       "    </tr>\n",
       "    <tr>\n",
       "      <th>24</th>\n",
       "      <td>Pet Supplies</td>\n",
       "      <td>497335.0067</td>\n",
       "    </tr>\n",
       "    <tr>\n",
       "      <th>25</th>\n",
       "      <td>Smart Gadgets</td>\n",
       "      <td>496937.4205</td>\n",
       "    </tr>\n",
       "    <tr>\n",
       "      <th>26</th>\n",
       "      <td>Gaming</td>\n",
       "      <td>496323.9605</td>\n",
       "    </tr>\n",
       "    <tr>\n",
       "      <th>27</th>\n",
       "      <td>Artistic Products</td>\n",
       "      <td>496276.2354</td>\n",
       "    </tr>\n",
       "    <tr>\n",
       "      <th>28</th>\n",
       "      <td>Global Goods</td>\n",
       "      <td>495831.5554</td>\n",
       "    </tr>\n",
       "    <tr>\n",
       "      <th>29</th>\n",
       "      <td>Outdoor Products</td>\n",
       "      <td>495653.3503</td>\n",
       "    </tr>\n",
       "    <tr>\n",
       "      <th>30</th>\n",
       "      <td>Culinary</td>\n",
       "      <td>495092.5823</td>\n",
       "    </tr>\n",
       "    <tr>\n",
       "      <th>31</th>\n",
       "      <td>Eco-friendly Products</td>\n",
       "      <td>493771.3680</td>\n",
       "    </tr>\n",
       "    <tr>\n",
       "      <th>32</th>\n",
       "      <td>Home Decor</td>\n",
       "      <td>492925.8606</td>\n",
       "    </tr>\n",
       "    <tr>\n",
       "      <th>33</th>\n",
       "      <td>Gaming Products</td>\n",
       "      <td>492895.5561</td>\n",
       "    </tr>\n",
       "    <tr>\n",
       "      <th>34</th>\n",
       "      <td>Wellness</td>\n",
       "      <td>492622.8202</td>\n",
       "    </tr>\n",
       "    <tr>\n",
       "      <th>35</th>\n",
       "      <td>Health &amp; Fitness</td>\n",
       "      <td>490599.4172</td>\n",
       "    </tr>\n",
       "    <tr>\n",
       "      <th>36</th>\n",
       "      <td>Home &amp; Living</td>\n",
       "      <td>489741.0145</td>\n",
       "    </tr>\n",
       "    <tr>\n",
       "      <th>37</th>\n",
       "      <td>Kids Products</td>\n",
       "      <td>489569.9970</td>\n",
       "    </tr>\n",
       "    <tr>\n",
       "      <th>38</th>\n",
       "      <td>Outdoor &amp; Recreation</td>\n",
       "      <td>489161.8994</td>\n",
       "    </tr>\n",
       "    <tr>\n",
       "      <th>39</th>\n",
       "      <td>Electronics</td>\n",
       "      <td>487057.8562</td>\n",
       "    </tr>\n",
       "    <tr>\n",
       "      <th>40</th>\n",
       "      <td>Travel &amp; Leisure</td>\n",
       "      <td>485476.1594</td>\n",
       "    </tr>\n",
       "    <tr>\n",
       "      <th>41</th>\n",
       "      <td>Family Entertainment</td>\n",
       "      <td>484215.9997</td>\n",
       "    </tr>\n",
       "  </tbody>\n",
       "</table>\n",
       "</div>"
      ],
      "text/plain": [
       "             merchant_type  avg_billing_amount\n",
       "0              Art & Craft         517626.5501\n",
       "1               Smart Home         511525.9934\n",
       "2        Health & Wellness         509882.4468\n",
       "3               Automotive         509366.3330\n",
       "4          Luxury Products         508542.8365\n",
       "5               Technology         508230.3635\n",
       "6                 Pet Care         507374.6288\n",
       "7       Books & Literature         506462.1586\n",
       "8         Digital Services         505843.6090\n",
       "9                  Fashion         503731.1247\n",
       "10       Books & Magazines         503676.0222\n",
       "11         Food & Beverage         503232.9788\n",
       "12       Business Services         502142.6176\n",
       "13   Music & Entertainment         501925.6721\n",
       "14         Beauty Products         501587.8264\n",
       "15        Hobbies & Crafts         501336.8986\n",
       "16  Beauty & Personal Care         501271.2906\n",
       "17           Auto Services         499400.5252\n",
       "18           Food & Drinks         498790.2336\n",
       "19       Wellness Products         498773.5207\n",
       "20                 Fitness         498655.1483\n",
       "21       Culinary Products         498464.6558\n",
       "22        Sports & Fitness         498029.5469\n",
       "23           Tech Products         497583.2401\n",
       "24            Pet Supplies         497335.0067\n",
       "25           Smart Gadgets         496937.4205\n",
       "26                  Gaming         496323.9605\n",
       "27       Artistic Products         496276.2354\n",
       "28            Global Goods         495831.5554\n",
       "29        Outdoor Products         495653.3503\n",
       "30                Culinary         495092.5823\n",
       "31   Eco-friendly Products         493771.3680\n",
       "32              Home Decor         492925.8606\n",
       "33         Gaming Products         492895.5561\n",
       "34                Wellness         492622.8202\n",
       "35        Health & Fitness         490599.4172\n",
       "36           Home & Living         489741.0145\n",
       "37           Kids Products         489569.9970\n",
       "38    Outdoor & Recreation         489161.8994\n",
       "39             Electronics         487057.8562\n",
       "40        Travel & Leisure         485476.1594\n",
       "41    Family Entertainment         484215.9997"
      ]
     },
     "execution_count": 194,
     "metadata": {},
     "output_type": "execute_result"
    }
   ],
   "source": [
    "result10"
   ]
  },
  {
   "cell_type": "code",
   "execution_count": 195,
   "id": "c6f3427a",
   "metadata": {},
   "outputs": [
    {
     "data": {
      "text/html": [
       "<div>\n",
       "<style scoped>\n",
       "    .dataframe tbody tr th:only-of-type {\n",
       "        vertical-align: middle;\n",
       "    }\n",
       "\n",
       "    .dataframe tbody tr th {\n",
       "        vertical-align: top;\n",
       "    }\n",
       "\n",
       "    .dataframe thead th {\n",
       "        text-align: right;\n",
       "    }\n",
       "</style>\n",
       "<table border=\"1\" class=\"dataframe\">\n",
       "  <thead>\n",
       "    <tr style=\"text-align: right;\">\n",
       "      <th></th>\n",
       "      <th>merchant_type</th>\n",
       "      <th>transaction_count</th>\n",
       "      <th>avg_billing_amount</th>\n",
       "    </tr>\n",
       "  </thead>\n",
       "  <tbody>\n",
       "    <tr>\n",
       "      <th>0</th>\n",
       "      <td>Tech Products</td>\n",
       "      <td>6825</td>\n",
       "      <td>497583.2401</td>\n",
       "    </tr>\n",
       "    <tr>\n",
       "      <th>1</th>\n",
       "      <td>Books &amp; Literature</td>\n",
       "      <td>4652</td>\n",
       "      <td>506462.1586</td>\n",
       "    </tr>\n",
       "    <tr>\n",
       "      <th>2</th>\n",
       "      <td>Fashion</td>\n",
       "      <td>4458</td>\n",
       "      <td>503731.1247</td>\n",
       "    </tr>\n",
       "    <tr>\n",
       "      <th>3</th>\n",
       "      <td>Eco-friendly Products</td>\n",
       "      <td>3554</td>\n",
       "      <td>493771.3680</td>\n",
       "    </tr>\n",
       "    <tr>\n",
       "      <th>4</th>\n",
       "      <td>Gaming Products</td>\n",
       "      <td>3541</td>\n",
       "      <td>492895.5561</td>\n",
       "    </tr>\n",
       "    <tr>\n",
       "      <th>5</th>\n",
       "      <td>Food &amp; Drinks</td>\n",
       "      <td>3523</td>\n",
       "      <td>498790.2336</td>\n",
       "    </tr>\n",
       "    <tr>\n",
       "      <th>6</th>\n",
       "      <td>Outdoor Products</td>\n",
       "      <td>3520</td>\n",
       "      <td>495653.3503</td>\n",
       "    </tr>\n",
       "    <tr>\n",
       "      <th>7</th>\n",
       "      <td>Family Entertainment</td>\n",
       "      <td>3517</td>\n",
       "      <td>484215.9997</td>\n",
       "    </tr>\n",
       "    <tr>\n",
       "      <th>8</th>\n",
       "      <td>Culinary Products</td>\n",
       "      <td>3495</td>\n",
       "      <td>498464.6558</td>\n",
       "    </tr>\n",
       "    <tr>\n",
       "      <th>9</th>\n",
       "      <td>Smart Gadgets</td>\n",
       "      <td>3472</td>\n",
       "      <td>496937.4205</td>\n",
       "    </tr>\n",
       "    <tr>\n",
       "      <th>10</th>\n",
       "      <td>Auto Services</td>\n",
       "      <td>3467</td>\n",
       "      <td>499400.5252</td>\n",
       "    </tr>\n",
       "    <tr>\n",
       "      <th>11</th>\n",
       "      <td>Health &amp; Fitness</td>\n",
       "      <td>3449</td>\n",
       "      <td>490599.4172</td>\n",
       "    </tr>\n",
       "    <tr>\n",
       "      <th>12</th>\n",
       "      <td>Home Decor</td>\n",
       "      <td>3437</td>\n",
       "      <td>492925.8606</td>\n",
       "    </tr>\n",
       "    <tr>\n",
       "      <th>13</th>\n",
       "      <td>Artistic Products</td>\n",
       "      <td>3437</td>\n",
       "      <td>496276.2354</td>\n",
       "    </tr>\n",
       "    <tr>\n",
       "      <th>14</th>\n",
       "      <td>Beauty Products</td>\n",
       "      <td>3433</td>\n",
       "      <td>501587.8264</td>\n",
       "    </tr>\n",
       "    <tr>\n",
       "      <th>15</th>\n",
       "      <td>Global Goods</td>\n",
       "      <td>3432</td>\n",
       "      <td>495831.5554</td>\n",
       "    </tr>\n",
       "    <tr>\n",
       "      <th>16</th>\n",
       "      <td>Fitness</td>\n",
       "      <td>3425</td>\n",
       "      <td>498655.1483</td>\n",
       "    </tr>\n",
       "    <tr>\n",
       "      <th>17</th>\n",
       "      <td>Luxury Products</td>\n",
       "      <td>3418</td>\n",
       "      <td>508542.8365</td>\n",
       "    </tr>\n",
       "    <tr>\n",
       "      <th>18</th>\n",
       "      <td>Pet Supplies</td>\n",
       "      <td>3415</td>\n",
       "      <td>497335.0067</td>\n",
       "    </tr>\n",
       "    <tr>\n",
       "      <th>19</th>\n",
       "      <td>Wellness Products</td>\n",
       "      <td>3407</td>\n",
       "      <td>498773.5207</td>\n",
       "    </tr>\n",
       "    <tr>\n",
       "      <th>20</th>\n",
       "      <td>Hobbies &amp; Crafts</td>\n",
       "      <td>3401</td>\n",
       "      <td>501336.8986</td>\n",
       "    </tr>\n",
       "    <tr>\n",
       "      <th>21</th>\n",
       "      <td>Business Services</td>\n",
       "      <td>3397</td>\n",
       "      <td>502142.6176</td>\n",
       "    </tr>\n",
       "    <tr>\n",
       "      <th>22</th>\n",
       "      <td>Digital Services</td>\n",
       "      <td>3371</td>\n",
       "      <td>505843.6090</td>\n",
       "    </tr>\n",
       "    <tr>\n",
       "      <th>23</th>\n",
       "      <td>Kids Products</td>\n",
       "      <td>3320</td>\n",
       "      <td>489569.9970</td>\n",
       "    </tr>\n",
       "    <tr>\n",
       "      <th>24</th>\n",
       "      <td>Technology</td>\n",
       "      <td>1227</td>\n",
       "      <td>508230.3635</td>\n",
       "    </tr>\n",
       "    <tr>\n",
       "      <th>25</th>\n",
       "      <td>Pet Care</td>\n",
       "      <td>1215</td>\n",
       "      <td>507374.6288</td>\n",
       "    </tr>\n",
       "    <tr>\n",
       "      <th>26</th>\n",
       "      <td>Smart Home</td>\n",
       "      <td>1213</td>\n",
       "      <td>511525.9934</td>\n",
       "    </tr>\n",
       "    <tr>\n",
       "      <th>27</th>\n",
       "      <td>Travel &amp; Leisure</td>\n",
       "      <td>1192</td>\n",
       "      <td>485476.1594</td>\n",
       "    </tr>\n",
       "    <tr>\n",
       "      <th>28</th>\n",
       "      <td>Electronics</td>\n",
       "      <td>1182</td>\n",
       "      <td>487057.8562</td>\n",
       "    </tr>\n",
       "    <tr>\n",
       "      <th>29</th>\n",
       "      <td>Art &amp; Craft</td>\n",
       "      <td>1167</td>\n",
       "      <td>517626.5501</td>\n",
       "    </tr>\n",
       "    <tr>\n",
       "      <th>30</th>\n",
       "      <td>Sports &amp; Fitness</td>\n",
       "      <td>1152</td>\n",
       "      <td>498029.5469</td>\n",
       "    </tr>\n",
       "    <tr>\n",
       "      <th>31</th>\n",
       "      <td>Health &amp; Wellness</td>\n",
       "      <td>1146</td>\n",
       "      <td>509882.4468</td>\n",
       "    </tr>\n",
       "    <tr>\n",
       "      <th>32</th>\n",
       "      <td>Beauty &amp; Personal Care</td>\n",
       "      <td>1139</td>\n",
       "      <td>501271.2906</td>\n",
       "    </tr>\n",
       "    <tr>\n",
       "      <th>33</th>\n",
       "      <td>Food &amp; Beverage</td>\n",
       "      <td>1131</td>\n",
       "      <td>503232.9788</td>\n",
       "    </tr>\n",
       "    <tr>\n",
       "      <th>34</th>\n",
       "      <td>Wellness</td>\n",
       "      <td>1129</td>\n",
       "      <td>492622.8202</td>\n",
       "    </tr>\n",
       "    <tr>\n",
       "      <th>35</th>\n",
       "      <td>Books &amp; Magazines</td>\n",
       "      <td>1127</td>\n",
       "      <td>503676.0222</td>\n",
       "    </tr>\n",
       "    <tr>\n",
       "      <th>36</th>\n",
       "      <td>Automotive</td>\n",
       "      <td>1123</td>\n",
       "      <td>509366.3330</td>\n",
       "    </tr>\n",
       "    <tr>\n",
       "      <th>37</th>\n",
       "      <td>Gaming</td>\n",
       "      <td>1114</td>\n",
       "      <td>496323.9605</td>\n",
       "    </tr>\n",
       "    <tr>\n",
       "      <th>38</th>\n",
       "      <td>Outdoor &amp; Recreation</td>\n",
       "      <td>1113</td>\n",
       "      <td>489161.8994</td>\n",
       "    </tr>\n",
       "    <tr>\n",
       "      <th>39</th>\n",
       "      <td>Home &amp; Living</td>\n",
       "      <td>1106</td>\n",
       "      <td>489741.0145</td>\n",
       "    </tr>\n",
       "    <tr>\n",
       "      <th>40</th>\n",
       "      <td>Culinary</td>\n",
       "      <td>1106</td>\n",
       "      <td>495092.5823</td>\n",
       "    </tr>\n",
       "    <tr>\n",
       "      <th>41</th>\n",
       "      <td>Music &amp; Entertainment</td>\n",
       "      <td>1052</td>\n",
       "      <td>501925.6721</td>\n",
       "    </tr>\n",
       "  </tbody>\n",
       "</table>\n",
       "</div>"
      ],
      "text/plain": [
       "             merchant_type  transaction_count  avg_billing_amount\n",
       "0            Tech Products               6825         497583.2401\n",
       "1       Books & Literature               4652         506462.1586\n",
       "2                  Fashion               4458         503731.1247\n",
       "3    Eco-friendly Products               3554         493771.3680\n",
       "4          Gaming Products               3541         492895.5561\n",
       "5            Food & Drinks               3523         498790.2336\n",
       "6         Outdoor Products               3520         495653.3503\n",
       "7     Family Entertainment               3517         484215.9997\n",
       "8        Culinary Products               3495         498464.6558\n",
       "9            Smart Gadgets               3472         496937.4205\n",
       "10           Auto Services               3467         499400.5252\n",
       "11        Health & Fitness               3449         490599.4172\n",
       "12              Home Decor               3437         492925.8606\n",
       "13       Artistic Products               3437         496276.2354\n",
       "14         Beauty Products               3433         501587.8264\n",
       "15            Global Goods               3432         495831.5554\n",
       "16                 Fitness               3425         498655.1483\n",
       "17         Luxury Products               3418         508542.8365\n",
       "18            Pet Supplies               3415         497335.0067\n",
       "19       Wellness Products               3407         498773.5207\n",
       "20        Hobbies & Crafts               3401         501336.8986\n",
       "21       Business Services               3397         502142.6176\n",
       "22        Digital Services               3371         505843.6090\n",
       "23           Kids Products               3320         489569.9970\n",
       "24              Technology               1227         508230.3635\n",
       "25                Pet Care               1215         507374.6288\n",
       "26              Smart Home               1213         511525.9934\n",
       "27        Travel & Leisure               1192         485476.1594\n",
       "28             Electronics               1182         487057.8562\n",
       "29             Art & Craft               1167         517626.5501\n",
       "30        Sports & Fitness               1152         498029.5469\n",
       "31       Health & Wellness               1146         509882.4468\n",
       "32  Beauty & Personal Care               1139         501271.2906\n",
       "33         Food & Beverage               1131         503232.9788\n",
       "34                Wellness               1129         492622.8202\n",
       "35       Books & Magazines               1127         503676.0222\n",
       "36              Automotive               1123         509366.3330\n",
       "37                  Gaming               1114         496323.9605\n",
       "38    Outdoor & Recreation               1113         489161.8994\n",
       "39           Home & Living               1106         489741.0145\n",
       "40                Culinary               1106         495092.5823\n",
       "41   Music & Entertainment               1052         501925.6721"
      ]
     },
     "execution_count": 195,
     "metadata": {},
     "output_type": "execute_result"
    }
   ],
   "source": [
    "merged_df = pd.merge(result9, result10, on='merchant_type')\n",
    "merged_df"
   ]
  },
  {
   "cell_type": "code",
   "execution_count": 206,
   "id": "9ffa22a7",
   "metadata": {
    "scrolled": true
   },
   "outputs": [
    {
     "data": {
      "application/vnd.plotly.v1+json": {
       "config": {
        "plotlyServerURL": "https://plot.ly"
       },
       "data": [
        {
         "customdata": [
          [
           "Tech Products"
          ],
          [
           "Books & Literature"
          ],
          [
           "Fashion"
          ],
          [
           "Eco-friendly Products"
          ],
          [
           "Gaming Products"
          ],
          [
           "Food & Drinks"
          ],
          [
           "Outdoor Products"
          ],
          [
           "Family Entertainment"
          ],
          [
           "Culinary Products"
          ],
          [
           "Smart Gadgets"
          ],
          [
           "Auto Services"
          ],
          [
           "Health & Fitness"
          ],
          [
           "Home Decor"
          ],
          [
           "Artistic Products"
          ],
          [
           "Beauty Products"
          ],
          [
           "Global Goods"
          ],
          [
           "Fitness"
          ],
          [
           "Luxury Products"
          ],
          [
           "Pet Supplies"
          ],
          [
           "Wellness Products"
          ],
          [
           "Hobbies & Crafts"
          ],
          [
           "Business Services"
          ],
          [
           "Digital Services"
          ],
          [
           "Kids Products"
          ],
          [
           "Technology"
          ],
          [
           "Pet Care"
          ],
          [
           "Smart Home"
          ],
          [
           "Travel & Leisure"
          ],
          [
           "Electronics"
          ],
          [
           "Art & Craft"
          ],
          [
           "Sports & Fitness"
          ],
          [
           "Health & Wellness"
          ],
          [
           "Beauty & Personal Care"
          ],
          [
           "Food & Beverage"
          ],
          [
           "Wellness"
          ],
          [
           "Books & Magazines"
          ],
          [
           "Automotive"
          ],
          [
           "Gaming"
          ],
          [
           "Outdoor & Recreation"
          ],
          [
           "Home & Living"
          ],
          [
           "Culinary"
          ],
          [
           "Music & Entertainment"
          ]
         ],
         "hovertemplate": "Transaction Count=%{x}<br>Average Billing Amount=%{y}<br>merchant_type=%{customdata[0]}<extra></extra>",
         "legendgroup": "",
         "marker": {
          "color": "#636efa",
          "symbol": "circle"
         },
         "mode": "markers+text",
         "name": "",
         "orientation": "v",
         "showlegend": false,
         "text": [
          "Tech Products",
          "Books & Literature",
          "Fashion",
          "Eco-friendly Products",
          "Gaming Products",
          "Food & Drinks",
          "Outdoor Products",
          "Family Entertainment",
          "Culinary Products",
          "Smart Gadgets",
          "Auto Services",
          "Health & Fitness",
          "Home Decor",
          "Artistic Products",
          "Beauty Products",
          "Global Goods",
          "Fitness",
          "Luxury Products",
          "Pet Supplies",
          "Wellness Products",
          "Hobbies & Crafts",
          "Business Services",
          "Digital Services",
          "Kids Products",
          "Technology",
          "Pet Care",
          "Smart Home",
          "Travel & Leisure",
          "Electronics",
          "Art & Craft",
          "Sports & Fitness",
          "Health & Wellness",
          "Beauty & Personal Care",
          "Food & Beverage",
          "Wellness",
          "Books & Magazines",
          "Automotive",
          "Gaming",
          "Outdoor & Recreation",
          "Home & Living",
          "Culinary",
          "Music & Entertainment"
         ],
         "type": "scatter",
         "x": [
          6825,
          4652,
          4458,
          3554,
          3541,
          3523,
          3520,
          3517,
          3495,
          3472,
          3467,
          3449,
          3437,
          3437,
          3433,
          3432,
          3425,
          3418,
          3415,
          3407,
          3401,
          3397,
          3371,
          3320,
          1227,
          1215,
          1213,
          1192,
          1182,
          1167,
          1152,
          1146,
          1139,
          1131,
          1129,
          1127,
          1123,
          1114,
          1113,
          1106,
          1106,
          1052
         ],
         "xaxis": "x",
         "y": [
          497583.2401,
          506462.1586,
          503731.1247,
          493771.368,
          492895.5561,
          498790.2336,
          495653.3503,
          484215.9997,
          498464.6558,
          496937.4205,
          499400.5252,
          490599.4172,
          492925.8606,
          496276.2354,
          501587.8264,
          495831.5554,
          498655.1483,
          508542.8365,
          497335.0067,
          498773.5207,
          501336.8986,
          502142.6176,
          505843.609,
          489569.997,
          508230.3635,
          507374.6288,
          511525.9934,
          485476.1594,
          487057.8562,
          517626.5501,
          498029.5469,
          509882.4468,
          501271.2906,
          503232.9788,
          492622.8202,
          503676.0222,
          509366.333,
          496323.9605,
          489161.8994,
          489741.0145,
          495092.5823,
          501925.6721
         ],
         "yaxis": "y"
        }
       ],
       "layout": {
        "height": 800,
        "hovermode": "closest",
        "legend": {
         "tracegroupgap": 0
        },
        "showlegend": false,
        "template": {
         "data": {
          "bar": [
           {
            "error_x": {
             "color": "#2a3f5f"
            },
            "error_y": {
             "color": "#2a3f5f"
            },
            "marker": {
             "line": {
              "color": "#E5ECF6",
              "width": 0.5
             },
             "pattern": {
              "fillmode": "overlay",
              "size": 10,
              "solidity": 0.2
             }
            },
            "type": "bar"
           }
          ],
          "barpolar": [
           {
            "marker": {
             "line": {
              "color": "#E5ECF6",
              "width": 0.5
             },
             "pattern": {
              "fillmode": "overlay",
              "size": 10,
              "solidity": 0.2
             }
            },
            "type": "barpolar"
           }
          ],
          "carpet": [
           {
            "aaxis": {
             "endlinecolor": "#2a3f5f",
             "gridcolor": "white",
             "linecolor": "white",
             "minorgridcolor": "white",
             "startlinecolor": "#2a3f5f"
            },
            "baxis": {
             "endlinecolor": "#2a3f5f",
             "gridcolor": "white",
             "linecolor": "white",
             "minorgridcolor": "white",
             "startlinecolor": "#2a3f5f"
            },
            "type": "carpet"
           }
          ],
          "choropleth": [
           {
            "colorbar": {
             "outlinewidth": 0,
             "ticks": ""
            },
            "type": "choropleth"
           }
          ],
          "contour": [
           {
            "colorbar": {
             "outlinewidth": 0,
             "ticks": ""
            },
            "colorscale": [
             [
              0,
              "#0d0887"
             ],
             [
              0.1111111111111111,
              "#46039f"
             ],
             [
              0.2222222222222222,
              "#7201a8"
             ],
             [
              0.3333333333333333,
              "#9c179e"
             ],
             [
              0.4444444444444444,
              "#bd3786"
             ],
             [
              0.5555555555555556,
              "#d8576b"
             ],
             [
              0.6666666666666666,
              "#ed7953"
             ],
             [
              0.7777777777777778,
              "#fb9f3a"
             ],
             [
              0.8888888888888888,
              "#fdca26"
             ],
             [
              1,
              "#f0f921"
             ]
            ],
            "type": "contour"
           }
          ],
          "contourcarpet": [
           {
            "colorbar": {
             "outlinewidth": 0,
             "ticks": ""
            },
            "type": "contourcarpet"
           }
          ],
          "heatmap": [
           {
            "colorbar": {
             "outlinewidth": 0,
             "ticks": ""
            },
            "colorscale": [
             [
              0,
              "#0d0887"
             ],
             [
              0.1111111111111111,
              "#46039f"
             ],
             [
              0.2222222222222222,
              "#7201a8"
             ],
             [
              0.3333333333333333,
              "#9c179e"
             ],
             [
              0.4444444444444444,
              "#bd3786"
             ],
             [
              0.5555555555555556,
              "#d8576b"
             ],
             [
              0.6666666666666666,
              "#ed7953"
             ],
             [
              0.7777777777777778,
              "#fb9f3a"
             ],
             [
              0.8888888888888888,
              "#fdca26"
             ],
             [
              1,
              "#f0f921"
             ]
            ],
            "type": "heatmap"
           }
          ],
          "heatmapgl": [
           {
            "colorbar": {
             "outlinewidth": 0,
             "ticks": ""
            },
            "colorscale": [
             [
              0,
              "#0d0887"
             ],
             [
              0.1111111111111111,
              "#46039f"
             ],
             [
              0.2222222222222222,
              "#7201a8"
             ],
             [
              0.3333333333333333,
              "#9c179e"
             ],
             [
              0.4444444444444444,
              "#bd3786"
             ],
             [
              0.5555555555555556,
              "#d8576b"
             ],
             [
              0.6666666666666666,
              "#ed7953"
             ],
             [
              0.7777777777777778,
              "#fb9f3a"
             ],
             [
              0.8888888888888888,
              "#fdca26"
             ],
             [
              1,
              "#f0f921"
             ]
            ],
            "type": "heatmapgl"
           }
          ],
          "histogram": [
           {
            "marker": {
             "pattern": {
              "fillmode": "overlay",
              "size": 10,
              "solidity": 0.2
             }
            },
            "type": "histogram"
           }
          ],
          "histogram2d": [
           {
            "colorbar": {
             "outlinewidth": 0,
             "ticks": ""
            },
            "colorscale": [
             [
              0,
              "#0d0887"
             ],
             [
              0.1111111111111111,
              "#46039f"
             ],
             [
              0.2222222222222222,
              "#7201a8"
             ],
             [
              0.3333333333333333,
              "#9c179e"
             ],
             [
              0.4444444444444444,
              "#bd3786"
             ],
             [
              0.5555555555555556,
              "#d8576b"
             ],
             [
              0.6666666666666666,
              "#ed7953"
             ],
             [
              0.7777777777777778,
              "#fb9f3a"
             ],
             [
              0.8888888888888888,
              "#fdca26"
             ],
             [
              1,
              "#f0f921"
             ]
            ],
            "type": "histogram2d"
           }
          ],
          "histogram2dcontour": [
           {
            "colorbar": {
             "outlinewidth": 0,
             "ticks": ""
            },
            "colorscale": [
             [
              0,
              "#0d0887"
             ],
             [
              0.1111111111111111,
              "#46039f"
             ],
             [
              0.2222222222222222,
              "#7201a8"
             ],
             [
              0.3333333333333333,
              "#9c179e"
             ],
             [
              0.4444444444444444,
              "#bd3786"
             ],
             [
              0.5555555555555556,
              "#d8576b"
             ],
             [
              0.6666666666666666,
              "#ed7953"
             ],
             [
              0.7777777777777778,
              "#fb9f3a"
             ],
             [
              0.8888888888888888,
              "#fdca26"
             ],
             [
              1,
              "#f0f921"
             ]
            ],
            "type": "histogram2dcontour"
           }
          ],
          "mesh3d": [
           {
            "colorbar": {
             "outlinewidth": 0,
             "ticks": ""
            },
            "type": "mesh3d"
           }
          ],
          "parcoords": [
           {
            "line": {
             "colorbar": {
              "outlinewidth": 0,
              "ticks": ""
             }
            },
            "type": "parcoords"
           }
          ],
          "pie": [
           {
            "automargin": true,
            "type": "pie"
           }
          ],
          "scatter": [
           {
            "fillpattern": {
             "fillmode": "overlay",
             "size": 10,
             "solidity": 0.2
            },
            "type": "scatter"
           }
          ],
          "scatter3d": [
           {
            "line": {
             "colorbar": {
              "outlinewidth": 0,
              "ticks": ""
             }
            },
            "marker": {
             "colorbar": {
              "outlinewidth": 0,
              "ticks": ""
             }
            },
            "type": "scatter3d"
           }
          ],
          "scattercarpet": [
           {
            "marker": {
             "colorbar": {
              "outlinewidth": 0,
              "ticks": ""
             }
            },
            "type": "scattercarpet"
           }
          ],
          "scattergeo": [
           {
            "marker": {
             "colorbar": {
              "outlinewidth": 0,
              "ticks": ""
             }
            },
            "type": "scattergeo"
           }
          ],
          "scattergl": [
           {
            "marker": {
             "colorbar": {
              "outlinewidth": 0,
              "ticks": ""
             }
            },
            "type": "scattergl"
           }
          ],
          "scattermapbox": [
           {
            "marker": {
             "colorbar": {
              "outlinewidth": 0,
              "ticks": ""
             }
            },
            "type": "scattermapbox"
           }
          ],
          "scatterpolar": [
           {
            "marker": {
             "colorbar": {
              "outlinewidth": 0,
              "ticks": ""
             }
            },
            "type": "scatterpolar"
           }
          ],
          "scatterpolargl": [
           {
            "marker": {
             "colorbar": {
              "outlinewidth": 0,
              "ticks": ""
             }
            },
            "type": "scatterpolargl"
           }
          ],
          "scatterternary": [
           {
            "marker": {
             "colorbar": {
              "outlinewidth": 0,
              "ticks": ""
             }
            },
            "type": "scatterternary"
           }
          ],
          "surface": [
           {
            "colorbar": {
             "outlinewidth": 0,
             "ticks": ""
            },
            "colorscale": [
             [
              0,
              "#0d0887"
             ],
             [
              0.1111111111111111,
              "#46039f"
             ],
             [
              0.2222222222222222,
              "#7201a8"
             ],
             [
              0.3333333333333333,
              "#9c179e"
             ],
             [
              0.4444444444444444,
              "#bd3786"
             ],
             [
              0.5555555555555556,
              "#d8576b"
             ],
             [
              0.6666666666666666,
              "#ed7953"
             ],
             [
              0.7777777777777778,
              "#fb9f3a"
             ],
             [
              0.8888888888888888,
              "#fdca26"
             ],
             [
              1,
              "#f0f921"
             ]
            ],
            "type": "surface"
           }
          ],
          "table": [
           {
            "cells": {
             "fill": {
              "color": "#EBF0F8"
             },
             "line": {
              "color": "white"
             }
            },
            "header": {
             "fill": {
              "color": "#C8D4E3"
             },
             "line": {
              "color": "white"
             }
            },
            "type": "table"
           }
          ]
         },
         "layout": {
          "annotationdefaults": {
           "arrowcolor": "#2a3f5f",
           "arrowhead": 0,
           "arrowwidth": 1
          },
          "autotypenumbers": "strict",
          "coloraxis": {
           "colorbar": {
            "outlinewidth": 0,
            "ticks": ""
           }
          },
          "colorscale": {
           "diverging": [
            [
             0,
             "#8e0152"
            ],
            [
             0.1,
             "#c51b7d"
            ],
            [
             0.2,
             "#de77ae"
            ],
            [
             0.3,
             "#f1b6da"
            ],
            [
             0.4,
             "#fde0ef"
            ],
            [
             0.5,
             "#f7f7f7"
            ],
            [
             0.6,
             "#e6f5d0"
            ],
            [
             0.7,
             "#b8e186"
            ],
            [
             0.8,
             "#7fbc41"
            ],
            [
             0.9,
             "#4d9221"
            ],
            [
             1,
             "#276419"
            ]
           ],
           "sequential": [
            [
             0,
             "#0d0887"
            ],
            [
             0.1111111111111111,
             "#46039f"
            ],
            [
             0.2222222222222222,
             "#7201a8"
            ],
            [
             0.3333333333333333,
             "#9c179e"
            ],
            [
             0.4444444444444444,
             "#bd3786"
            ],
            [
             0.5555555555555556,
             "#d8576b"
            ],
            [
             0.6666666666666666,
             "#ed7953"
            ],
            [
             0.7777777777777778,
             "#fb9f3a"
            ],
            [
             0.8888888888888888,
             "#fdca26"
            ],
            [
             1,
             "#f0f921"
            ]
           ],
           "sequentialminus": [
            [
             0,
             "#0d0887"
            ],
            [
             0.1111111111111111,
             "#46039f"
            ],
            [
             0.2222222222222222,
             "#7201a8"
            ],
            [
             0.3333333333333333,
             "#9c179e"
            ],
            [
             0.4444444444444444,
             "#bd3786"
            ],
            [
             0.5555555555555556,
             "#d8576b"
            ],
            [
             0.6666666666666666,
             "#ed7953"
            ],
            [
             0.7777777777777778,
             "#fb9f3a"
            ],
            [
             0.8888888888888888,
             "#fdca26"
            ],
            [
             1,
             "#f0f921"
            ]
           ]
          },
          "colorway": [
           "#636efa",
           "#EF553B",
           "#00cc96",
           "#ab63fa",
           "#FFA15A",
           "#19d3f3",
           "#FF6692",
           "#B6E880",
           "#FF97FF",
           "#FECB52"
          ],
          "font": {
           "color": "#2a3f5f"
          },
          "geo": {
           "bgcolor": "white",
           "lakecolor": "white",
           "landcolor": "#E5ECF6",
           "showlakes": true,
           "showland": true,
           "subunitcolor": "white"
          },
          "hoverlabel": {
           "align": "left"
          },
          "hovermode": "closest",
          "mapbox": {
           "style": "light"
          },
          "paper_bgcolor": "white",
          "plot_bgcolor": "#E5ECF6",
          "polar": {
           "angularaxis": {
            "gridcolor": "white",
            "linecolor": "white",
            "ticks": ""
           },
           "bgcolor": "#E5ECF6",
           "radialaxis": {
            "gridcolor": "white",
            "linecolor": "white",
            "ticks": ""
           }
          },
          "scene": {
           "xaxis": {
            "backgroundcolor": "#E5ECF6",
            "gridcolor": "white",
            "gridwidth": 2,
            "linecolor": "white",
            "showbackground": true,
            "ticks": "",
            "zerolinecolor": "white"
           },
           "yaxis": {
            "backgroundcolor": "#E5ECF6",
            "gridcolor": "white",
            "gridwidth": 2,
            "linecolor": "white",
            "showbackground": true,
            "ticks": "",
            "zerolinecolor": "white"
           },
           "zaxis": {
            "backgroundcolor": "#E5ECF6",
            "gridcolor": "white",
            "gridwidth": 2,
            "linecolor": "white",
            "showbackground": true,
            "ticks": "",
            "zerolinecolor": "white"
           }
          },
          "shapedefaults": {
           "line": {
            "color": "#2a3f5f"
           }
          },
          "ternary": {
           "aaxis": {
            "gridcolor": "white",
            "linecolor": "white",
            "ticks": ""
           },
           "baxis": {
            "gridcolor": "white",
            "linecolor": "white",
            "ticks": ""
           },
           "bgcolor": "#E5ECF6",
           "caxis": {
            "gridcolor": "white",
            "linecolor": "white",
            "ticks": ""
           }
          },
          "title": {
           "x": 0.05
          },
          "xaxis": {
           "automargin": true,
           "gridcolor": "white",
           "linecolor": "white",
           "ticks": "",
           "title": {
            "standoff": 15
           },
           "zerolinecolor": "white",
           "zerolinewidth": 2
          },
          "yaxis": {
           "automargin": true,
           "gridcolor": "white",
           "linecolor": "white",
           "ticks": "",
           "title": {
            "standoff": 15
           },
           "zerolinecolor": "white",
           "zerolinewidth": 2
          }
         }
        },
        "title": {
         "text": "Scatter Plot of Transaction Count vs. Avg Billing Amount"
        },
        "width": 800,
        "xaxis": {
         "anchor": "y",
         "domain": [
          0,
          1
         ],
         "title": {
          "text": "Transaction Count"
         }
        },
        "yaxis": {
         "anchor": "x",
         "domain": [
          0,
          1
         ],
         "title": {
          "text": "Average Billing Amount"
         }
        }
       }
      },
      "text/html": [
       "<div>                            <div id=\"12a30d2b-7e49-4d4c-9ebe-a7b1f2f973c3\" class=\"plotly-graph-div\" style=\"height:800px; width:800px;\"></div>            <script type=\"text/javascript\">                require([\"plotly\"], function(Plotly) {                    window.PLOTLYENV=window.PLOTLYENV || {};                                    if (document.getElementById(\"12a30d2b-7e49-4d4c-9ebe-a7b1f2f973c3\")) {                    Plotly.newPlot(                        \"12a30d2b-7e49-4d4c-9ebe-a7b1f2f973c3\",                        [{\"customdata\":[[\"Tech Products\"],[\"Books & Literature\"],[\"Fashion\"],[\"Eco-friendly Products\"],[\"Gaming Products\"],[\"Food & Drinks\"],[\"Outdoor Products\"],[\"Family Entertainment\"],[\"Culinary Products\"],[\"Smart Gadgets\"],[\"Auto Services\"],[\"Health & Fitness\"],[\"Home Decor\"],[\"Artistic Products\"],[\"Beauty Products\"],[\"Global Goods\"],[\"Fitness\"],[\"Luxury Products\"],[\"Pet Supplies\"],[\"Wellness Products\"],[\"Hobbies & Crafts\"],[\"Business Services\"],[\"Digital Services\"],[\"Kids Products\"],[\"Technology\"],[\"Pet Care\"],[\"Smart Home\"],[\"Travel & Leisure\"],[\"Electronics\"],[\"Art & Craft\"],[\"Sports & Fitness\"],[\"Health & Wellness\"],[\"Beauty & Personal Care\"],[\"Food & Beverage\"],[\"Wellness\"],[\"Books & Magazines\"],[\"Automotive\"],[\"Gaming\"],[\"Outdoor & Recreation\"],[\"Home & Living\"],[\"Culinary\"],[\"Music & Entertainment\"]],\"hovertemplate\":\"Transaction Count=%{x}<br>Average Billing Amount=%{y}<br>merchant_type=%{customdata[0]}<extra></extra>\",\"legendgroup\":\"\",\"marker\":{\"color\":\"#636efa\",\"symbol\":\"circle\"},\"mode\":\"markers+text\",\"name\":\"\",\"orientation\":\"v\",\"showlegend\":false,\"text\":[\"Tech Products\",\"Books & Literature\",\"Fashion\",\"Eco-friendly Products\",\"Gaming Products\",\"Food & Drinks\",\"Outdoor Products\",\"Family Entertainment\",\"Culinary Products\",\"Smart Gadgets\",\"Auto Services\",\"Health & Fitness\",\"Home Decor\",\"Artistic Products\",\"Beauty Products\",\"Global Goods\",\"Fitness\",\"Luxury Products\",\"Pet Supplies\",\"Wellness Products\",\"Hobbies & Crafts\",\"Business Services\",\"Digital Services\",\"Kids Products\",\"Technology\",\"Pet Care\",\"Smart Home\",\"Travel & Leisure\",\"Electronics\",\"Art & Craft\",\"Sports & Fitness\",\"Health & Wellness\",\"Beauty & Personal Care\",\"Food & Beverage\",\"Wellness\",\"Books & Magazines\",\"Automotive\",\"Gaming\",\"Outdoor & Recreation\",\"Home & Living\",\"Culinary\",\"Music & Entertainment\"],\"x\":[6825,4652,4458,3554,3541,3523,3520,3517,3495,3472,3467,3449,3437,3437,3433,3432,3425,3418,3415,3407,3401,3397,3371,3320,1227,1215,1213,1192,1182,1167,1152,1146,1139,1131,1129,1127,1123,1114,1113,1106,1106,1052],\"xaxis\":\"x\",\"y\":[497583.2401,506462.1586,503731.1247,493771.368,492895.5561,498790.2336,495653.3503,484215.9997,498464.6558,496937.4205,499400.5252,490599.4172,492925.8606,496276.2354,501587.8264,495831.5554,498655.1483,508542.8365,497335.0067,498773.5207,501336.8986,502142.6176,505843.609,489569.997,508230.3635,507374.6288,511525.9934,485476.1594,487057.8562,517626.5501,498029.5469,509882.4468,501271.2906,503232.9788,492622.8202,503676.0222,509366.333,496323.9605,489161.8994,489741.0145,495092.5823,501925.6721],\"yaxis\":\"y\",\"type\":\"scatter\"}],                        {\"template\":{\"data\":{\"histogram2dcontour\":[{\"type\":\"histogram2dcontour\",\"colorbar\":{\"outlinewidth\":0,\"ticks\":\"\"},\"colorscale\":[[0.0,\"#0d0887\"],[0.1111111111111111,\"#46039f\"],[0.2222222222222222,\"#7201a8\"],[0.3333333333333333,\"#9c179e\"],[0.4444444444444444,\"#bd3786\"],[0.5555555555555556,\"#d8576b\"],[0.6666666666666666,\"#ed7953\"],[0.7777777777777778,\"#fb9f3a\"],[0.8888888888888888,\"#fdca26\"],[1.0,\"#f0f921\"]]}],\"choropleth\":[{\"type\":\"choropleth\",\"colorbar\":{\"outlinewidth\":0,\"ticks\":\"\"}}],\"histogram2d\":[{\"type\":\"histogram2d\",\"colorbar\":{\"outlinewidth\":0,\"ticks\":\"\"},\"colorscale\":[[0.0,\"#0d0887\"],[0.1111111111111111,\"#46039f\"],[0.2222222222222222,\"#7201a8\"],[0.3333333333333333,\"#9c179e\"],[0.4444444444444444,\"#bd3786\"],[0.5555555555555556,\"#d8576b\"],[0.6666666666666666,\"#ed7953\"],[0.7777777777777778,\"#fb9f3a\"],[0.8888888888888888,\"#fdca26\"],[1.0,\"#f0f921\"]]}],\"heatmap\":[{\"type\":\"heatmap\",\"colorbar\":{\"outlinewidth\":0,\"ticks\":\"\"},\"colorscale\":[[0.0,\"#0d0887\"],[0.1111111111111111,\"#46039f\"],[0.2222222222222222,\"#7201a8\"],[0.3333333333333333,\"#9c179e\"],[0.4444444444444444,\"#bd3786\"],[0.5555555555555556,\"#d8576b\"],[0.6666666666666666,\"#ed7953\"],[0.7777777777777778,\"#fb9f3a\"],[0.8888888888888888,\"#fdca26\"],[1.0,\"#f0f921\"]]}],\"heatmapgl\":[{\"type\":\"heatmapgl\",\"colorbar\":{\"outlinewidth\":0,\"ticks\":\"\"},\"colorscale\":[[0.0,\"#0d0887\"],[0.1111111111111111,\"#46039f\"],[0.2222222222222222,\"#7201a8\"],[0.3333333333333333,\"#9c179e\"],[0.4444444444444444,\"#bd3786\"],[0.5555555555555556,\"#d8576b\"],[0.6666666666666666,\"#ed7953\"],[0.7777777777777778,\"#fb9f3a\"],[0.8888888888888888,\"#fdca26\"],[1.0,\"#f0f921\"]]}],\"contourcarpet\":[{\"type\":\"contourcarpet\",\"colorbar\":{\"outlinewidth\":0,\"ticks\":\"\"}}],\"contour\":[{\"type\":\"contour\",\"colorbar\":{\"outlinewidth\":0,\"ticks\":\"\"},\"colorscale\":[[0.0,\"#0d0887\"],[0.1111111111111111,\"#46039f\"],[0.2222222222222222,\"#7201a8\"],[0.3333333333333333,\"#9c179e\"],[0.4444444444444444,\"#bd3786\"],[0.5555555555555556,\"#d8576b\"],[0.6666666666666666,\"#ed7953\"],[0.7777777777777778,\"#fb9f3a\"],[0.8888888888888888,\"#fdca26\"],[1.0,\"#f0f921\"]]}],\"surface\":[{\"type\":\"surface\",\"colorbar\":{\"outlinewidth\":0,\"ticks\":\"\"},\"colorscale\":[[0.0,\"#0d0887\"],[0.1111111111111111,\"#46039f\"],[0.2222222222222222,\"#7201a8\"],[0.3333333333333333,\"#9c179e\"],[0.4444444444444444,\"#bd3786\"],[0.5555555555555556,\"#d8576b\"],[0.6666666666666666,\"#ed7953\"],[0.7777777777777778,\"#fb9f3a\"],[0.8888888888888888,\"#fdca26\"],[1.0,\"#f0f921\"]]}],\"mesh3d\":[{\"type\":\"mesh3d\",\"colorbar\":{\"outlinewidth\":0,\"ticks\":\"\"}}],\"scatter\":[{\"fillpattern\":{\"fillmode\":\"overlay\",\"size\":10,\"solidity\":0.2},\"type\":\"scatter\"}],\"parcoords\":[{\"type\":\"parcoords\",\"line\":{\"colorbar\":{\"outlinewidth\":0,\"ticks\":\"\"}}}],\"scatterpolargl\":[{\"type\":\"scatterpolargl\",\"marker\":{\"colorbar\":{\"outlinewidth\":0,\"ticks\":\"\"}}}],\"bar\":[{\"error_x\":{\"color\":\"#2a3f5f\"},\"error_y\":{\"color\":\"#2a3f5f\"},\"marker\":{\"line\":{\"color\":\"#E5ECF6\",\"width\":0.5},\"pattern\":{\"fillmode\":\"overlay\",\"size\":10,\"solidity\":0.2}},\"type\":\"bar\"}],\"scattergeo\":[{\"type\":\"scattergeo\",\"marker\":{\"colorbar\":{\"outlinewidth\":0,\"ticks\":\"\"}}}],\"scatterpolar\":[{\"type\":\"scatterpolar\",\"marker\":{\"colorbar\":{\"outlinewidth\":0,\"ticks\":\"\"}}}],\"histogram\":[{\"marker\":{\"pattern\":{\"fillmode\":\"overlay\",\"size\":10,\"solidity\":0.2}},\"type\":\"histogram\"}],\"scattergl\":[{\"type\":\"scattergl\",\"marker\":{\"colorbar\":{\"outlinewidth\":0,\"ticks\":\"\"}}}],\"scatter3d\":[{\"type\":\"scatter3d\",\"line\":{\"colorbar\":{\"outlinewidth\":0,\"ticks\":\"\"}},\"marker\":{\"colorbar\":{\"outlinewidth\":0,\"ticks\":\"\"}}}],\"scattermapbox\":[{\"type\":\"scattermapbox\",\"marker\":{\"colorbar\":{\"outlinewidth\":0,\"ticks\":\"\"}}}],\"scatterternary\":[{\"type\":\"scatterternary\",\"marker\":{\"colorbar\":{\"outlinewidth\":0,\"ticks\":\"\"}}}],\"scattercarpet\":[{\"type\":\"scattercarpet\",\"marker\":{\"colorbar\":{\"outlinewidth\":0,\"ticks\":\"\"}}}],\"carpet\":[{\"aaxis\":{\"endlinecolor\":\"#2a3f5f\",\"gridcolor\":\"white\",\"linecolor\":\"white\",\"minorgridcolor\":\"white\",\"startlinecolor\":\"#2a3f5f\"},\"baxis\":{\"endlinecolor\":\"#2a3f5f\",\"gridcolor\":\"white\",\"linecolor\":\"white\",\"minorgridcolor\":\"white\",\"startlinecolor\":\"#2a3f5f\"},\"type\":\"carpet\"}],\"table\":[{\"cells\":{\"fill\":{\"color\":\"#EBF0F8\"},\"line\":{\"color\":\"white\"}},\"header\":{\"fill\":{\"color\":\"#C8D4E3\"},\"line\":{\"color\":\"white\"}},\"type\":\"table\"}],\"barpolar\":[{\"marker\":{\"line\":{\"color\":\"#E5ECF6\",\"width\":0.5},\"pattern\":{\"fillmode\":\"overlay\",\"size\":10,\"solidity\":0.2}},\"type\":\"barpolar\"}],\"pie\":[{\"automargin\":true,\"type\":\"pie\"}]},\"layout\":{\"autotypenumbers\":\"strict\",\"colorway\":[\"#636efa\",\"#EF553B\",\"#00cc96\",\"#ab63fa\",\"#FFA15A\",\"#19d3f3\",\"#FF6692\",\"#B6E880\",\"#FF97FF\",\"#FECB52\"],\"font\":{\"color\":\"#2a3f5f\"},\"hovermode\":\"closest\",\"hoverlabel\":{\"align\":\"left\"},\"paper_bgcolor\":\"white\",\"plot_bgcolor\":\"#E5ECF6\",\"polar\":{\"bgcolor\":\"#E5ECF6\",\"angularaxis\":{\"gridcolor\":\"white\",\"linecolor\":\"white\",\"ticks\":\"\"},\"radialaxis\":{\"gridcolor\":\"white\",\"linecolor\":\"white\",\"ticks\":\"\"}},\"ternary\":{\"bgcolor\":\"#E5ECF6\",\"aaxis\":{\"gridcolor\":\"white\",\"linecolor\":\"white\",\"ticks\":\"\"},\"baxis\":{\"gridcolor\":\"white\",\"linecolor\":\"white\",\"ticks\":\"\"},\"caxis\":{\"gridcolor\":\"white\",\"linecolor\":\"white\",\"ticks\":\"\"}},\"coloraxis\":{\"colorbar\":{\"outlinewidth\":0,\"ticks\":\"\"}},\"colorscale\":{\"sequential\":[[0.0,\"#0d0887\"],[0.1111111111111111,\"#46039f\"],[0.2222222222222222,\"#7201a8\"],[0.3333333333333333,\"#9c179e\"],[0.4444444444444444,\"#bd3786\"],[0.5555555555555556,\"#d8576b\"],[0.6666666666666666,\"#ed7953\"],[0.7777777777777778,\"#fb9f3a\"],[0.8888888888888888,\"#fdca26\"],[1.0,\"#f0f921\"]],\"sequentialminus\":[[0.0,\"#0d0887\"],[0.1111111111111111,\"#46039f\"],[0.2222222222222222,\"#7201a8\"],[0.3333333333333333,\"#9c179e\"],[0.4444444444444444,\"#bd3786\"],[0.5555555555555556,\"#d8576b\"],[0.6666666666666666,\"#ed7953\"],[0.7777777777777778,\"#fb9f3a\"],[0.8888888888888888,\"#fdca26\"],[1.0,\"#f0f921\"]],\"diverging\":[[0,\"#8e0152\"],[0.1,\"#c51b7d\"],[0.2,\"#de77ae\"],[0.3,\"#f1b6da\"],[0.4,\"#fde0ef\"],[0.5,\"#f7f7f7\"],[0.6,\"#e6f5d0\"],[0.7,\"#b8e186\"],[0.8,\"#7fbc41\"],[0.9,\"#4d9221\"],[1,\"#276419\"]]},\"xaxis\":{\"gridcolor\":\"white\",\"linecolor\":\"white\",\"ticks\":\"\",\"title\":{\"standoff\":15},\"zerolinecolor\":\"white\",\"automargin\":true,\"zerolinewidth\":2},\"yaxis\":{\"gridcolor\":\"white\",\"linecolor\":\"white\",\"ticks\":\"\",\"title\":{\"standoff\":15},\"zerolinecolor\":\"white\",\"automargin\":true,\"zerolinewidth\":2},\"scene\":{\"xaxis\":{\"backgroundcolor\":\"#E5ECF6\",\"gridcolor\":\"white\",\"linecolor\":\"white\",\"showbackground\":true,\"ticks\":\"\",\"zerolinecolor\":\"white\",\"gridwidth\":2},\"yaxis\":{\"backgroundcolor\":\"#E5ECF6\",\"gridcolor\":\"white\",\"linecolor\":\"white\",\"showbackground\":true,\"ticks\":\"\",\"zerolinecolor\":\"white\",\"gridwidth\":2},\"zaxis\":{\"backgroundcolor\":\"#E5ECF6\",\"gridcolor\":\"white\",\"linecolor\":\"white\",\"showbackground\":true,\"ticks\":\"\",\"zerolinecolor\":\"white\",\"gridwidth\":2}},\"shapedefaults\":{\"line\":{\"color\":\"#2a3f5f\"}},\"annotationdefaults\":{\"arrowcolor\":\"#2a3f5f\",\"arrowhead\":0,\"arrowwidth\":1},\"geo\":{\"bgcolor\":\"white\",\"landcolor\":\"#E5ECF6\",\"subunitcolor\":\"white\",\"showland\":true,\"showlakes\":true,\"lakecolor\":\"white\"},\"title\":{\"x\":0.05},\"mapbox\":{\"style\":\"light\"}}},\"xaxis\":{\"anchor\":\"y\",\"domain\":[0.0,1.0],\"title\":{\"text\":\"Transaction Count\"}},\"yaxis\":{\"anchor\":\"x\",\"domain\":[0.0,1.0],\"title\":{\"text\":\"Average Billing Amount\"}},\"legend\":{\"tracegroupgap\":0},\"title\":{\"text\":\"Scatter Plot of Transaction Count vs. Avg Billing Amount\"},\"showlegend\":false,\"hovermode\":\"closest\",\"width\":800,\"height\":800},                        {\"responsive\": true}                    ).then(function(){\n",
       "                            \n",
       "var gd = document.getElementById('12a30d2b-7e49-4d4c-9ebe-a7b1f2f973c3');\n",
       "var x = new MutationObserver(function (mutations, observer) {{\n",
       "        var display = window.getComputedStyle(gd).display;\n",
       "        if (!display || display === 'none') {{\n",
       "            console.log([gd, 'removed!']);\n",
       "            Plotly.purge(gd);\n",
       "            observer.disconnect();\n",
       "        }}\n",
       "}});\n",
       "\n",
       "// Listen for the removal of the full notebook cells\n",
       "var notebookContainer = gd.closest('#notebook-container');\n",
       "if (notebookContainer) {{\n",
       "    x.observe(notebookContainer, {childList: true});\n",
       "}}\n",
       "\n",
       "// Listen for the clearing of the current output cell\n",
       "var outputEl = gd.closest('.output');\n",
       "if (outputEl) {{\n",
       "    x.observe(outputEl, {childList: true});\n",
       "}}\n",
       "\n",
       "                        })                };                });            </script>        </div>"
      ]
     },
     "metadata": {},
     "output_type": "display_data"
    }
   ],
   "source": [
    "fig = px.scatter(merged_df, \n",
    "                 x='transaction_count', \n",
    "                 y='avg_billing_amount', \n",
    "                 text='merchant_type', \n",
    "                 title='Scatter Plot of Transaction Count vs. Avg Billing Amount',\n",
    "                 labels={'transaction_count': 'Transaction Count', 'avg_billing_amount': 'Average Billing Amount'},\n",
    "                 hover_data=['merchant_type'])\n",
    "fig.update_layout(\n",
    "    showlegend=False,  # Hide legend for simplicity\n",
    "    xaxis_title='Transaction Count',\n",
    "    yaxis_title='Average Billing Amount',\n",
    "    hovermode='closest',\n",
    "    width=800, \n",
    "    height=800, \n",
    "    \n",
    ")\n",
    "fig.show()"
   ]
  },
  {
   "cell_type": "code",
   "execution_count": 216,
   "id": "2428a816",
   "metadata": {},
   "outputs": [
    {
     "data": {
      "text/html": [
       "<div>\n",
       "<style scoped>\n",
       "    .dataframe tbody tr th:only-of-type {\n",
       "        vertical-align: middle;\n",
       "    }\n",
       "\n",
       "    .dataframe tbody tr th {\n",
       "        vertical-align: top;\n",
       "    }\n",
       "\n",
       "    .dataframe thead th {\n",
       "        text-align: right;\n",
       "    }\n",
       "</style>\n",
       "<table border=\"1\" class=\"dataframe\">\n",
       "  <thead>\n",
       "    <tr style=\"text-align: right;\">\n",
       "      <th></th>\n",
       "      <th>transaction_currency</th>\n",
       "      <th>billing_transaction_ratio</th>\n",
       "    </tr>\n",
       "  </thead>\n",
       "  <tbody>\n",
       "    <tr>\n",
       "      <th>0</th>\n",
       "      <td>AED</td>\n",
       "      <td>2.187270</td>\n",
       "    </tr>\n",
       "    <tr>\n",
       "      <th>1</th>\n",
       "      <td>AFN</td>\n",
       "      <td>5.412267</td>\n",
       "    </tr>\n",
       "    <tr>\n",
       "      <th>2</th>\n",
       "      <td>ALL</td>\n",
       "      <td>2.976406</td>\n",
       "    </tr>\n",
       "    <tr>\n",
       "      <th>3</th>\n",
       "      <td>AMD</td>\n",
       "      <td>22.049902</td>\n",
       "    </tr>\n",
       "    <tr>\n",
       "      <th>4</th>\n",
       "      <td>ANG</td>\n",
       "      <td>1.485917</td>\n",
       "    </tr>\n",
       "    <tr>\n",
       "      <th>...</th>\n",
       "      <td>...</td>\n",
       "      <td>...</td>\n",
       "    </tr>\n",
       "    <tr>\n",
       "      <th>150</th>\n",
       "      <td>XPF</td>\n",
       "      <td>6.476507</td>\n",
       "    </tr>\n",
       "    <tr>\n",
       "      <th>151</th>\n",
       "      <td>YER</td>\n",
       "      <td>2.585372</td>\n",
       "    </tr>\n",
       "    <tr>\n",
       "      <th>152</th>\n",
       "      <td>ZAR</td>\n",
       "      <td>4.190268</td>\n",
       "    </tr>\n",
       "    <tr>\n",
       "      <th>153</th>\n",
       "      <td>ZMW</td>\n",
       "      <td>2.367023</td>\n",
       "    </tr>\n",
       "    <tr>\n",
       "      <th>154</th>\n",
       "      <td>ZWL</td>\n",
       "      <td>2.664677</td>\n",
       "    </tr>\n",
       "  </tbody>\n",
       "</table>\n",
       "<p>155 rows × 2 columns</p>\n",
       "</div>"
      ],
      "text/plain": [
       "    transaction_currency  billing_transaction_ratio\n",
       "0                    AED                   2.187270\n",
       "1                    AFN                   5.412267\n",
       "2                    ALL                   2.976406\n",
       "3                    AMD                  22.049902\n",
       "4                    ANG                   1.485917\n",
       "..                   ...                        ...\n",
       "150                  XPF                   6.476507\n",
       "151                  YER                   2.585372\n",
       "152                  ZAR                   4.190268\n",
       "153                  ZMW                   2.367023\n",
       "154                  ZWL                   2.664677\n",
       "\n",
       "[155 rows x 2 columns]"
      ]
     },
     "execution_count": 216,
     "metadata": {},
     "output_type": "execute_result"
    }
   ],
   "source": [
    "df['billing_transaction_ratio'] = df['billing_amount'] / df['transaction_amount']\n",
    "result = df.groupby('transaction_currency')['billing_transaction_ratio'].mean().reset_index()\n",
    "result"
   ]
  },
  {
   "cell_type": "code",
   "execution_count": 217,
   "id": "6012f32a",
   "metadata": {},
   "outputs": [
    {
     "data": {
      "text/plain": [
       "id                                0\n",
       "user_id                           0\n",
       "merchant_name                     0\n",
       "merchant_type                     0\n",
       "mcc                               0\n",
       "transaction_amount                0\n",
       "transaction_currency              0\n",
       "billing_amount                    0\n",
       "billing_currency                  0\n",
       "transaction_status                0\n",
       "transaction_timestamp             0\n",
       "transaction_type                  0\n",
       "parent_transaction_id        103654\n",
       "card_entry                        0\n",
       "billing_transaction_ratio         0\n",
       "dtype: int64"
      ]
     },
     "execution_count": 217,
     "metadata": {},
     "output_type": "execute_result"
    }
   ],
   "source": [
    "df.isna().sum()"
   ]
  },
  {
   "cell_type": "code",
   "execution_count": 219,
   "id": "cae6c497",
   "metadata": {},
   "outputs": [
    {
     "data": {
      "text/plain": [
       "array(['EUR', 'BRL', 'CNY', 'CAD', 'IDR', 'SYP', 'PLN', 'UAH', 'CZK',\n",
       "       'HTG', 'PEN', 'PHP', 'USD', 'THB', 'MYR', 'MXN', 'ZAR', 'MKD',\n",
       "       'AMD', 'MZN', 'RUB', 'JOD', 'JPY', 'SEK', 'TND', 'ILS', 'BDT',\n",
       "       'FJD', 'HRK', 'MAD', 'NOK', 'PGK', 'KMF', 'VND', 'ARS', 'PAB',\n",
       "       'MWK', 'MNT', 'VEF', 'YER', 'RSD', 'UGX', 'CRC', 'SDG', 'EGP',\n",
       "       'GTQ', 'UYU', 'HUF', 'XOF', 'XAF', 'LKR', 'MDL', 'LTL', 'HNL',\n",
       "       'NIO', 'IRR', 'LYD', 'KZT', 'UZS', 'SAR', 'DKK', 'NGN', 'COP',\n",
       "       'BWP', 'KES', 'ALL', 'GMD', 'NPR', 'OMR', 'GBP', 'DOP', 'MGA',\n",
       "       'PKR', 'AFN', 'MVR', 'ZMW', 'KPW', 'NAD', 'CUP', 'CDF', 'LRD',\n",
       "       'TZS', 'MUR', 'AZN', 'BYR', 'BGN', 'AOA', 'KRW', 'XCD', 'BOB',\n",
       "       'JMD', 'PYG', 'KGS', 'BAM', 'CLP', 'GHS', 'TJS', 'AUD', 'XPF',\n",
       "       'GEL', 'SLL', 'ZWL', 'SBD', 'KHR', 'IQD', 'MMK', 'ETB', 'BSD',\n",
       "       'NZD', 'RON', 'STD', 'MOP', 'HKD', 'TMT', 'WST', 'AED', 'LAK',\n",
       "       'KWD', 'GNF', 'SOS', 'MRO', 'BHD', 'BTN', 'BIF', 'LSL', 'TWD',\n",
       "       'QAR', 'CHF', 'SGD', 'SZL', 'ANG', 'SCR', 'SRD', 'INR', 'CVE',\n",
       "       'TTD', 'BZD', 'SSP', 'RWF', 'LBP', 'BND', 'ISK', 'ERN', 'BBD',\n",
       "       'GYD', 'KYD', 'TRY', 'DJF', 'AWG', 'VUV', 'SHP', 'TOP', 'FKP',\n",
       "       'BMD', 'DZD'], dtype=object)"
      ]
     },
     "execution_count": 219,
     "metadata": {},
     "output_type": "execute_result"
    }
   ],
   "source": [
    "df['transaction_currency'].unique()"
   ]
  },
  {
   "cell_type": "code",
   "execution_count": null,
   "id": "e4cf000a",
   "metadata": {},
   "outputs": [],
   "source": []
  }
 ],
 "metadata": {
  "kernelspec": {
   "display_name": "Python 3 (ipykernel)",
   "language": "python",
   "name": "python3"
  },
  "language_info": {
   "codemirror_mode": {
    "name": "ipython",
    "version": 3
   },
   "file_extension": ".py",
   "mimetype": "text/x-python",
   "name": "python",
   "nbconvert_exporter": "python",
   "pygments_lexer": "ipython3",
   "version": "3.10.9"
  }
 },
 "nbformat": 4,
 "nbformat_minor": 5
}
